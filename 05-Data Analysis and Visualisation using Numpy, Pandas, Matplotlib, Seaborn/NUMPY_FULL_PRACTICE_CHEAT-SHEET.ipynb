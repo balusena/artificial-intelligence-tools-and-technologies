{
 "cells": [
  {
   "cell_type": "markdown",
   "metadata": {},
   "source": [
    "# Data Analysis with Numpy"
   ]
  },
  {
   "cell_type": "code",
   "execution_count": 1,
   "metadata": {
    "scrolled": true
   },
   "outputs": [
    {
     "name": "stdout",
     "output_type": "stream",
     "text": [
      "[1 2 3 4]\n"
     ]
    }
   ],
   "source": [
    "# *****1.Creating a NumPy Array****\n",
    "# Basic ndarray\n",
    "\n",
    "import numpy as np\n",
    "a = np.array([1,2,3,4])\n",
    "print(a)"
   ]
  },
  {
   "cell_type": "code",
   "execution_count": 2,
   "metadata": {
    "scrolled": true
   },
   "outputs": [
    {
     "data": {
      "text/plain": [
       "array([1, 2, 3, 4, 5])"
      ]
     },
     "execution_count": 2,
     "metadata": {},
     "output_type": "execute_result"
    }
   ],
   "source": [
    "#To get the basic information from the created array using np.array\n",
    "\n",
    "a = np.array([1,2,3,4,5])\n",
    "a # [1 2 3 4 5]"
   ]
  },
  {
   "cell_type": "code",
   "execution_count": 3,
   "metadata": {},
   "outputs": [
    {
     "data": {
      "text/plain": [
       "(5,)"
      ]
     },
     "execution_count": 3,
     "metadata": {},
     "output_type": "execute_result"
    }
   ],
   "source": [
    "#To get the shape of the array\n",
    "\n",
    "a.shape # shape of the array: (5,)"
   ]
  },
  {
   "cell_type": "code",
   "execution_count": 4,
   "metadata": {
    "scrolled": true
   },
   "outputs": [
    {
     "data": {
      "text/plain": [
       "dtype('int32')"
      ]
     },
     "execution_count": 4,
     "metadata": {},
     "output_type": "execute_result"
    }
   ],
   "source": [
    "#To get the datatype of the array\n",
    "\n",
    "a.dtype # type of the elements: int32"
   ]
  },
  {
   "cell_type": "code",
   "execution_count": 5,
   "metadata": {
    "scrolled": true
   },
   "outputs": [
    {
     "data": {
      "text/plain": [
       "1"
      ]
     },
     "execution_count": 5,
     "metadata": {},
     "output_type": "execute_result"
    }
   ],
   "source": [
    "#To get the number of dimensions of the array\n",
    "\n",
    "a.ndim # number of dimensions: 1"
   ]
  },
  {
   "cell_type": "code",
   "execution_count": 6,
   "metadata": {
    "scrolled": true
   },
   "outputs": [
    {
     "data": {
      "text/plain": [
       "5"
      ]
     },
     "execution_count": 6,
     "metadata": {},
     "output_type": "execute_result"
    }
   ],
   "source": [
    "#To get the size/total number of elements in the array\n",
    "\n",
    "a.size # total number of elements: 5"
   ]
  },
  {
   "cell_type": "code",
   "execution_count": 7,
   "metadata": {
    "scrolled": true
   },
   "outputs": [
    {
     "data": {
      "text/plain": [
       "4"
      ]
     },
     "execution_count": 7,
     "metadata": {},
     "output_type": "execute_result"
    }
   ],
   "source": [
    "#To get the size in bytes of each element in the array\n",
    "\n",
    "a.itemsize # the size in bytes of each element: 4"
   ]
  },
  {
   "cell_type": "code",
   "execution_count": 8,
   "metadata": {
    "scrolled": true
   },
   "outputs": [
    {
     "name": "stdout",
     "output_type": "stream",
     "text": [
      "[[1 2 3 4]\n",
      " [5 6 7 8]]\n"
     ]
    }
   ],
   "source": [
    "#Creating Multidimentional arrays in numpy\n",
    "\n",
    "#creating 2-D array\n",
    "a = np.array([[1,2,3,4],[5,6,7,8]])\n",
    "print(a)"
   ]
  },
  {
   "cell_type": "code",
   "execution_count": 9,
   "metadata": {
    "scrolled": true
   },
   "outputs": [
    {
     "name": "stdout",
     "output_type": "stream",
     "text": [
      "[[ 1  2  3  4]\n",
      " [ 5  6  7  8]\n",
      " [ 9 10 11 12]]\n"
     ]
    }
   ],
   "source": [
    "#Creating 3-D array\n",
    "\n",
    "a = np.array([[1,2,3,4],[5,6,7,8],[9,10,11,12]])\n",
    "print(a)"
   ]
  },
  {
   "cell_type": "code",
   "execution_count": 10,
   "metadata": {
    "scrolled": true
   },
   "outputs": [
    {
     "name": "stdout",
     "output_type": "stream",
     "text": [
      "[[ 1  2  3  4]\n",
      " [ 5  6  7  8]\n",
      " [ 9 10 11 12]\n",
      " [13 14 15 16]]\n"
     ]
    }
   ],
   "source": [
    "#Creating 4-D array\n",
    "\n",
    "a = np.array([[1,2,3,4],[5,6,7,8],[9,10,11,12],[13,14,15,16]])\n",
    "print(a)"
   ]
  },
  {
   "cell_type": "code",
   "execution_count": 11,
   "metadata": {
    "scrolled": true
   },
   "outputs": [
    {
     "name": "stdout",
     "output_type": "stream",
     "text": [
      "[0. 0. 0.]\n"
     ]
    }
   ],
   "source": [
    "#Array of zeros\n",
    "#All you have to do is pass the shape of the desired array<here shape = 5>:\n",
    "#This is 1-D array\n",
    "\n",
    "a = np.zeros(3)\n",
    "print(a)"
   ]
  },
  {
   "cell_type": "code",
   "execution_count": 12,
   "metadata": {
    "scrolled": true
   },
   "outputs": [
    {
     "name": "stdout",
     "output_type": "stream",
     "text": [
      "[[0. 0. 0.]\n",
      " [0. 0. 0.]]\n"
     ]
    }
   ],
   "source": [
    "#This is 2-D array here 2 = rows(denoted by n) and 3 = columns(denoted by m)\n",
    "\n",
    "a = np.zeros((2,3))\n",
    "print(a)"
   ]
  },
  {
   "cell_type": "code",
   "execution_count": 13,
   "metadata": {
    "scrolled": true
   },
   "outputs": [
    {
     "name": "stdout",
     "output_type": "stream",
     "text": [
      "[[0. 0. 0.]\n",
      " [0. 0. 0.]\n",
      " [0. 0. 0.]]\n"
     ]
    }
   ],
   "source": [
    "#This is 3-D array here 3 = rows(denoted by n) and 3 = columns(denoted by m)\n",
    "\n",
    "a = np.zeros((3,3))\n",
    "print(a)"
   ]
  },
  {
   "cell_type": "code",
   "execution_count": 14,
   "metadata": {
    "scrolled": true
   },
   "outputs": [
    {
     "name": "stdout",
     "output_type": "stream",
     "text": [
      "[1 1 1]\n"
     ]
    }
   ],
   "source": [
    "#Array of ones\n",
    "\n",
    "#This is 1-D array\n",
    "a = np.ones(3,dtype = np.int32)\n",
    "print(a)"
   ]
  },
  {
   "cell_type": "code",
   "execution_count": 15,
   "metadata": {
    "scrolled": true
   },
   "outputs": [
    {
     "name": "stdout",
     "output_type": "stream",
     "text": [
      "[[1. 1. 1.]\n",
      " [1. 1. 1.]]\n"
     ]
    }
   ],
   "source": [
    "#This is 2-D array here 2 = rows(denoted by n) and 3 = columns(denoted by m)\n",
    "\n",
    "a = np.ones((2,3))\n",
    "print(a)"
   ]
  },
  {
   "cell_type": "code",
   "execution_count": 16,
   "metadata": {
    "scrolled": true
   },
   "outputs": [
    {
     "name": "stdout",
     "output_type": "stream",
     "text": [
      "[[1. 1. 1.]\n",
      " [1. 1. 1.]\n",
      " [1. 1. 1.]]\n"
     ]
    }
   ],
   "source": [
    "#This is 3-D array here 3 = rows(denoted by n) and 3 = columns(denoted by m)\n",
    "\n",
    "a = np.ones((3,3))\n",
    "print(a)"
   ]
  },
  {
   "cell_type": "code",
   "execution_count": 17,
   "metadata": {
    "scrolled": true
   },
   "outputs": [
    {
     "name": "stdout",
     "output_type": "stream",
     "text": [
      "[0.72599072 0.49436282 0.48596828]\n"
     ]
    }
   ],
   "source": [
    "#Random numbers in ndarrays\n",
    "# Random Decimal values\n",
    "#It creates an array of a given shape with random values from [0,1):\n",
    "\n",
    "#This is 1-D array\n",
    "a = np.random.rand(3)\n",
    "print(a)"
   ]
  },
  {
   "cell_type": "code",
   "execution_count": 18,
   "metadata": {
    "scrolled": true
   },
   "outputs": [
    {
     "name": "stdout",
     "output_type": "stream",
     "text": [
      "[[0.50602482 0.81188432 0.38819712]\n",
      " [0.00944638 0.90347352 0.28031565]]\n"
     ]
    }
   ],
   "source": [
    "#This is 2-D array\n",
    "\n",
    "a = np.random.rand(2,3)\n",
    "print(a)"
   ]
  },
  {
   "cell_type": "code",
   "execution_count": 19,
   "metadata": {
    "scrolled": true
   },
   "outputs": [
    {
     "name": "stdout",
     "output_type": "stream",
     "text": [
      "[[0.95105481 0.54083509 0.11660774]\n",
      " [0.23688788 0.69632329 0.69696663]\n",
      " [0.85164942 0.78684535 0.47719465]]\n"
     ]
    }
   ],
   "source": [
    "#This is 3-D array\n",
    "\n",
    "a = np.random.rand(3,3)\n",
    "print(a)"
   ]
  },
  {
   "cell_type": "code",
   "execution_count": 20,
   "metadata": {},
   "outputs": [
    {
     "name": "stdout",
     "output_type": "stream",
     "text": [
      "[[ 2  6  7]\n",
      " [ 1 -4 -3]\n",
      " [ 6  5  3]]\n"
     ]
    }
   ],
   "source": [
    "# Random Integer values\n",
    "a = np.random.randint(-4,8, size=(3,3))\n",
    "print(a)"
   ]
  },
  {
   "cell_type": "code",
   "execution_count": 21,
   "metadata": {
    "scrolled": true
   },
   "outputs": [
    {
     "name": "stdout",
     "output_type": "stream",
     "text": [
      "[[1 0 0]]\n"
     ]
    }
   ],
   "source": [
    "# An array of your choice\n",
    "\n",
    "# Or, in fact, you can create an array filled with any given value using the np.full() method. \n",
    "# Just pass in the shape of the desired array and the value you want:\n",
    "\n",
    "#1-D array\n",
    "a = np.full((1,3),[[1,0,0]])\n",
    "print(a)"
   ]
  },
  {
   "cell_type": "code",
   "execution_count": 22,
   "metadata": {},
   "outputs": [
    {
     "name": "stdout",
     "output_type": "stream",
     "text": [
      "[[1 0 0]\n",
      " [0 1 0]]\n"
     ]
    }
   ],
   "source": [
    "#2-D array\n",
    "\n",
    "a = np.full((2,3),[[1,0,0],[0,1,0]])\n",
    "print(a)"
   ]
  },
  {
   "cell_type": "code",
   "execution_count": 23,
   "metadata": {
    "scrolled": true
   },
   "outputs": [
    {
     "name": "stdout",
     "output_type": "stream",
     "text": [
      "[[1 0 0]\n",
      " [0 1 0]\n",
      " [0 0 1]]\n"
     ]
    }
   ],
   "source": [
    "#3-D array\n",
    "\n",
    "a = np.full((3,3),[[1,0,0],[0,1,0],[0,0,1]])\n",
    "print(a)"
   ]
  },
  {
   "cell_type": "code",
   "execution_count": 24,
   "metadata": {
    "scrolled": true
   },
   "outputs": [
    {
     "name": "stdout",
     "output_type": "stream",
     "text": [
      "[[4 4 4 4 4]\n",
      " [4 4 4 4 4]]\n"
     ]
    }
   ],
   "source": [
    "# To fill a desired number completely in the array\n",
    "\n",
    "a = np.array([[1,2,3,4,5],[6,7,8,9,10]]) \n",
    "b = np.full_like(a, 4)\n",
    "print(b)"
   ]
  },
  {
   "cell_type": "code",
   "execution_count": 25,
   "metadata": {
    "scrolled": true
   },
   "outputs": [
    {
     "name": "stdout",
     "output_type": "stream",
     "text": [
      "[[1. 0. 0. 0. 0.]\n",
      " [0. 1. 0. 0. 0.]\n",
      " [0. 0. 1. 0. 0.]\n",
      " [0. 0. 0. 1. 0.]\n",
      " [0. 0. 0. 0. 1.]]\n"
     ]
    }
   ],
   "source": [
    "# The identity matrix\n",
    "\n",
    "a = np.identity(5)\n",
    "print(a)"
   ]
  },
  {
   "cell_type": "code",
   "execution_count": 26,
   "metadata": {
    "scrolled": true
   },
   "outputs": [
    {
     "name": "stdout",
     "output_type": "stream",
     "text": [
      "[[1. 0. 0.]\n",
      " [0. 1. 0.]\n",
      " [0. 0. 1.]]\n"
     ]
    }
   ],
   "source": [
    "# identity matrix\n",
    "# Imatrix in NumPy\n",
    "# Another great method is np.eye() that returns an array with 1s along its diagonal and 0s everywhere else.\n",
    "\n",
    "a = np.eye(3)\n",
    "print(a)"
   ]
  },
  {
   "cell_type": "code",
   "execution_count": 27,
   "metadata": {
    "scrolled": true
   },
   "outputs": [
    {
     "name": "stdout",
     "output_type": "stream",
     "text": [
      "[[0. 1. 0.]\n",
      " [0. 0. 1.]\n",
      " [0. 0. 0.]]\n"
     ]
    }
   ],
   "source": [
    "# not an identity matrix\n",
    "#k = 1 +ve value indicates upper side diagonal\n",
    "a = np.eye(3,k=1)\n",
    "print(a)"
   ]
  },
  {
   "cell_type": "code",
   "execution_count": 28,
   "metadata": {
    "scrolled": true
   },
   "outputs": [
    {
     "data": {
      "text/plain": [
       "array([[0., 0., 0.],\n",
       "       [0., 0., 0.],\n",
       "       [1., 0., 0.]])"
      ]
     },
     "execution_count": 28,
     "metadata": {},
     "output_type": "execute_result"
    }
   ],
   "source": [
    "# not an identity matrix\n",
    "#k = 1 -ve value indicates lower side diagonal\n",
    "\n",
    "np.eye(3,k=-2)"
   ]
  },
  {
   "cell_type": "code",
   "execution_count": 29,
   "metadata": {
    "scrolled": true
   },
   "outputs": [
    {
     "name": "stdout",
     "output_type": "stream",
     "text": [
      "[[1 2 3]\n",
      " [1 2 3]\n",
      " [1 2 3]]\n"
     ]
    }
   ],
   "source": [
    "# To Repeat an array\n",
    "\n",
    "a = np.array([[1,2,3]])\n",
    "r = np.repeat(a,3, axis=0)\n",
    "print(r)"
   ]
  },
  {
   "cell_type": "code",
   "execution_count": 30,
   "metadata": {
    "scrolled": true
   },
   "outputs": [
    {
     "name": "stdout",
     "output_type": "stream",
     "text": [
      "a\n",
      " [[ 8  2  3]\n",
      " [ 4  7 13]]\n",
      "\n",
      "b\n",
      " [[8 2 3]\n",
      " [4 7 6]]\n"
     ]
    }
   ],
   "source": [
    "#Be carefull while copying the arrays from one variable to another variable.\n",
    "\n",
    "#Copy Array using Numpy\n",
    "#In the following example, we will copy the elements of an array a to another array b.\n",
    "\n",
    "# create a numpy array\n",
    "a = np.array([[8, 2, 3],\n",
    "              [4, 7, 6]])\n",
    "\n",
    "# copy contents of a to b\n",
    "b = a.copy()\n",
    "\n",
    "# modify a\n",
    "a[1, 2] = 13\n",
    "\n",
    "# check if b has remained the same\n",
    "print('a\\n',a)\n",
    "print('\\nb\\n',b)\n",
    "\n",
    "#Note:-Even if we have changed the contents of a,the contents of b are unaffected when using \"b = a.copy()\"\""
   ]
  },
  {
   "cell_type": "code",
   "execution_count": 31,
   "metadata": {
    "scrolled": true
   },
   "outputs": [
    {
     "name": "stdout",
     "output_type": "stream",
     "text": [
      "a\n",
      " [[ 8  2  3]\n",
      " [ 4  7 13]]\n",
      "\n",
      "b\n",
      " [[ 8  2  3]\n",
      " [ 4  7 13]]\n"
     ]
    }
   ],
   "source": [
    "# What happens if we use assignment operator to copy array\n",
    "# This is a negative scenario. This example explains why you should use copy() function instead of \n",
    "# assignment operator when you have to create a duplicate of an array.\n",
    "\n",
    "# create a numpy array\n",
    "a = np.array([[8, 2, 3],\n",
    "              [4, 7, 6]])\n",
    "\n",
    "# assign a to b\n",
    "b = a\n",
    "\n",
    "# modify a\n",
    "a[1, 2] = 13\n",
    "\n",
    "# check if b has remained the same\n",
    "print('a\\n',a)\n",
    "print('\\nb\\n',b)\n",
    "\n",
    "#Note:-b acts as a mere reference to a.And when you change a,then b also gets changed when using \"b = a\". \n",
    "\n",
    "# Hence, using assignment operator is not a way to duplicate or copy a numpy array."
   ]
  },
  {
   "cell_type": "code",
   "execution_count": 32,
   "metadata": {},
   "outputs": [
    {
     "name": "stdout",
     "output_type": "stream",
     "text": [
      "[0 1 2 3 4]\n"
     ]
    }
   ],
   "source": [
    "#Evenly spaced ndarray by using np.arrange()\n",
    "\n",
    "#The start,end and step size of the interval of values can be explicitly defined by passing in three \n",
    "#numbers as arguments for these values respectively. A point to be noted here is that the interval is \n",
    "#defined as [start,end) where the last number will not be included in the array:\n",
    "\n",
    "#without passing the parameters\n",
    "a = np.arange(5)\n",
    "print(a)"
   ]
  },
  {
   "cell_type": "code",
   "execution_count": 33,
   "metadata": {
    "scrolled": true
   },
   "outputs": [
    {
     "name": "stdout",
     "output_type": "stream",
     "text": [
      "[2 4 6 8]\n"
     ]
    }
   ],
   "source": [
    "#passing the parameters[start,end,step_size]\n",
    "a = np.arange(2,10,2)\n",
    "print(a)\n",
    "\n",
    "#Note:-Alternate elements were printed because the step-size was defined as 2. \n",
    "#Notice that 10 was not printed as it was the last element."
   ]
  },
  {
   "cell_type": "code",
   "execution_count": 34,
   "metadata": {
    "scrolled": true
   },
   "outputs": [
    {
     "name": "stdout",
     "output_type": "stream",
     "text": [
      "[0.   0.25 0.5  0.75 1.  ]\n"
     ]
    }
   ],
   "source": [
    "#Evenly spaced ndarray by using np.linspace()\n",
    "\n",
    "# Here instead of step size,it takes in the number of samples that need to be retrieved from the interval.\n",
    "# A point to note here is that the last number is included in the values returned unlike in the case of \n",
    "# np.arange().\n",
    "\n",
    "a = np.linspace(0,1,5)\n",
    "print(a)"
   ]
  },
  {
   "cell_type": "code",
   "execution_count": 35,
   "metadata": {},
   "outputs": [],
   "source": [
    "#*********2.The Shape and Reshaping of NumPy Array*********\n",
    "# Once you have created your ndarray, the next thing you would want to do is check the number of axes, \n",
    "# shape, and the size of the ndarray\n",
    "\n",
    "# 1.Dimensions of NumPy array\n",
    "# 2.Shape of NumPy array\n",
    "# 3.Size of NumPy array\n",
    "# 4.Reshaping a NumPy array\n",
    "# 5.Flattening a NumPy array\n",
    "# 6.Transpose of a NumPy array"
   ]
  },
  {
   "cell_type": "code",
   "execution_count": 36,
   "metadata": {
    "scrolled": true
   },
   "outputs": [
    {
     "name": "stdout",
     "output_type": "stream",
     "text": [
      "Array : \n",
      " [[ 5 10 15]\n",
      " [20 25 20]]\n",
      "Dimensions : \n",
      " 2\n"
     ]
    }
   ],
   "source": [
    "# 1.Dimensions of NumPy arrays\n",
    "#We can get the ndimensional of the array 1-D,2-D,3-D.....\n",
    "\n",
    "a = np.array([[5,10,15],[20,25,20]])\n",
    "print('Array :','\\n',a)\n",
    "print('Dimensions :','\\n',a.ndim)"
   ]
  },
  {
   "cell_type": "code",
   "execution_count": 37,
   "metadata": {
    "scrolled": true
   },
   "outputs": [
    {
     "name": "stdout",
     "output_type": "stream",
     "text": [
      "Array : \n",
      " [[1 2 3]\n",
      " [4 5 6]]\n",
      "Shape : \n",
      " (2, 3)\n",
      "Rows =  2\n",
      "Columns =  3\n"
     ]
    }
   ],
   "source": [
    "# 2.Shape of NumPy array\n",
    "#Here we can get the shape of the array,even deeper we get the individual rows and columns shapes values \n",
    "\n",
    "a = np.array([[1,2,3],[4,5,6]])\n",
    "print('Array :','\\n',a)\n",
    "print('Shape :','\\n',a.shape)\n",
    "print('Rows = ',a.shape[0])\n",
    "print('Columns = ',a.shape[1])"
   ]
  },
  {
   "cell_type": "code",
   "execution_count": 38,
   "metadata": {},
   "outputs": [
    {
     "name": "stdout",
     "output_type": "stream",
     "text": [
      "Size of array : 6\n",
      "Manual determination of size of array : 6\n"
     ]
    }
   ],
   "source": [
    "# 3.Size of NumPy array\n",
    "# we can determine how many values there are in the array using the size attribute. \n",
    "# It just multiplies the number of rows(n) by the number of columns(m) in the ndarray:\n",
    "#Here n=2 and m=3 (nxm=2x3=6),here shape =2-D N-dmin=2 array(2,3),size = 6\n",
    "\n",
    "# size of array\n",
    "a = np.array([[5,10,15],[20,25,20]])\n",
    "print('Size of array :',a.size)\n",
    "print('Manual determination of size of array :',a.shape[0]*a.shape[1])"
   ]
  },
  {
   "cell_type": "code",
   "execution_count": 39,
   "metadata": {
    "scrolled": true
   },
   "outputs": [
    {
     "name": "stdout",
     "output_type": "stream",
     "text": [
      "[[ 3  6]\n",
      " [ 9 12]]\n"
     ]
    }
   ],
   "source": [
    "# 4.Reshaping a NumPy array\n",
    "# Reshaping a ndarray can be done using the np.reshape() method. It changes the shape of the ndarray\n",
    "# without changing the data within the ndarray:\n",
    "\n",
    "# Here,we reshaped the ndarray from a 1-D to a 2-D ndarray.\n",
    "\n",
    "a = np.array([3,6,9,12])\n",
    "b = np.reshape(a,(2,2))\n",
    "print(b)"
   ]
  },
  {
   "cell_type": "code",
   "execution_count": 40,
   "metadata": {
    "scrolled": true
   },
   "outputs": [
    {
     "name": "stdout",
     "output_type": "stream",
     "text": [
      "Three rows : \n",
      " [[ 3  6]\n",
      " [ 9 12]\n",
      " [18 24]]\n",
      "Three columns : \n",
      " [[ 3  6  9]\n",
      " [12 18 24]]\n"
     ]
    }
   ],
   "source": [
    "# While reshaping,if you are unsure about the shape of any of the axis, just input -1. NumPy automatically\n",
    "# calculates the shape when it sees a -1:\n",
    "\n",
    "a = np.array([3,6,9,12,18,24])\n",
    "print('Three rows :','\\n',np.reshape(a,(3,-1)))\n",
    "print('Three columns :','\\n',np.reshape(a,(-1,3)))"
   ]
  },
  {
   "cell_type": "code",
   "execution_count": 41,
   "metadata": {
    "scrolled": true
   },
   "outputs": [
    {
     "name": "stdout",
     "output_type": "stream",
     "text": [
      "Original shape : (2, 2)\n",
      "Array : \n",
      " [[1. 1.]\n",
      " [1. 1.]]\n",
      "Shape after flatten : (4,)\n",
      "Array : \n",
      " [1. 1. 1. 1.]\n",
      "Shape after ravel : (4,)\n",
      "Array : \n",
      " [1. 1. 1. 1.]\n"
     ]
    }
   ],
   "source": [
    "# 5.Flattening a NumPy array\n",
    "# Sometimes when you have a multidimensional array and want to collapse it to a single-dimensional array, \n",
    "# you can either use the flatten() method or the ravel() method:\n",
    "\n",
    "a = np.ones((2,2))\n",
    "b = a.flatten()\n",
    "c = a.ravel()\n",
    "print('Original shape :', a.shape)\n",
    "print('Array :','\\n', a)\n",
    "print('Shape after flatten :',b.shape)\n",
    "print('Array :','\\n', b)\n",
    "print('Shape after ravel :',c.shape)\n",
    "print('Array :','\\n', c)"
   ]
  },
  {
   "cell_type": "code",
   "execution_count": 42,
   "metadata": {},
   "outputs": [],
   "source": [
    "# But an important difference between flatten() and ravel() is that the former returns a copy of the \n",
    "# original array while the latter returns a reference to the original array. This means any changes \n",
    "# made to the array returned from ravel() will also be reflected in the original array while this will \n",
    "# not be the case with flatten().\n",
    "\n",
    "# Here flatten() creates a Deep copy of the ndarray while ravel() creates a Shallow copy of the ndarray.\n",
    "\n",
    "# Deep copy means that a completely new ndarray is created in memory and the ndarray object returned by \n",
    "# flatten() is now pointing to this memory location.Therefore,any changes made here will not be reflected \n",
    "# in the original ndarray.\n",
    "\n",
    "# Shallow copy, on the other hand, returns a reference to the original memory location.Meaning the object \n",
    "# returned by ravel() is pointing to the same memory location as the original ndarray object.So,definitely,\n",
    "# any changes made to this ndarray will also be reflected in the original ndarray too.\n",
    "\n",
    "a = np.ones((2,2))\n",
    "b = a.flatten()\n",
    "c = a.ravel()"
   ]
  },
  {
   "cell_type": "code",
   "execution_count": 43,
   "metadata": {
    "scrolled": true
   },
   "outputs": [
    {
     "name": "stdout",
     "output_type": "stream",
     "text": [
      "[[1. 1.]\n",
      " [1. 1.]]\n"
     ]
    }
   ],
   "source": [
    "#Flatten:- any changes made to the flatten array will not be reflected in the original array.\n",
    "\n",
    "b[0] = 0\n",
    "print(a)"
   ]
  },
  {
   "cell_type": "code",
   "execution_count": 44,
   "metadata": {
    "scrolled": true
   },
   "outputs": [
    {
     "name": "stdout",
     "output_type": "stream",
     "text": [
      "[[0. 1.]\n",
      " [1. 1.]]\n"
     ]
    }
   ],
   "source": [
    "#Ravel:- any changes made to the ravel array will be reflected in the original array.\n",
    "\n",
    "c[0] = 0\n",
    "print(a)"
   ]
  },
  {
   "cell_type": "code",
   "execution_count": 45,
   "metadata": {},
   "outputs": [
    {
     "name": "stdout",
     "output_type": "stream",
     "text": [
      "Original \n",
      " Shape (2, 3) \n",
      " [[1 2 3]\n",
      " [4 5 6]]\n",
      "Expand along columns: \n",
      " Shape (3, 2) \n",
      " [[1 4]\n",
      " [2 5]\n",
      " [3 6]]\n"
     ]
    }
   ],
   "source": [
    "# 6.Transpose of a NumPy array\n",
    "# It takes the input array and swaps the rows with the column values,and the column values with the values\n",
    "# of the rows:\n",
    "\n",
    "a = np.array([[1,2,3],\n",
    "[4,5,6]])\n",
    "b = np.transpose(a)\n",
    "print('Original','\\n','Shape',a.shape,'\\n',a)\n",
    "print('Expand along columns:','\\n','Shape',b.shape,'\\n',b)"
   ]
  },
  {
   "cell_type": "code",
   "execution_count": 46,
   "metadata": {},
   "outputs": [],
   "source": [
    "# *************3.Expanding and Squeezing a NumPy Array***************\n",
    "# 1.Expanding a NumPy array\n",
    "# 2.Squeezing a NumPy array"
   ]
  },
  {
   "cell_type": "code",
   "execution_count": 47,
   "metadata": {
    "scrolled": true
   },
   "outputs": [
    {
     "name": "stdout",
     "output_type": "stream",
     "text": [
      "Original: \n",
      " Shape (3,) \n",
      " [1 2 3]\n",
      "Expand along columns: \n",
      " Shape (1, 3) \n",
      " [[1 2 3]]\n",
      "Expand along rows: \n",
      " Shape (3, 1) \n",
      " [[1]\n",
      " [2]\n",
      " [3]]\n"
     ]
    }
   ],
   "source": [
    "# Expanding a NumPy array\n",
    "# You can add a new axis to an array using the expand_dims() method by providing the array and the axis \n",
    "# along which to expand:\n",
    "# “axis 0” represents columns(horizontal) and “axis 1” represents rows(vertical)\n",
    "\n",
    "a = np.array([1,2,3])\n",
    "b = np.expand_dims(a,axis=0)\n",
    "c = np.expand_dims(a,axis=1)\n",
    "print('Original:','\\n','Shape',a.shape,'\\n',a)\n",
    "print('Expand along columns:','\\n','Shape',b.shape,'\\n',b)\n",
    "print('Expand along rows:','\\n','Shape',c.shape,'\\n',c)"
   ]
  },
  {
   "cell_type": "code",
   "execution_count": 48,
   "metadata": {
    "scrolled": true
   },
   "outputs": [
    {
     "name": "stdout",
     "output_type": "stream",
     "text": [
      "Original \n",
      " Shape (1, 2, 3) \n",
      " [[[1 2 3]\n",
      "  [4 5 6]]]\n",
      "Squeeze array: \n",
      " Shape (2, 3) \n",
      " [[1 2 3]\n",
      " [4 5 6]]\n"
     ]
    }
   ],
   "source": [
    "# 2.Squeezing a NumPy array\n",
    "# If we want to reduce the axis of the array, use the squeeze() method.It removes the axis that has a \n",
    "# single entry.This means if you have created a 2 x 2 x 1 matrix, squeeze() will remove the third \n",
    "# dimension from the matrix:\n",
    "\n",
    "a = np.array([[[1,2,3],\n",
    "[4,5,6]]])\n",
    "b = np.squeeze(a, axis=0)\n",
    "print('Original','\\n','Shape',a.shape,'\\n',a)\n",
    "print('Squeeze array:','\\n','Shape',b.shape,'\\n',b)"
   ]
  },
  {
   "cell_type": "code",
   "execution_count": 49,
   "metadata": {},
   "outputs": [
    {
     "name": "stdout",
     "output_type": "stream",
     "text": [
      "Original \n",
      " Shape (1, 1, 2, 3) \n",
      " [[[[1 2 3]\n",
      "   [4 5 6]]]]\n",
      "Squeeze array: \n",
      " Shape (1, 2, 3) \n",
      " [[[1 2 3]\n",
      "  [4 5 6]]]\n"
     ]
    }
   ],
   "source": [
    "a = np.array([[[[1,2,3],\n",
    "[4,5,6]]]])\n",
    "b = np.squeeze(a, axis=1)\n",
    "print('Original','\\n','Shape',a.shape,'\\n',a)\n",
    "print('Squeeze array:','\\n','Shape',b.shape,'\\n',b)"
   ]
  },
  {
   "cell_type": "code",
   "execution_count": 50,
   "metadata": {
    "scrolled": false
   },
   "outputs": [
    {
     "name": "stdout",
     "output_type": "stream",
     "text": [
      "Original \n",
      " Shape (1, 1, 1, 2, 3) \n",
      " [[[[[1 2 3]\n",
      "    [4 5 6]]]]]\n",
      "Squeeze array: \n",
      " Shape (1, 1, 2, 3) \n",
      " [[[[1 2 3]\n",
      "   [4 5 6]]]]\n"
     ]
    }
   ],
   "source": [
    "a = np.array([[[[[1,2,3],\n",
    "[4,5,6]]]]])\n",
    "b = np.squeeze(a, axis=2)\n",
    "print('Original','\\n','Shape',a.shape,'\\n',a)\n",
    "print('Squeeze array:','\\n','Shape',b.shape,'\\n',b)\n",
    "\n",
    "# Note:-However,if you already had a 2 x 2 matrix, using squeeze() in that case would give you an error:\n",
    "# ValueError: cannot select an axis to squeeze out which has size not equal to one\n",
    "# a = np.array([[[[[1,2,3],\n",
    "# [4,5,6]]]]])\n",
    "# b = np.squeeze(a, axis=3)\n",
    "# print('Original','\\n','Shape',a.shape,'\\n',a)\n",
    "# print('Squeeze array:','\\n','Shape',b.shape,'\\n',b)"
   ]
  },
  {
   "cell_type": "code",
   "execution_count": 51,
   "metadata": {},
   "outputs": [],
   "source": [
    "# ************5.Indexing and Slicing of NumPy Array**************\n",
    "# 1.Slicing 1-D NumPy arrays\n",
    "# 2.Slicing 2-D NumPy arrays\n",
    "# 3.Slicing 3-D NumPy arrays\n",
    "# 4.Negative slicing of NumPy arrays\n",
    "\n",
    "# Index has two types:- \n",
    "# 1.Positive_Index starts from [ 0,1,2,3,4,5,6....+n ]\n",
    "# 2.Negative_Index starts from [ -1,-2,-3,-4,-5,-6....-n ]\n",
    "\n",
    "#Slicing have an inbuilt parameter exceution [[start_value:end_value:step_size]]\n",
    "#start_value:- It is the positive value which starts with 0, we can give prefered positive value\n",
    "#end_value:- It is the negative value which starts with -1, we can give prefered negative value\n",
    "#step_size:- It is the increment size we can use in slicing an array starts from 1,...n(size of array)."
   ]
  },
  {
   "cell_type": "code",
   "execution_count": 52,
   "metadata": {
    "scrolled": true
   },
   "outputs": [
    {
     "name": "stdout",
     "output_type": "stream",
     "text": [
      "[2 4]\n"
     ]
    }
   ],
   "source": [
    "# 1.Slicing 1-D NumPy arrays\n",
    "a = np.array([1,2,3,4,5,6])\n",
    "print(a[1:5:2])\n",
    "\n",
    "#last element did not get considered.because slicing includes the start index but excludes the end index."
   ]
  },
  {
   "cell_type": "code",
   "execution_count": 53,
   "metadata": {
    "scrolled": true
   },
   "outputs": [
    {
     "name": "stdout",
     "output_type": "stream",
     "text": [
      "[2 4 6]\n"
     ]
    }
   ],
   "source": [
    "a = np.array([1,2,3,4,5,6])\n",
    "print(a[1:6:2])\n",
    "\n",
    "#  This is the next higher index to the final index value you want to retrieve:"
   ]
  },
  {
   "cell_type": "code",
   "execution_count": 54,
   "metadata": {
    "scrolled": true
   },
   "outputs": [
    {
     "name": "stdout",
     "output_type": "stream",
     "text": [
      "[1 3 5]\n",
      "[2 4 6]\n",
      "[2 3 4 5 6]\n",
      "[1 2 3 4 5 6]\n"
     ]
    }
   ],
   "source": [
    "# If you don’t specify the start or end index,it is taken as 0 or array size,respectively, as default. \n",
    "# And the step-size by default is 1.\n",
    "\n",
    "a = np.array([1,2,3,4,5,6])\n",
    "print(a[:6:2])\n",
    "print(a[1::2])\n",
    "print(a[1:6:])\n",
    "print(a[::])"
   ]
  },
  {
   "cell_type": "code",
   "execution_count": 55,
   "metadata": {
    "scrolled": true
   },
   "outputs": [
    {
     "name": "stdout",
     "output_type": "stream",
     "text": [
      "1\n",
      "6\n",
      "4\n"
     ]
    }
   ],
   "source": [
    "# 2.Slicing 2-D NumPy arrays\n",
    "# A 2-D array has rows and columns.\n",
    "\n",
    "a = np.array([[1,2,3],\n",
    "              [4,5,6]])\n",
    "print(a[0,0]) #from 0-row=[1,2,3] 0-column[1] =====> then result is:1\n",
    "print(a[1,2]) #from 1-row=[4,5,6] 2-column[6] =====> then result is:6\n",
    "print(a[1,0]) #from 1-row=[4,5,6] 0-column[4] =====> then result is:4"
   ]
  },
  {
   "cell_type": "code",
   "execution_count": 56,
   "metadata": {
    "scrolled": true
   },
   "outputs": [
    {
     "name": "stdout",
     "output_type": "stream",
     "text": [
      "Original array : \n",
      " [[1 2 3]\n",
      " [4 5 6]]\n",
      "First row values : \n",
      " [[1 2 3]]\n",
      "First row First value: \n",
      " [[1]]\n",
      "First row second value: \n",
      " [[2]]\n",
      "First row third value: \n",
      " [[3]]\n",
      "second row values : \n",
      " [[4 5 6]]\n",
      "Second row First value: \n",
      " [[4]]\n",
      "Second row First value: \n",
      " [[5]]\n",
      "Second row First value: \n",
      " [[6]]\n",
      "Alternate values from first row: \n",
      " [[1 3]]\n",
      "Alternate values from second row: \n",
      " [[4 6]]\n",
      "First column values : \n",
      " [[1]\n",
      " [4]]\n",
      "Second column values : \n",
      " [[2]\n",
      " [5]]\n",
      "Third column values : \n",
      " [[3]\n",
      " [6]]\n"
     ]
    }
   ],
   "source": [
    "a = np.array([[1,2,3],\n",
    "              [4,5,6]])\n",
    "\n",
    "#print the original array rows and columns\n",
    "print('Original array :','\\n',a)\n",
    "\n",
    "# print first row values\n",
    "print('First row values :','\\n',a[0:1,:])\n",
    "\n",
    "# print first row first value\n",
    "print(\"First row First value:\",'\\n',a[0:1,0:1:])\n",
    "\n",
    "# print first row second value\n",
    "print(\"First row second value:\",'\\n',a[0:1,1:2:])\n",
    "\n",
    "# print first row third value\n",
    "print(\"First row third value:\",'\\n',a[0:1,2:3:])\n",
    "\n",
    "# print second row values\n",
    "print('second row values :','\\n',a[1:2,:])\n",
    "\n",
    "# print second row first value\n",
    "print(\"Second row First value:\",'\\n',a[1:2,0:1:])\n",
    "\n",
    "# print second row second value\n",
    "print(\"Second row First value:\",'\\n',a[1:2,1:2:])\n",
    "\n",
    "# print second row third value\n",
    "print(\"Second row First value:\",'\\n',a[1:2,2:3:])\n",
    "\n",
    "# with step-size for rows for first row alternate values\n",
    "print('Alternate values from first row:','\\n',a[0:1,::2])\n",
    "\n",
    "# with step-size for rows for second row alternate values\n",
    "print('Alternate values from second row:','\\n',a[1:2,::2])\n",
    "\n",
    "# print first column values\n",
    "print('First column values :','\\n',a[:,0:1:])\n",
    "\n",
    "# print second column values\n",
    "print('Second column values :','\\n',a[:,1:2:])\n",
    "\n",
    "# print third column values\n",
    "print('Third column values :','\\n',a[:,2:3:])"
   ]
  },
  {
   "cell_type": "code",
   "execution_count": 57,
   "metadata": {},
   "outputs": [
    {
     "name": "stdout",
     "output_type": "stream",
     "text": [
      "Original array : \n",
      " [[1 2 3]\n",
      " [4 5 6]\n",
      " [7 8 9]]\n",
      "First row values : \n",
      " [[1 2 3]]\n",
      "First row First value: \n",
      " [[1]]\n",
      "First row Second value: \n",
      " [[2]]\n",
      "First row Third value: \n",
      " [[3]]\n",
      "second row values : \n",
      " [[4 5 6]]\n",
      "Second row First value: \n",
      " [[4]]\n",
      "Second row Second value: \n",
      " [[5]]\n",
      "Second row Third value: \n",
      " [[6]]\n",
      "Third row values : \n",
      " [[7 8 9]]\n",
      "Third row First value: \n",
      " [[7]]\n",
      "Third row Second value: \n",
      " [[8]]\n",
      "Third row Third value: \n",
      " [[9]]\n",
      "Alternate values from first row: \n",
      " [[1 3]]\n",
      "Alternate values from second row: \n",
      " [[4 6]]\n",
      "Alternate values from second row: \n",
      " [[7 9]]\n",
      "First column values : \n",
      " [[1]\n",
      " [4]\n",
      " [7]]\n",
      "Second column values : \n",
      " [[2]\n",
      " [5]\n",
      " [8]]\n",
      "Third column values : \n",
      " [[3]\n",
      " [6]\n",
      " [9]]\n",
      "Alternate values from First column: \n",
      " [[1]\n",
      " [4]\n",
      " [7]]\n"
     ]
    }
   ],
   "source": [
    "# Slicing 3-D NumPy arrays\n",
    "\n",
    "a = np.array([[1,2,3],\n",
    "              [4,5,6],\n",
    "              [7,8,9]])\n",
    "\n",
    "#print the original array rows and columns\n",
    "print('Original array :','\\n',a)\n",
    "\n",
    "# print first row values\n",
    "print('First row values :','\\n',a[0:1,:])\n",
    "\n",
    "# print first row first value\n",
    "print(\"First row First value:\",'\\n',a[0:1,0:1:])\n",
    "\n",
    "# print first row second value\n",
    "print(\"First row Second value:\",'\\n',a[0:1,1:2:])\n",
    "\n",
    "# print first row third value\n",
    "print(\"First row Third value:\",'\\n',a[0:1,2:3:])\n",
    "\n",
    "# print second row values\n",
    "print('second row values :','\\n',a[1:2,:])\n",
    "\n",
    "# print second row first value\n",
    "print(\"Second row First value:\",'\\n',a[1:2,0:1:])\n",
    "\n",
    "# print second row second value\n",
    "print(\"Second row Second value:\",'\\n',a[1:2,1:2:])\n",
    "\n",
    "# print second row third value\n",
    "print(\"Second row Third value:\",'\\n',a[1:2,2:3:])\n",
    "\n",
    "# print third row values\n",
    "print('Third row values :','\\n',a[2:3,:])\n",
    "\n",
    "# print third row first value\n",
    "print(\"Third row First value:\",'\\n',a[2:3,0:1:])\n",
    "\n",
    "# print third row second value\n",
    "print(\"Third row Second value:\",'\\n',a[2:3,1:2:])\n",
    "\n",
    "# print third row third value\n",
    "print(\"Third row Third value:\",'\\n',a[2:3,2:3:])\n",
    "\n",
    "# with step-size for rows for first row alternate values\n",
    "print('Alternate values from first row:','\\n',a[0:1,::2])\n",
    "\n",
    "# with step-size for rows for second row alternate values\n",
    "print('Alternate values from second row:','\\n',a[1:2,::2])\n",
    "\n",
    "# with step-size for rows for third row alternate values\n",
    "print('Alternate values from second row:','\\n',a[2:3,::2])\n",
    "\n",
    "# print first column values\n",
    "print('First column values :','\\n',a[:,0:1:])\n",
    "\n",
    "# print second column values\n",
    "print('Second column values :','\\n',a[:,1:2:])\n",
    "\n",
    "# print third column values\n",
    "print('Third column values :','\\n',a[:,2:3:])\n",
    "\n",
    "# with step-size for columns for first column alternate values\n",
    "print('Alternate values from First column:','\\n',a[:,0:1:2])\n",
    "\n",
    "# with step-size for rows for second column alternate values\n",
    "# print('Alternate values from Second column:','\\n',a[:,1:2:2])\n",
    "\n",
    "# with step-size for rows for third column alternate values\n",
    "# print('Alternate values from Third column:','\\n',a[:,2:3:2])"
   ]
  },
  {
   "cell_type": "code",
   "execution_count": 58,
   "metadata": {
    "scrolled": true
   },
   "outputs": [
    {
     "name": "stdout",
     "output_type": "stream",
     "text": [
      "[[[ 0  1  2  3  4]\n",
      "  [ 5  6  7  8  9]\n",
      "  [10 11 12 13 14]]\n",
      "\n",
      " [[15 16 17 18 19]\n",
      "  [20 21 22 23 24]\n",
      "  [25 26 27 28 29]]\n",
      "\n",
      " [[30 31 32 33 34]\n",
      "  [35 36 37 38 39]\n",
      "  [40 41 42 43 44]]]\n"
     ]
    }
   ],
   "source": [
    "# 3-D array\n",
    "\n",
    "x = np.arange(45).reshape(3,3,5)\n",
    "print(x)"
   ]
  },
  {
   "cell_type": "code",
   "execution_count": 59,
   "metadata": {
    "scrolled": true
   },
   "outputs": [
    {
     "data": {
      "text/plain": [
       "array([[ 0,  1,  2,  3,  4],\n",
       "       [ 5,  6,  7,  8,  9],\n",
       "       [10, 11, 12, 13, 14]])"
      ]
     },
     "execution_count": 59,
     "metadata": {},
     "output_type": "execute_result"
    }
   ],
   "source": [
    "# To get the first 2-D array\n",
    "\n",
    "x[0]"
   ]
  },
  {
   "cell_type": "code",
   "execution_count": 60,
   "metadata": {
    "scrolled": true
   },
   "outputs": [
    {
     "data": {
      "text/plain": [
       "array([[15, 16, 17, 18, 19],\n",
       "       [20, 21, 22, 23, 24],\n",
       "       [25, 26, 27, 28, 29]])"
      ]
     },
     "execution_count": 60,
     "metadata": {},
     "output_type": "execute_result"
    }
   ],
   "source": [
    "# To get the second 2-D array\n",
    "\n",
    "x[1]"
   ]
  },
  {
   "cell_type": "code",
   "execution_count": 61,
   "metadata": {
    "scrolled": true
   },
   "outputs": [
    {
     "data": {
      "text/plain": [
       "array([[30, 31, 32, 33, 34],\n",
       "       [35, 36, 37, 38, 39],\n",
       "       [40, 41, 42, 43, 44]])"
      ]
     },
     "execution_count": 61,
     "metadata": {},
     "output_type": "execute_result"
    }
   ],
   "source": [
    "# To get the third 2-D array\n",
    "\n",
    "x[2]"
   ]
  },
  {
   "cell_type": "code",
   "execution_count": 62,
   "metadata": {
    "scrolled": true
   },
   "outputs": [
    {
     "data": {
      "text/plain": [
       "array([0, 1, 2, 3, 4])"
      ]
     },
     "execution_count": 62,
     "metadata": {},
     "output_type": "execute_result"
    }
   ],
   "source": [
    "# To get the first row value in 1st 2-D array\n",
    "\n",
    "x[0][0]"
   ]
  },
  {
   "cell_type": "code",
   "execution_count": 63,
   "metadata": {
    "scrolled": true
   },
   "outputs": [
    {
     "data": {
      "text/plain": [
       "array([15, 16, 17, 18, 19])"
      ]
     },
     "execution_count": 63,
     "metadata": {},
     "output_type": "execute_result"
    }
   ],
   "source": [
    "# To get the first row value in 2nd 2-D array\n",
    "\n",
    "x[1][0]"
   ]
  },
  {
   "cell_type": "code",
   "execution_count": 64,
   "metadata": {
    "scrolled": true
   },
   "outputs": [
    {
     "data": {
      "text/plain": [
       "array([30, 31, 32, 33, 34])"
      ]
     },
     "execution_count": 64,
     "metadata": {},
     "output_type": "execute_result"
    }
   ],
   "source": [
    "# To get the first row value in 3rd 2-D array\n",
    "\n",
    "x[2][0]"
   ]
  },
  {
   "cell_type": "code",
   "execution_count": 65,
   "metadata": {
    "scrolled": true
   },
   "outputs": [
    {
     "data": {
      "text/plain": [
       "array([[0, 2, 4]])"
      ]
     },
     "execution_count": 65,
     "metadata": {},
     "output_type": "execute_result"
    }
   ],
   "source": [
    "# with step-size for rows for first row alternate values in 1st 2-D array\n",
    "\n",
    "x[0][0:1,::2]"
   ]
  },
  {
   "cell_type": "code",
   "execution_count": 66,
   "metadata": {
    "scrolled": true
   },
   "outputs": [
    {
     "data": {
      "text/plain": [
       "array([[15, 17, 19]])"
      ]
     },
     "execution_count": 66,
     "metadata": {},
     "output_type": "execute_result"
    }
   ],
   "source": [
    "# with step-size for rows for first row alternate values in 2nd 2-D array\n",
    "\n",
    "x[1][0:1,::2]"
   ]
  },
  {
   "cell_type": "code",
   "execution_count": 67,
   "metadata": {
    "scrolled": true
   },
   "outputs": [
    {
     "data": {
      "text/plain": [
       "array([[30, 32, 34]])"
      ]
     },
     "execution_count": 67,
     "metadata": {},
     "output_type": "execute_result"
    }
   ],
   "source": [
    "# with step-size for rows for first row alternate values in 3rd 2-D array\n",
    "\n",
    "x[2][0:1,::2]"
   ]
  },
  {
   "cell_type": "code",
   "execution_count": 68,
   "metadata": {
    "scrolled": true
   },
   "outputs": [
    {
     "data": {
      "text/plain": [
       "array([[ 0,  1,  2,  3,  4],\n",
       "       [15, 16, 17, 18, 19],\n",
       "       [30, 31, 32, 33, 34]])"
      ]
     },
     "execution_count": 68,
     "metadata": {},
     "output_type": "execute_result"
    }
   ],
   "source": [
    "# To get the all first row elements from 1st,2nd,3rd 2-D arrays\n",
    "\n",
    "x[0:,0]"
   ]
  },
  {
   "cell_type": "code",
   "execution_count": 69,
   "metadata": {
    "scrolled": true
   },
   "outputs": [
    {
     "data": {
      "text/plain": [
       "array([[ 5,  6,  7,  8,  9],\n",
       "       [20, 21, 22, 23, 24],\n",
       "       [35, 36, 37, 38, 39]])"
      ]
     },
     "execution_count": 69,
     "metadata": {},
     "output_type": "execute_result"
    }
   ],
   "source": [
    "# To get the all second row elements from 1st,2nd,3rd 2-D arrays\n",
    "\n",
    "x[0:,1]"
   ]
  },
  {
   "cell_type": "code",
   "execution_count": 70,
   "metadata": {
    "scrolled": false
   },
   "outputs": [
    {
     "data": {
      "text/plain": [
       "array([[10, 11, 12, 13, 14],\n",
       "       [25, 26, 27, 28, 29],\n",
       "       [40, 41, 42, 43, 44]])"
      ]
     },
     "execution_count": 70,
     "metadata": {},
     "output_type": "execute_result"
    }
   ],
   "source": [
    "# To get the all third row elements from 1st,2nd,3rd 2-D arrays\n",
    "\n",
    "x[0:,2]"
   ]
  },
  {
   "cell_type": "code",
   "execution_count": 71,
   "metadata": {
    "scrolled": true
   },
   "outputs": [
    {
     "data": {
      "text/plain": [
       "array([[[ 0,  1,  2,  3,  4]],\n",
       "\n",
       "       [[15, 16, 17, 18, 19]],\n",
       "\n",
       "       [[30, 31, 32, 33, 34]]])"
      ]
     },
     "execution_count": 71,
     "metadata": {},
     "output_type": "execute_result"
    }
   ],
   "source": [
    "#To get all the \n",
    "x[0:,0:1,0:]"
   ]
  },
  {
   "cell_type": "code",
   "execution_count": 72,
   "metadata": {
    "scrolled": true
   },
   "outputs": [
    {
     "data": {
      "text/plain": [
       "array([[ 1,  6, 11],\n",
       "       [16, 21, 26],\n",
       "       [31, 36, 41]])"
      ]
     },
     "execution_count": 72,
     "metadata": {},
     "output_type": "execute_result"
    }
   ],
   "source": [
    "x[0:,0:4,1]"
   ]
  },
  {
   "cell_type": "code",
   "execution_count": 73,
   "metadata": {
    "scrolled": true
   },
   "outputs": [
    {
     "name": "stdout",
     "output_type": "stream",
     "text": [
      "[ 5 10]\n"
     ]
    }
   ],
   "source": [
    "# Negative slicing of NumPy arrays\n",
    "# Negative slicing prints elements from the end rather than the beginning. Have a look below:\n",
    "\n",
    "a = np.array([[1,2,3,4,5],\n",
    "[6,7,8,9,10]])\n",
    "print(a[:,-1])"
   ]
  },
  {
   "cell_type": "code",
   "execution_count": 74,
   "metadata": {
    "scrolled": true
   },
   "outputs": [
    {
     "name": "stdout",
     "output_type": "stream",
     "text": [
      "[[ 5  4]\n",
      " [10  9]]\n"
     ]
    }
   ],
   "source": [
    "print(a[:,-1:-3:-1])"
   ]
  },
  {
   "cell_type": "code",
   "execution_count": 75,
   "metadata": {
    "scrolled": true
   },
   "outputs": [
    {
     "name": "stdout",
     "output_type": "stream",
     "text": [
      "Original array : \n",
      " [[ 1  2  3  4  5]\n",
      " [ 6  7  8  9 10]]\n",
      "Reversed array : \n",
      " [[10  9  8  7  6]\n",
      " [ 5  4  3  2  1]]\n"
     ]
    }
   ],
   "source": [
    "# An interesting use of negative slicing is to reverse the original array.\n",
    "\n",
    "a = np.array([[1,2,3,4,5],\n",
    "[6,7,8,9,10]])\n",
    "print('Original array :','\\n',a)\n",
    "print('Reversed array :','\\n',a[::-1,::-1])"
   ]
  },
  {
   "cell_type": "code",
   "execution_count": 76,
   "metadata": {
    "scrolled": true
   },
   "outputs": [
    {
     "name": "stdout",
     "output_type": "stream",
     "text": [
      "Original array : \n",
      " [[ 1  2  3  4  5]\n",
      " [ 6  7  8  9 10]]\n",
      "Reversed array vertically : \n",
      " [[ 5  4  3  2  1]\n",
      " [10  9  8  7  6]]\n",
      "Reversed array horizontally : \n",
      " [[ 6  7  8  9 10]\n",
      " [ 1  2  3  4  5]]\n"
     ]
    }
   ],
   "source": [
    "# use the flip() method to reverse an ndarray.\n",
    "\n",
    "a = np.array([[1,2,3,4,5],\n",
    "[6,7,8,9,10]])\n",
    "print('Original array :','\\n',a)\n",
    "print('Reversed array vertically :','\\n',np.flip(a,axis=1))\n",
    "print('Reversed array horizontally :','\\n',np.flip(a,axis=0))"
   ]
  },
  {
   "cell_type": "code",
   "execution_count": 77,
   "metadata": {
    "scrolled": true
   },
   "outputs": [
    {
     "name": "stdout",
     "output_type": "stream",
     "text": [
      "Array 1 : \n",
      " [0 1 2 3 4]\n",
      "Array 2 : \n",
      " [5 6 7 8 9]\n",
      "Vertical stacking : \n",
      " [[0 1 2 3 4]\n",
      " [5 6 7 8 9]]\n",
      "Horizontal stacking : \n",
      " [0 1 2 3 4 5 6 7 8 9]\n"
     ]
    }
   ],
   "source": [
    "# ************6.Stacking and Concatenating NumPy arrays****************\n",
    "# 1.Stacking ndarrays\n",
    "# You can create a new array by combining existing arrays. This you can do in two ways:\n",
    "\n",
    "#1.Either combine the arrays vertically (i.e. along the rows) using the vstack() method,thereby increasing\n",
    "# the number of rows in the resulting array\n",
    "\n",
    "#2.combine the arrays in a horizontal fashion(i.e. along the columns) using the hstack(),thereby increasing\n",
    "# the number of columns in the resultant array\n",
    "\n",
    "a = np.arange(0,5)\n",
    "b = np.arange(5,10)\n",
    "print('Array 1 :','\\n',a)\n",
    "print('Array 2 :','\\n',b)\n",
    "print('Vertical stacking :','\\n',np.vstack((a,b)))\n",
    "print('Horizontal stacking :','\\n',np.hstack((a,b)))\n",
    "\n",
    "# Note:-A point to note here is that the axis along which you are combining the array should have the same\n",
    "# size otherwise you are bound to get an error!\n",
    "# array_1 =[1,2,3,4,5],array_2 =[5,6,7,8] here array_1 ,size=5 and array_2 ,size=4 having different sizes."
   ]
  },
  {
   "cell_type": "code",
   "execution_count": 78,
   "metadata": {
    "scrolled": true
   },
   "outputs": [
    {
     "name": "stdout",
     "output_type": "stream",
     "text": [
      "Array 1 : \n",
      " [[1, 2], [3, 4]]\n",
      "Array 2 : \n",
      " [[5, 6], [7, 8]]\n",
      "Dstack : \n",
      " [[[1 5]\n",
      "  [2 6]]\n",
      "\n",
      " [[3 7]\n",
      "  [4 8]]]\n",
      "(2, 2, 2)\n"
     ]
    }
   ],
   "source": [
    "#3.using the dstack() method combines array elements index by index and stacks them along the depth axis.\n",
    "\n",
    "a = [[1,2],[3,4]]\n",
    "b = [[5,6],[7,8]]\n",
    "c = np.dstack((a,b))\n",
    "print('Array 1 :','\\n',a)\n",
    "print('Array 2 :','\\n',b)\n",
    "print('Dstack :','\\n',c)\n",
    "print(c.shape)"
   ]
  },
  {
   "cell_type": "code",
   "execution_count": 79,
   "metadata": {
    "scrolled": true
   },
   "outputs": [
    {
     "name": "stdout",
     "output_type": "stream",
     "text": [
      "Array 1 : \n",
      " [[0 1 2 3 4]]\n",
      "Array 2 : \n",
      " [[5 6 7 8 9]]\n",
      "Concatenate along rows : \n",
      " [[0 1 2 3 4]\n",
      " [5 6 7 8 9]]\n",
      "Concatenate along columns : \n",
      " [[0 1 2 3 4 5 6 7 8 9]]\n"
     ]
    }
   ],
   "source": [
    "# Concatenating ndarrays\n",
    "\n",
    "# While stacking arrays is one way of combining old arrays to get a new one,you could also use the \n",
    "# concatenate() method where the passed arrays are joined along an existing axis:\n",
    "\n",
    "a = np.arange(0,5).reshape(1,5)\n",
    "b = np.arange(5,10).reshape(1,5)\n",
    "print('Array 1 :','\\n',a)\n",
    "print('Array 2 :','\\n',b)\n",
    "print('Concatenate along rows :','\\n',np.concatenate((a,b),axis=0))\n",
    "print('Concatenate along columns :','\\n',np.concatenate((a,b),axis=1))\n",
    "\n",
    "# Note:-The drawback of this method is that the original array must have the axis along which you want to\n",
    "# combine. Otherwise, get ready to be greeted by an error."
   ]
  },
  {
   "cell_type": "code",
   "execution_count": 80,
   "metadata": {
    "scrolled": true
   },
   "outputs": [
    {
     "data": {
      "text/plain": [
       "array([[1, 2],\n",
       "       [3, 4],\n",
       "       [5, 6]])"
      ]
     },
     "execution_count": 80,
     "metadata": {},
     "output_type": "execute_result"
    }
   ],
   "source": [
    "# append method that adds new elements to the end of a ndarray. This is obviously useful when you already \n",
    "# have an existing ndarray but want to add new values to it.\n",
    "\n",
    "# append values to ndarray\n",
    "\n",
    "a = np.array([[1,2],\n",
    "             [3,4]])\n",
    "np.append(a,[[5,6]], axis=0)"
   ]
  },
  {
   "cell_type": "code",
   "execution_count": 81,
   "metadata": {
    "scrolled": true
   },
   "outputs": [
    {
     "name": "stdout",
     "output_type": "stream",
     "text": [
      "Adding two different size arrays : \n",
      " [[12 14 16 18 20]\n",
      " [12 14 16 18 20]]\n",
      "Multiplying an ndarray and a number : [20 24 28 32 36]\n"
     ]
    }
   ],
   "source": [
    "# ***************7.Broadcasting in NumPy arrays – A class apart!*************\n",
    "\n",
    "# Broadcasting is one of the best features of ndarrays.It lets you perform arithmetics operations between \n",
    "# ndarrays of different sizes or between an ndarray and a simple number!\n",
    "\n",
    "# Broadcasting essentially stretches the smaller ndarray so that it matches the shape of the larger \n",
    "# ndarray, by using this we can reduce the number of spaces occupied by each bit in the memory allocation.\n",
    "\n",
    "a = np.arange(10,20,2)\n",
    "b = np.array([[2],[2]])\n",
    "print('Adding two different size arrays :','\\n',a+b)\n",
    "print('Multiplying an ndarray and a number :',a*2)"
   ]
  },
  {
   "cell_type": "code",
   "execution_count": 82,
   "metadata": {
    "scrolled": true
   },
   "outputs": [
    {
     "data": {
      "text/plain": [
       "array([[3., 3., 3.],\n",
       "       [3., 3., 3.],\n",
       "       [3., 3., 3.]])"
      ]
     },
     "execution_count": 82,
     "metadata": {},
     "output_type": "execute_result"
    }
   ],
   "source": [
    "# Its working can be thought of like stretching or making copies of the scalar, the number, [2, 2, 2] to \n",
    "# match the shape of the ndarray and then perform the operation element-wise.But no such copies are being \n",
    "# made.It is just a way of thinking about how broadcasting is working.\n",
    "\n",
    "# This is very useful because it is more efficient to multiply an array with a scalar value rather than \n",
    "# another array! It is important to note that two ndarrays can broadcast together only when they are \n",
    "# compatible.\n",
    "\n",
    "# Ndarrays are compatible when:\n",
    "\n",
    "# Both have the same dimensions\n",
    "# Either of the ndarrays has a dimension of 1.The one having a dimension of 1 is broadcast to meet the size\n",
    "# requirements of the larger ndarray\n",
    "\n",
    "# In case the arrays are not compatible, you will get a ValueError.\n",
    "\n",
    "a = np.ones((3,3))\n",
    "b = np.array([2])\n",
    "a+b"
   ]
  },
  {
   "cell_type": "code",
   "execution_count": 83,
   "metadata": {
    "scrolled": true
   },
   "outputs": [
    {
     "name": "stdout",
     "output_type": "stream",
     "text": [
      "150 ns ± 5.48 ns per loop (mean ± std. dev. of 7 runs, 10000000 loops each)\n"
     ]
    }
   ],
   "source": [
    "# ******************8.NumPy Ufuncs – The secret of its success!***********************\n",
    "\"\"\"Python is a dynamically typed language. This means the data type of a variable does not need to be \n",
    "   known at the time of the assignment. Python will automatically determine it at run-time. While this \n",
    "   means a cleaner and easier code to write, it also makes Python sluggish.\n",
    "\n",
    "   This problem manifests itself when Python has to do many operations repeatedly, like the addition of \n",
    "   two arrays. This is so because each time an operation needs to be performed, Python has to check the \n",
    "   data type of the element. This problem is overcome by NumPy using the ufuncs function.\n",
    "\n",
    "   The way NumPy makes this work faster is by using vectorization.Vectorization performs the same operation\n",
    "   on ndarray in an element-by-element fashion in a compiled code. So the data types of the elements do not\n",
    "   need to be determined every time, thereby performing faster operations.\n",
    "\n",
    "   ufuncs are Universal functions in NumPy that are simply mathematical functions.They perform fast element\n",
    "   -wise functions. They are called automatically when you are performing simple arithmetic operations on \n",
    "   NumPy arrays because they act as wrappers for NumPy ufuncs.\n",
    "\n",
    "   For example,when adding two NumPy arrays using ‘+’,the NumPy ufunc add() is automatically called behind\n",
    "   the scene and quietly does its magic:\n",
    "\"\"\"\n",
    "\n",
    "a = [1,2,3,4,5]\n",
    "b = [6,7,8,9,10]\n",
    "%timeit a+b"
   ]
  },
  {
   "cell_type": "code",
   "execution_count": 84,
   "metadata": {
    "scrolled": true
   },
   "outputs": [
    {
     "name": "stdout",
     "output_type": "stream",
     "text": [
      "744 ns ± 21.9 ns per loop (mean ± std. dev. of 7 runs, 1000000 loops each)\n"
     ]
    }
   ],
   "source": [
    "a = np.arange(1,6)\n",
    "b = np.arange(6,11)\n",
    "%timeit a+b"
   ]
  },
  {
   "cell_type": "code",
   "execution_count": 85,
   "metadata": {
    "scrolled": true
   },
   "outputs": [
    {
     "name": "stdout",
     "output_type": "stream",
     "text": [
      "Subtract : [-4 -3 -2 -1  0]\n",
      "Multiply : [ 5 10 15 20 25]\n",
      "Divide : [0.2 0.4 0.6 0.8 1. ]\n",
      "Power : [ 1  4  9 16 25]\n",
      "Remainder : [1 2 3 4 0]\n"
     ]
    }
   ],
   "source": [
    "# ***************9.Maths with NumPy arrays*******************\n",
    "# Basic arithmetic operations on NumPy arrays\n",
    "\n",
    "# The basic arithmetic operations can easily be performed on NumPy arrays.The important thing to remember \n",
    "# is that these simple arithmetics operation symbols just act as wrappers for NumPy ufuncs.\n",
    "\n",
    "print('Subtract :',a-5)\n",
    "print('Multiply :',a*5)\n",
    "print('Divide :',a/5)\n",
    "print('Power :',a**2)\n",
    "print('Remainder :',a%5)"
   ]
  },
  {
   "cell_type": "code",
   "execution_count": 86,
   "metadata": {
    "scrolled": true
   },
   "outputs": [
    {
     "name": "stdout",
     "output_type": "stream",
     "text": [
      "The array: [ 5  7  9 11 13]\n",
      "Mean : 9.0\n",
      "Standard deviation : 2.8284271247461903\n",
      "Median : 9.0\n"
     ]
    }
   ],
   "source": [
    "# Mean, Median and Standard deviation\n",
    "# To find the mean and standard deviation of a NumPy array, use the mean(), std() and median() methods:\n",
    "\n",
    "a = np.arange(5,15,2)\n",
    "print(\"The array:\",a)\n",
    "print('Mean :',np.mean(a))\n",
    "print('Standard deviation :',np.std(a))\n",
    "print('Median :',np.median(a))"
   ]
  },
  {
   "cell_type": "code",
   "execution_count": 87,
   "metadata": {
    "scrolled": true
   },
   "outputs": [
    {
     "name": "stdout",
     "output_type": "stream",
     "text": [
      "The array: [[1 6]\n",
      " [4 3]]\n",
      "Min : [1 3]\n",
      "Max : [6 4]\n"
     ]
    }
   ],
   "source": [
    "# Min-Max values and their indexes\n",
    "# Min and Max values in an ndarray can be easily found using the min() and max() methods:\n",
    "\n",
    "a = np.array([[1,6],[4,3]])\n",
    "\n",
    "# print the array\n",
    "print(\"The array:\",a)\n",
    "# minimum along a column\n",
    "print('Min :',np.min(a,axis=0))\n",
    "# maximum along a row\n",
    "print('Max :',np.max(a,axis=1))"
   ]
  },
  {
   "cell_type": "code",
   "execution_count": 88,
   "metadata": {
    "scrolled": true
   },
   "outputs": [
    {
     "name": "stdout",
     "output_type": "stream",
     "text": [
      "Min : [0 1 0]\n",
      "Max : [1 2]\n"
     ]
    }
   ],
   "source": [
    "# You can also easily determine the index of the minimum or maximum value in the ndarray along a particular\n",
    "# axis using the argmin() and argmax() methods:\n",
    "\n",
    "a = np.array([[1,6,5],\n",
    "[4,3,7]])\n",
    "# minimum along a column\n",
    "print('Min :',np.argmin(a,axis=0))\n",
    "# maximum along a row\n",
    "print('Max :',np.argmax(a,axis=1))"
   ]
  },
  {
   "cell_type": "code",
   "execution_count": 89,
   "metadata": {
    "scrolled": true
   },
   "outputs": [
    {
     "data": {
      "text/plain": [
       "array([1, 2, 3, 4, 5, 6, 7, 8, 9])"
      ]
     },
     "execution_count": 89,
     "metadata": {},
     "output_type": "execute_result"
    }
   ],
   "source": [
    "# ******************10.Sorting in NumPy arrays*************************\n",
    "\n",
    "\"\"\"For any programmer,the time complexity of any algorithm is of prime essence.Sorting is an important and\n",
    "   very basic operation that you might well use on a daily basis as a data scientist. So, it is important \n",
    "   to use a good sorting algorithm with minimum time complexity.\n",
    "\n",
    "   The NumPy library is a legend when it comes to sorting elements of an array. It has a range of sorting \n",
    "   functions that you can use to sort your array elements.It has implemented quicksort,heapsort,mergesort,\n",
    "   and timesort for you under the hood when you use the sort() method:\n",
    "\"\"\"\n",
    "\n",
    "a = np.array([1,4,2,5,3,6,8,7,9])\n",
    "np.sort(a, kind='quicksort')"
   ]
  },
  {
   "cell_type": "code",
   "execution_count": 90,
   "metadata": {},
   "outputs": [
    {
     "name": "stdout",
     "output_type": "stream",
     "text": [
      "Sort along column : \n",
      " [[4 5 6 7]\n",
      " [2 3 7 9]]\n",
      "Sort along row : \n",
      " [[5 2 3 4]\n",
      " [9 6 7 7]]\n"
     ]
    }
   ],
   "source": [
    "# You can even sort the array along any axis you desire:\n",
    "\n",
    "a = np.array([[5,6,7,4],\n",
    "              [9,2,3,7]])\n",
    "\n",
    "# sort along the column\n",
    "print('Sort along column :','\\n',np.sort(a, kind='mergresort',axis=1))\n",
    "\n",
    "# sort along the row\n",
    "print('Sort along row :','\\n',np.sort(a, kind='mergresort',axis=0))"
   ]
  }
 ],
 "metadata": {
  "kernelspec": {
   "display_name": "Python 3",
   "language": "python",
   "name": "python3"
  },
  "language_info": {
   "codemirror_mode": {
    "name": "ipython",
    "version": 3
   },
   "file_extension": ".py",
   "mimetype": "text/x-python",
   "name": "python",
   "nbconvert_exporter": "python",
   "pygments_lexer": "ipython3",
   "version": "3.8.0"
  }
 },
 "nbformat": 4,
 "nbformat_minor": 4
}

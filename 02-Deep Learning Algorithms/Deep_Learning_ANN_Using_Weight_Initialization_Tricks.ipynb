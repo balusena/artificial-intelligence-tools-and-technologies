{
 "cells": [
  {
   "cell_type": "code",
   "execution_count": 1,
   "metadata": {},
   "outputs": [],
   "source": [
    "# Artificial Neural Network\n",
    "\n",
    "\n",
    "# Part 1 - Data Preprocessing\n",
    "\n",
    "# Importing the libraries\n",
    "\n",
    "import numpy as np\n",
    "import matplotlib.pyplot as plt\n",
    "import pandas as pd"
   ]
  },
  {
   "cell_type": "code",
   "execution_count": 2,
   "metadata": {},
   "outputs": [],
   "source": [
    "# Importing the dataset\n",
    "\n",
    "dataset = pd.read_csv('E:/datafiles/Churn_Modelling.csv')\n",
    "\n",
    "X = dataset.iloc[:, 3:13]  #independent column\n",
    "y = dataset.iloc[:, 13]    #dependent column"
   ]
  },
  {
   "cell_type": "code",
   "execution_count": 3,
   "metadata": {
    "scrolled": true
   },
   "outputs": [
    {
     "data": {
      "text/html": [
       "<div>\n",
       "<style scoped>\n",
       "    .dataframe tbody tr th:only-of-type {\n",
       "        vertical-align: middle;\n",
       "    }\n",
       "\n",
       "    .dataframe tbody tr th {\n",
       "        vertical-align: top;\n",
       "    }\n",
       "\n",
       "    .dataframe thead th {\n",
       "        text-align: right;\n",
       "    }\n",
       "</style>\n",
       "<table border=\"1\" class=\"dataframe\">\n",
       "  <thead>\n",
       "    <tr style=\"text-align: right;\">\n",
       "      <th></th>\n",
       "      <th>RowNumber</th>\n",
       "      <th>CustomerId</th>\n",
       "      <th>Surname</th>\n",
       "      <th>CreditScore</th>\n",
       "      <th>Geography</th>\n",
       "      <th>Gender</th>\n",
       "      <th>Age</th>\n",
       "      <th>Tenure</th>\n",
       "      <th>Balance</th>\n",
       "      <th>NumOfProducts</th>\n",
       "      <th>HasCrCard</th>\n",
       "      <th>IsActiveMember</th>\n",
       "      <th>EstimatedSalary</th>\n",
       "      <th>Exited</th>\n",
       "    </tr>\n",
       "  </thead>\n",
       "  <tbody>\n",
       "    <tr>\n",
       "      <th>0</th>\n",
       "      <td>1</td>\n",
       "      <td>15634602</td>\n",
       "      <td>Hargrave</td>\n",
       "      <td>619</td>\n",
       "      <td>France</td>\n",
       "      <td>Female</td>\n",
       "      <td>42</td>\n",
       "      <td>2</td>\n",
       "      <td>0.00</td>\n",
       "      <td>1</td>\n",
       "      <td>1</td>\n",
       "      <td>1</td>\n",
       "      <td>101348.88</td>\n",
       "      <td>1</td>\n",
       "    </tr>\n",
       "    <tr>\n",
       "      <th>1</th>\n",
       "      <td>2</td>\n",
       "      <td>15647311</td>\n",
       "      <td>Hill</td>\n",
       "      <td>608</td>\n",
       "      <td>Spain</td>\n",
       "      <td>Female</td>\n",
       "      <td>41</td>\n",
       "      <td>1</td>\n",
       "      <td>83807.86</td>\n",
       "      <td>1</td>\n",
       "      <td>0</td>\n",
       "      <td>1</td>\n",
       "      <td>112542.58</td>\n",
       "      <td>0</td>\n",
       "    </tr>\n",
       "    <tr>\n",
       "      <th>2</th>\n",
       "      <td>3</td>\n",
       "      <td>15619304</td>\n",
       "      <td>Onio</td>\n",
       "      <td>502</td>\n",
       "      <td>France</td>\n",
       "      <td>Female</td>\n",
       "      <td>42</td>\n",
       "      <td>8</td>\n",
       "      <td>159660.80</td>\n",
       "      <td>3</td>\n",
       "      <td>1</td>\n",
       "      <td>0</td>\n",
       "      <td>113931.57</td>\n",
       "      <td>1</td>\n",
       "    </tr>\n",
       "    <tr>\n",
       "      <th>3</th>\n",
       "      <td>4</td>\n",
       "      <td>15701354</td>\n",
       "      <td>Boni</td>\n",
       "      <td>699</td>\n",
       "      <td>France</td>\n",
       "      <td>Female</td>\n",
       "      <td>39</td>\n",
       "      <td>1</td>\n",
       "      <td>0.00</td>\n",
       "      <td>2</td>\n",
       "      <td>0</td>\n",
       "      <td>0</td>\n",
       "      <td>93826.63</td>\n",
       "      <td>0</td>\n",
       "    </tr>\n",
       "    <tr>\n",
       "      <th>4</th>\n",
       "      <td>5</td>\n",
       "      <td>15737888</td>\n",
       "      <td>Mitchell</td>\n",
       "      <td>850</td>\n",
       "      <td>Spain</td>\n",
       "      <td>Female</td>\n",
       "      <td>43</td>\n",
       "      <td>2</td>\n",
       "      <td>125510.82</td>\n",
       "      <td>1</td>\n",
       "      <td>1</td>\n",
       "      <td>1</td>\n",
       "      <td>79084.10</td>\n",
       "      <td>0</td>\n",
       "    </tr>\n",
       "  </tbody>\n",
       "</table>\n",
       "</div>"
      ],
      "text/plain": [
       "   RowNumber  CustomerId   Surname  CreditScore Geography  Gender  Age  \\\n",
       "0          1    15634602  Hargrave          619    France  Female   42   \n",
       "1          2    15647311      Hill          608     Spain  Female   41   \n",
       "2          3    15619304      Onio          502    France  Female   42   \n",
       "3          4    15701354      Boni          699    France  Female   39   \n",
       "4          5    15737888  Mitchell          850     Spain  Female   43   \n",
       "\n",
       "   Tenure    Balance  NumOfProducts  HasCrCard  IsActiveMember  \\\n",
       "0       2       0.00              1          1               1   \n",
       "1       1   83807.86              1          0               1   \n",
       "2       8  159660.80              3          1               0   \n",
       "3       1       0.00              2          0               0   \n",
       "4       2  125510.82              1          1               1   \n",
       "\n",
       "   EstimatedSalary  Exited  \n",
       "0        101348.88       1  \n",
       "1        112542.58       0  \n",
       "2        113931.57       1  \n",
       "3         93826.63       0  \n",
       "4         79084.10       0  "
      ]
     },
     "execution_count": 3,
     "metadata": {},
     "output_type": "execute_result"
    }
   ],
   "source": [
    "dataset.head()"
   ]
  },
  {
   "cell_type": "code",
   "execution_count": 4,
   "metadata": {
    "scrolled": true
   },
   "outputs": [
    {
     "name": "stdout",
     "output_type": "stream",
     "text": [
      "   CreditScore Geography  Gender  Age  Tenure    Balance  NumOfProducts  \\\n",
      "0          619    France  Female   42       2       0.00              1   \n",
      "1          608     Spain  Female   41       1   83807.86              1   \n",
      "2          502    France  Female   42       8  159660.80              3   \n",
      "3          699    France  Female   39       1       0.00              2   \n",
      "4          850     Spain  Female   43       2  125510.82              1   \n",
      "\n",
      "   HasCrCard  IsActiveMember  EstimatedSalary  \n",
      "0          1               1        101348.88  \n",
      "1          0               1        112542.58  \n",
      "2          1               0        113931.57  \n",
      "3          0               0         93826.63  \n",
      "4          1               1         79084.10  \n"
     ]
    }
   ],
   "source": [
    "print(X.head())"
   ]
  },
  {
   "cell_type": "code",
   "execution_count": 5,
   "metadata": {},
   "outputs": [
    {
     "name": "stdout",
     "output_type": "stream",
     "text": [
      "0    1\n",
      "1    0\n",
      "2    1\n",
      "3    0\n",
      "4    0\n",
      "Name: Exited, dtype: int64\n"
     ]
    }
   ],
   "source": [
    "print(y.head())"
   ]
  },
  {
   "cell_type": "code",
   "execution_count": 6,
   "metadata": {},
   "outputs": [],
   "source": [
    "#Create dummy variables\n",
    "\n",
    "#In our dataset the 'Geography', 'Gender' are categorical features so convert them into dummy variable/features\n",
    "#To transform categorical data into nomial data like 0,1,2 because machine can only understands numerical data.\n",
    "\n",
    "geography=pd.get_dummies(X[\"Geography\"],drop_first=True)\n",
    "gender=pd.get_dummies(X['Gender'],drop_first=True)\n"
   ]
  },
  {
   "cell_type": "code",
   "execution_count": 7,
   "metadata": {
    "scrolled": true
   },
   "outputs": [
    {
     "data": {
      "text/html": [
       "<div>\n",
       "<style scoped>\n",
       "    .dataframe tbody tr th:only-of-type {\n",
       "        vertical-align: middle;\n",
       "    }\n",
       "\n",
       "    .dataframe tbody tr th {\n",
       "        vertical-align: top;\n",
       "    }\n",
       "\n",
       "    .dataframe thead th {\n",
       "        text-align: right;\n",
       "    }\n",
       "</style>\n",
       "<table border=\"1\" class=\"dataframe\">\n",
       "  <thead>\n",
       "    <tr style=\"text-align: right;\">\n",
       "      <th></th>\n",
       "      <th>Germany</th>\n",
       "      <th>Spain</th>\n",
       "    </tr>\n",
       "  </thead>\n",
       "  <tbody>\n",
       "    <tr>\n",
       "      <th>0</th>\n",
       "      <td>0</td>\n",
       "      <td>0</td>\n",
       "    </tr>\n",
       "    <tr>\n",
       "      <th>1</th>\n",
       "      <td>0</td>\n",
       "      <td>1</td>\n",
       "    </tr>\n",
       "    <tr>\n",
       "      <th>2</th>\n",
       "      <td>0</td>\n",
       "      <td>0</td>\n",
       "    </tr>\n",
       "    <tr>\n",
       "      <th>3</th>\n",
       "      <td>0</td>\n",
       "      <td>0</td>\n",
       "    </tr>\n",
       "    <tr>\n",
       "      <th>4</th>\n",
       "      <td>0</td>\n",
       "      <td>1</td>\n",
       "    </tr>\n",
       "  </tbody>\n",
       "</table>\n",
       "</div>"
      ],
      "text/plain": [
       "   Germany  Spain\n",
       "0        0      0\n",
       "1        0      1\n",
       "2        0      0\n",
       "3        0      0\n",
       "4        0      1"
      ]
     },
     "execution_count": 7,
     "metadata": {},
     "output_type": "execute_result"
    }
   ],
   "source": [
    "geography.head()"
   ]
  },
  {
   "cell_type": "code",
   "execution_count": 8,
   "metadata": {},
   "outputs": [
    {
     "data": {
      "text/html": [
       "<div>\n",
       "<style scoped>\n",
       "    .dataframe tbody tr th:only-of-type {\n",
       "        vertical-align: middle;\n",
       "    }\n",
       "\n",
       "    .dataframe tbody tr th {\n",
       "        vertical-align: top;\n",
       "    }\n",
       "\n",
       "    .dataframe thead th {\n",
       "        text-align: right;\n",
       "    }\n",
       "</style>\n",
       "<table border=\"1\" class=\"dataframe\">\n",
       "  <thead>\n",
       "    <tr style=\"text-align: right;\">\n",
       "      <th></th>\n",
       "      <th>Male</th>\n",
       "    </tr>\n",
       "  </thead>\n",
       "  <tbody>\n",
       "    <tr>\n",
       "      <th>0</th>\n",
       "      <td>0</td>\n",
       "    </tr>\n",
       "    <tr>\n",
       "      <th>1</th>\n",
       "      <td>0</td>\n",
       "    </tr>\n",
       "    <tr>\n",
       "      <th>2</th>\n",
       "      <td>0</td>\n",
       "    </tr>\n",
       "    <tr>\n",
       "      <th>3</th>\n",
       "      <td>0</td>\n",
       "    </tr>\n",
       "    <tr>\n",
       "      <th>4</th>\n",
       "      <td>0</td>\n",
       "    </tr>\n",
       "  </tbody>\n",
       "</table>\n",
       "</div>"
      ],
      "text/plain": [
       "   Male\n",
       "0     0\n",
       "1     0\n",
       "2     0\n",
       "3     0\n",
       "4     0"
      ]
     },
     "execution_count": 8,
     "metadata": {},
     "output_type": "execute_result"
    }
   ],
   "source": [
    "gender.head()"
   ]
  },
  {
   "cell_type": "code",
   "execution_count": 9,
   "metadata": {},
   "outputs": [],
   "source": [
    "# Concatenate the Data Frames with X data set\n",
    "\n",
    "X=pd.concat([X,geography,gender],axis=1)\n"
   ]
  },
  {
   "cell_type": "code",
   "execution_count": 10,
   "metadata": {},
   "outputs": [
    {
     "name": "stdout",
     "output_type": "stream",
     "text": [
      "   CreditScore Geography  Gender  Age  Tenure    Balance  NumOfProducts  \\\n",
      "0          619    France  Female   42       2       0.00              1   \n",
      "1          608     Spain  Female   41       1   83807.86              1   \n",
      "2          502    France  Female   42       8  159660.80              3   \n",
      "3          699    France  Female   39       1       0.00              2   \n",
      "4          850     Spain  Female   43       2  125510.82              1   \n",
      "\n",
      "   HasCrCard  IsActiveMember  EstimatedSalary  Germany  Spain  Male  \n",
      "0          1               1        101348.88        0      0     0  \n",
      "1          0               1        112542.58        0      1     0  \n",
      "2          1               0        113931.57        0      0     0  \n",
      "3          0               0         93826.63        0      0     0  \n",
      "4          1               1         79084.10        0      1     0  \n"
     ]
    }
   ],
   "source": [
    "print(X.head())"
   ]
  },
  {
   "cell_type": "code",
   "execution_count": 11,
   "metadata": {},
   "outputs": [],
   "source": [
    "#Drop Unnecessary columns\n",
    "\n",
    "X=X.drop(['Geography','Gender'],axis=1)\n"
   ]
  },
  {
   "cell_type": "code",
   "execution_count": 12,
   "metadata": {},
   "outputs": [
    {
     "name": "stdout",
     "output_type": "stream",
     "text": [
      "   CreditScore  Age  Tenure    Balance  NumOfProducts  HasCrCard  \\\n",
      "0          619   42       2       0.00              1          1   \n",
      "1          608   41       1   83807.86              1          0   \n",
      "2          502   42       8  159660.80              3          1   \n",
      "3          699   39       1       0.00              2          0   \n",
      "4          850   43       2  125510.82              1          1   \n",
      "\n",
      "   IsActiveMember  EstimatedSalary  Germany  Spain  Male  \n",
      "0               1        101348.88        0      0     0  \n",
      "1               1        112542.58        0      1     0  \n",
      "2               0        113931.57        0      0     0  \n",
      "3               0         93826.63        0      0     0  \n",
      "4               1         79084.10        0      1     0  \n"
     ]
    }
   ],
   "source": [
    "print(X.head())"
   ]
  },
  {
   "cell_type": "code",
   "execution_count": 13,
   "metadata": {},
   "outputs": [],
   "source": [
    "# Splitting the dataset into the Training set and Test set\n",
    "\n",
    "from sklearn.model_selection import train_test_split\n",
    "X_train, X_test, y_train, y_test = train_test_split(X, y, test_size = 0.2, random_state = 0)\n"
   ]
  },
  {
   "cell_type": "code",
   "execution_count": 14,
   "metadata": {},
   "outputs": [],
   "source": [
    "# Feature Scaling\n",
    "\n",
    "#Feature Scaling is done on all columns to make same magnitude of all columns\n",
    "\n",
    "from sklearn.preprocessing import StandardScaler\n",
    "sc = StandardScaler()\n",
    "X_train = sc.fit_transform(X_train)\n",
    "X_test = sc.transform(X_test)"
   ]
  },
  {
   "cell_type": "code",
   "execution_count": 15,
   "metadata": {
    "scrolled": true
   },
   "outputs": [
    {
     "data": {
      "text/plain": [
       "array([[ 0.16958176, -0.46460796,  0.00666099, ..., -0.5698444 ,\n",
       "         1.74309049, -1.09168714],\n",
       "       [-2.30455945,  0.30102557, -1.37744033, ...,  1.75486502,\n",
       "        -0.57369368,  0.91601335],\n",
       "       [-1.19119591, -0.94312892, -1.031415  , ..., -0.5698444 ,\n",
       "        -0.57369368, -1.09168714],\n",
       "       ...,\n",
       "       [ 0.9015152 , -0.36890377,  0.00666099, ..., -0.5698444 ,\n",
       "        -0.57369368,  0.91601335],\n",
       "       [-0.62420521, -0.08179119,  1.39076231, ..., -0.5698444 ,\n",
       "         1.74309049, -1.09168714],\n",
       "       [-0.28401079,  0.87525072, -1.37744033, ...,  1.75486502,\n",
       "        -0.57369368, -1.09168714]])"
      ]
     },
     "execution_count": 15,
     "metadata": {},
     "output_type": "execute_result"
    }
   ],
   "source": [
    "X_train"
   ]
  },
  {
   "cell_type": "code",
   "execution_count": 16,
   "metadata": {},
   "outputs": [
    {
     "data": {
      "text/plain": [
       "array([[-0.55204276, -0.36890377,  1.04473698, ...,  1.75486502,\n",
       "        -0.57369368, -1.09168714],\n",
       "       [-1.31490297,  0.10961719, -1.031415  , ..., -0.5698444 ,\n",
       "        -0.57369368, -1.09168714],\n",
       "       [ 0.57162971,  0.30102557,  1.04473698, ..., -0.5698444 ,\n",
       "         1.74309049, -1.09168714],\n",
       "       ...,\n",
       "       [-0.74791227, -0.27319958, -1.37744033, ..., -0.5698444 ,\n",
       "         1.74309049,  0.91601335],\n",
       "       [-0.00566991, -0.46460796, -0.33936434, ...,  1.75486502,\n",
       "        -0.57369368,  0.91601335],\n",
       "       [-0.79945688, -0.84742473,  1.04473698, ...,  1.75486502,\n",
       "        -0.57369368,  0.91601335]])"
      ]
     },
     "execution_count": 16,
     "metadata": {},
     "output_type": "execute_result"
    }
   ],
   "source": [
    "X_test"
   ]
  },
  {
   "cell_type": "code",
   "execution_count": 17,
   "metadata": {},
   "outputs": [
    {
     "name": "stderr",
     "output_type": "stream",
     "text": [
      "Using TensorFlow backend.\n"
     ]
    }
   ],
   "source": [
    "# Part 2 - Now let's make the ANN!\n",
    "\n",
    "# Importing the Keras libraries and packages\n",
    "\n",
    "import keras\n",
    "from keras.models import Sequential #To perform any operation on ANN in sequentional order then import models(Seque) from keras\n",
    "from keras.layers import Dense #If we want to create any hidden layer then we have to import Dense layer from keras\n",
    "from keras.layers import LeakyReLU,PReLU,ELU\n",
    "from keras.layers import Dropout\n"
   ]
  },
  {
   "cell_type": "code",
   "execution_count": 18,
   "metadata": {},
   "outputs": [],
   "source": [
    "# Initialising the ANN\n",
    "\n",
    "classifier = Sequential()"
   ]
  },
  {
   "cell_type": "code",
   "execution_count": 19,
   "metadata": {
    "scrolled": true
   },
   "outputs": [],
   "source": [
    "# Adding the input layer and the first hidden layer\n",
    "\n",
    "#units = 6 :first hidden layer 6 hidden neurons -----> dense_1\n",
    "#kernel_initializer = 'he_uniform' :is how my of weights initialized\n",
    "#activation = 'relu' :activation function bcz 'relu' activation function works well with 'he_uniform'\n",
    "#input_dim = 11 :\n",
    "\n",
    "classifier.add(Dense(units = 6, kernel_initializer = 'he_uniform',activation='relu',input_dim = 11))\n",
    "#classifier.add(Dropout(0.2))"
   ]
  },
  {
   "cell_type": "code",
   "execution_count": 20,
   "metadata": {
    "scrolled": true
   },
   "outputs": [],
   "source": [
    "# Adding the second hidden layer\n",
    "\n",
    "#units = 6 :second hidden layer 6 hidden neurons -----> dense_2\n",
    "#kernel_initializer = 'he_uniform' :is how my of weights initialized\n",
    "#activation = 'relu' :activation function bcz 'relu' activation function works well with 'he_uniform'\n",
    "\n",
    "classifier.add(Dense(units = 6, kernel_initializer = 'he_uniform',activation='relu'))\n",
    "#classifier.add(Dropout(0.3))"
   ]
  },
  {
   "cell_type": "code",
   "execution_count": 21,
   "metadata": {
    "scrolled": true
   },
   "outputs": [],
   "source": [
    "# Adding the output layer\n",
    "\n",
    "#This layer has only one dimension and need only one hidden neuron and is used for binary classification\n",
    "#If binary classification value is greater than 0.5 i.e, (>0.5) the answer is one 1.\n",
    "\n",
    "#units = 1 :Third hidden layer 1 hidden neurons which is output layer ----> dense_3\n",
    "#kernel_initializer = 'glorot_uniform' :is how my of weights initialized\n",
    "#activation = 'sigmoid' :activation function bcz 'sigmoid' activation function works well with 'glorot_uniform'\n",
    "\n",
    "classifier.add(Dense(units = 1, kernel_initializer = 'glorot_uniform', activation = 'sigmoid'))\n",
    "#classifier.add(Dropout(0.4))"
   ]
  },
  {
   "cell_type": "code",
   "execution_count": 22,
   "metadata": {},
   "outputs": [
    {
     "name": "stdout",
     "output_type": "stream",
     "text": [
      "Model: \"sequential_1\"\n",
      "_________________________________________________________________\n",
      "Layer (type)                 Output Shape              Param #   \n",
      "=================================================================\n",
      "dense_1 (Dense)              (None, 6)                 72        \n",
      "_________________________________________________________________\n",
      "dense_2 (Dense)              (None, 6)                 42        \n",
      "_________________________________________________________________\n",
      "dense_3 (Dense)              (None, 1)                 7         \n",
      "=================================================================\n",
      "Total params: 121\n",
      "Trainable params: 121\n",
      "Non-trainable params: 0\n",
      "_________________________________________________________________\n"
     ]
    }
   ],
   "source": [
    "#Total params denote that how many number of neurons , weights(w) and bias(b) we are adding\n",
    "\n",
    "classifier.summary()"
   ]
  },
  {
   "cell_type": "code",
   "execution_count": 23,
   "metadata": {},
   "outputs": [],
   "source": [
    "# Compiling the ANN\n",
    "\n",
    "#optimer ='Adamax': is the best optimizer using now in Deep Learning(ANN)\n",
    "#Whenever your output is 0 or 1 you should use loss = 'binary_crossentropy'\n",
    "#Whenever your output is multiple categories you should use loss = 'categorical_crossentropy'\n",
    "\n",
    "\n",
    "classifier.compile(optimizer = 'Adamax', loss = 'binary_crossentropy', metrics = ['accuracy'])\n"
   ]
  },
  {
   "cell_type": "code",
   "execution_count": 24,
   "metadata": {
    "scrolled": true
   },
   "outputs": [
    {
     "name": "stderr",
     "output_type": "stream",
     "text": [
      "<ipython-input-24-92053bc2a60d>:6: UserWarning: The `nb_epoch` argument in `fit` has been renamed `epochs`.\n",
      "  model_history=classifier.fit(X_train, y_train,validation_split=0.33, batch_size = 10, nb_epoch = 100)\n"
     ]
    },
    {
     "name": "stdout",
     "output_type": "stream",
     "text": [
      "Train on 5359 samples, validate on 2641 samples\n",
      "Epoch 1/100\n",
      "5359/5359 [==============================] - 1s 279us/step - loss: 0.5605 - accuracy: 0.7751 - val_loss: 0.5056 - val_accuracy: 0.7955\n",
      "Epoch 2/100\n",
      "5359/5359 [==============================] - 1s 242us/step - loss: 0.4973 - accuracy: 0.7962 - val_loss: 0.4787 - val_accuracy: 0.7955\n",
      "Epoch 3/100\n",
      "5359/5359 [==============================] - 1s 236us/step - loss: 0.4772 - accuracy: 0.7962 - val_loss: 0.4662 - val_accuracy: 0.7955\n",
      "Epoch 4/100\n",
      "5359/5359 [==============================] - 1s 225us/step - loss: 0.4651 - accuracy: 0.7962 - val_loss: 0.4575 - val_accuracy: 0.7955\n",
      "Epoch 5/100\n",
      "5359/5359 [==============================] - 1s 233us/step - loss: 0.4557 - accuracy: 0.7962 - val_loss: 0.4502 - val_accuracy: 0.7955\n",
      "Epoch 6/100\n",
      "5359/5359 [==============================] - 1s 235us/step - loss: 0.4474 - accuracy: 0.7962 - val_loss: 0.4444 - val_accuracy: 0.7955\n",
      "Epoch 7/100\n",
      "5359/5359 [==============================] - 1s 211us/step - loss: 0.4401 - accuracy: 0.7962 - val_loss: 0.4394 - val_accuracy: 0.7955\n",
      "Epoch 8/100\n",
      "5359/5359 [==============================] - 1s 205us/step - loss: 0.4334 - accuracy: 0.7964 - val_loss: 0.4355 - val_accuracy: 0.7955\n",
      "Epoch 9/100\n",
      "5359/5359 [==============================] - 1s 206us/step - loss: 0.4275 - accuracy: 0.7974 - val_loss: 0.4313 - val_accuracy: 0.7963\n",
      "Epoch 10/100\n",
      "5359/5359 [==============================] - 1s 213us/step - loss: 0.4216 - accuracy: 0.7987 - val_loss: 0.4268 - val_accuracy: 0.7970\n",
      "Epoch 11/100\n",
      "5359/5359 [==============================] - 1s 209us/step - loss: 0.4162 - accuracy: 0.8009 - val_loss: 0.4232 - val_accuracy: 0.7982\n",
      "Epoch 12/100\n",
      "5359/5359 [==============================] - 1s 207us/step - loss: 0.4107 - accuracy: 0.8044 - val_loss: 0.4193 - val_accuracy: 0.8008\n",
      "Epoch 13/100\n",
      "5359/5359 [==============================] - 1s 207us/step - loss: 0.4050 - accuracy: 0.8071 - val_loss: 0.4148 - val_accuracy: 0.8058\n",
      "Epoch 14/100\n",
      "5359/5359 [==============================] - 1s 208us/step - loss: 0.3989 - accuracy: 0.8253 - val_loss: 0.4109 - val_accuracy: 0.8186\n",
      "Epoch 15/100\n",
      "5359/5359 [==============================] - 1s 208us/step - loss: 0.3939 - accuracy: 0.8304 - val_loss: 0.4073 - val_accuracy: 0.8209\n",
      "Epoch 16/100\n",
      "5359/5359 [==============================] - 1s 209us/step - loss: 0.3888 - accuracy: 0.8317 - val_loss: 0.4029 - val_accuracy: 0.8224\n",
      "Epoch 17/100\n",
      "5359/5359 [==============================] - 1s 208us/step - loss: 0.3841 - accuracy: 0.8365 - val_loss: 0.3983 - val_accuracy: 0.8270\n",
      "Epoch 18/100\n",
      "5359/5359 [==============================] - 1s 210us/step - loss: 0.3793 - accuracy: 0.8418 - val_loss: 0.3950 - val_accuracy: 0.8304\n",
      "Epoch 19/100\n",
      "5359/5359 [==============================] - 1s 236us/step - loss: 0.3750 - accuracy: 0.8444 - val_loss: 0.3913 - val_accuracy: 0.8349\n",
      "Epoch 20/100\n",
      "5359/5359 [==============================] - 1s 208us/step - loss: 0.3710 - accuracy: 0.8505 - val_loss: 0.3887 - val_accuracy: 0.8387\n",
      "Epoch 21/100\n",
      "5359/5359 [==============================] - 1s 208us/step - loss: 0.3674 - accuracy: 0.8524 - val_loss: 0.3860 - val_accuracy: 0.8417\n",
      "Epoch 22/100\n",
      "5359/5359 [==============================] - 1s 210us/step - loss: 0.3642 - accuracy: 0.8526 - val_loss: 0.3839 - val_accuracy: 0.8421\n",
      "Epoch 23/100\n",
      "5359/5359 [==============================] - 1s 216us/step - loss: 0.3619 - accuracy: 0.8543 - val_loss: 0.3820 - val_accuracy: 0.8436\n",
      "Epoch 24/100\n",
      "5359/5359 [==============================] - 1s 216us/step - loss: 0.3600 - accuracy: 0.8545 - val_loss: 0.3808 - val_accuracy: 0.8451\n",
      "Epoch 25/100\n",
      "5359/5359 [==============================] - 1s 238us/step - loss: 0.3583 - accuracy: 0.8539 - val_loss: 0.3799 - val_accuracy: 0.8436\n",
      "Epoch 26/100\n",
      "5359/5359 [==============================] - 2s 288us/step - loss: 0.3565 - accuracy: 0.8554 - val_loss: 0.3793 - val_accuracy: 0.8459\n",
      "Epoch 27/100\n",
      "5359/5359 [==============================] - 1s 227us/step - loss: 0.3555 - accuracy: 0.8567 - val_loss: 0.3780 - val_accuracy: 0.8455\n",
      "Epoch 28/100\n",
      "5359/5359 [==============================] - 1s 221us/step - loss: 0.3544 - accuracy: 0.8556 - val_loss: 0.3771 - val_accuracy: 0.8444\n",
      "Epoch 29/100\n",
      "5359/5359 [==============================] - 1s 209us/step - loss: 0.3530 - accuracy: 0.8571 - val_loss: 0.3758 - val_accuracy: 0.8463\n",
      "Epoch 30/100\n",
      "5359/5359 [==============================] - 1s 209us/step - loss: 0.3521 - accuracy: 0.8561 - val_loss: 0.3750 - val_accuracy: 0.8448\n",
      "Epoch 31/100\n",
      "5359/5359 [==============================] - 1s 210us/step - loss: 0.3513 - accuracy: 0.8571 - val_loss: 0.3741 - val_accuracy: 0.8459\n",
      "Epoch 32/100\n",
      "5359/5359 [==============================] - 1s 219us/step - loss: 0.3503 - accuracy: 0.8571 - val_loss: 0.3748 - val_accuracy: 0.8466\n",
      "Epoch 33/100\n",
      "5359/5359 [==============================] - 1s 210us/step - loss: 0.3498 - accuracy: 0.8580 - val_loss: 0.3731 - val_accuracy: 0.8470\n",
      "Epoch 34/100\n",
      "5359/5359 [==============================] - 1s 210us/step - loss: 0.3487 - accuracy: 0.8572 - val_loss: 0.3721 - val_accuracy: 0.8470\n",
      "Epoch 35/100\n",
      "5359/5359 [==============================] - 1s 209us/step - loss: 0.3478 - accuracy: 0.8561 - val_loss: 0.3720 - val_accuracy: 0.8466\n",
      "Epoch 36/100\n",
      "5359/5359 [==============================] - 1s 208us/step - loss: 0.3472 - accuracy: 0.8572 - val_loss: 0.3719 - val_accuracy: 0.8485\n",
      "Epoch 37/100\n",
      "5359/5359 [==============================] - 1s 208us/step - loss: 0.3466 - accuracy: 0.8567 - val_loss: 0.3709 - val_accuracy: 0.8489\n",
      "Epoch 38/100\n",
      "5359/5359 [==============================] - 1s 209us/step - loss: 0.3456 - accuracy: 0.8567 - val_loss: 0.3716 - val_accuracy: 0.8482\n",
      "Epoch 39/100\n",
      "5359/5359 [==============================] - 1s 210us/step - loss: 0.3454 - accuracy: 0.8576 - val_loss: 0.3697 - val_accuracy: 0.8501\n",
      "Epoch 40/100\n",
      "5359/5359 [==============================] - 1s 209us/step - loss: 0.3452 - accuracy: 0.8569 - val_loss: 0.3695 - val_accuracy: 0.8501\n",
      "Epoch 41/100\n",
      "5359/5359 [==============================] - 1s 210us/step - loss: 0.3445 - accuracy: 0.8569 - val_loss: 0.3695 - val_accuracy: 0.8501\n",
      "Epoch 42/100\n",
      "5359/5359 [==============================] - 1s 208us/step - loss: 0.3441 - accuracy: 0.8556 - val_loss: 0.3692 - val_accuracy: 0.8501\n",
      "Epoch 43/100\n",
      "5359/5359 [==============================] - 1s 208us/step - loss: 0.3436 - accuracy: 0.8563 - val_loss: 0.3690 - val_accuracy: 0.8508\n",
      "Epoch 44/100\n",
      "5359/5359 [==============================] - 1s 211us/step - loss: 0.3433 - accuracy: 0.8574 - val_loss: 0.3690 - val_accuracy: 0.8497\n",
      "Epoch 45/100\n",
      "5359/5359 [==============================] - 1s 215us/step - loss: 0.3427 - accuracy: 0.8578 - val_loss: 0.3687 - val_accuracy: 0.8501\n",
      "Epoch 46/100\n",
      "5359/5359 [==============================] - 1s 240us/step - loss: 0.3426 - accuracy: 0.8569 - val_loss: 0.3678 - val_accuracy: 0.8523\n",
      "Epoch 47/100\n",
      "5359/5359 [==============================] - 1s 208us/step - loss: 0.3421 - accuracy: 0.8593 - val_loss: 0.3675 - val_accuracy: 0.8501\n",
      "Epoch 48/100\n",
      "5359/5359 [==============================] - 1s 208us/step - loss: 0.3416 - accuracy: 0.8574 - val_loss: 0.3675 - val_accuracy: 0.8504\n",
      "Epoch 49/100\n",
      "5359/5359 [==============================] - 1s 214us/step - loss: 0.3417 - accuracy: 0.8586 - val_loss: 0.3670 - val_accuracy: 0.8489\n",
      "Epoch 50/100\n",
      "5359/5359 [==============================] - 1s 210us/step - loss: 0.3411 - accuracy: 0.8582 - val_loss: 0.3668 - val_accuracy: 0.8508\n",
      "Epoch 51/100\n",
      "5359/5359 [==============================] - 1s 217us/step - loss: 0.3407 - accuracy: 0.8587 - val_loss: 0.3668 - val_accuracy: 0.8493\n",
      "Epoch 52/100\n",
      "5359/5359 [==============================] - 1s 217us/step - loss: 0.3406 - accuracy: 0.8576 - val_loss: 0.3663 - val_accuracy: 0.8489\n",
      "Epoch 53/100\n",
      "5359/5359 [==============================] - 1s 218us/step - loss: 0.3398 - accuracy: 0.8586 - val_loss: 0.3672 - val_accuracy: 0.8508\n",
      "Epoch 54/100\n",
      "5359/5359 [==============================] - 1s 222us/step - loss: 0.3403 - accuracy: 0.8586 - val_loss: 0.3662 - val_accuracy: 0.8501\n",
      "Epoch 55/100\n",
      "5359/5359 [==============================] - 1s 240us/step - loss: 0.3398 - accuracy: 0.8586 - val_loss: 0.3665 - val_accuracy: 0.8493\n",
      "Epoch 56/100\n",
      "5359/5359 [==============================] - 1s 227us/step - loss: 0.3397 - accuracy: 0.8584 - val_loss: 0.3661 - val_accuracy: 0.8512\n",
      "Epoch 57/100\n",
      "5359/5359 [==============================] - 1s 212us/step - loss: 0.3393 - accuracy: 0.8586 - val_loss: 0.3658 - val_accuracy: 0.8501\n",
      "Epoch 58/100\n",
      "5359/5359 [==============================] - 1s 223us/step - loss: 0.3391 - accuracy: 0.8589 - val_loss: 0.3654 - val_accuracy: 0.8497\n",
      "Epoch 59/100\n",
      "5359/5359 [==============================] - 1s 248us/step - loss: 0.3388 - accuracy: 0.8582 - val_loss: 0.3662 - val_accuracy: 0.8501\n",
      "Epoch 60/100\n",
      "5359/5359 [==============================] - 1s 221us/step - loss: 0.3389 - accuracy: 0.8600 - val_loss: 0.3652 - val_accuracy: 0.8512\n",
      "Epoch 61/100\n",
      "5359/5359 [==============================] - 1s 202us/step - loss: 0.3386 - accuracy: 0.8599 - val_loss: 0.3652 - val_accuracy: 0.8485\n",
      "Epoch 62/100\n",
      "5359/5359 [==============================] - 1s 201us/step - loss: 0.3385 - accuracy: 0.8597 - val_loss: 0.3652 - val_accuracy: 0.8508\n",
      "Epoch 63/100\n",
      "5359/5359 [==============================] - 1s 201us/step - loss: 0.3386 - accuracy: 0.8595 - val_loss: 0.3651 - val_accuracy: 0.8527\n",
      "Epoch 64/100\n",
      "5359/5359 [==============================] - 1s 201us/step - loss: 0.3382 - accuracy: 0.8602 - val_loss: 0.3649 - val_accuracy: 0.8508\n",
      "Epoch 65/100\n",
      "5359/5359 [==============================] - 1s 214us/step - loss: 0.3380 - accuracy: 0.8597 - val_loss: 0.3652 - val_accuracy: 0.8501\n",
      "Epoch 66/100\n",
      "5359/5359 [==============================] - 1s 208us/step - loss: 0.3379 - accuracy: 0.8608 - val_loss: 0.3653 - val_accuracy: 0.8501\n",
      "Epoch 67/100\n",
      "5359/5359 [==============================] - 1s 201us/step - loss: 0.3377 - accuracy: 0.8615 - val_loss: 0.3648 - val_accuracy: 0.8508\n",
      "Epoch 68/100\n",
      "5359/5359 [==============================] - 1s 231us/step - loss: 0.3377 - accuracy: 0.8593 - val_loss: 0.3646 - val_accuracy: 0.8504\n",
      "Epoch 69/100\n",
      "5359/5359 [==============================] - 1s 212us/step - loss: 0.3374 - accuracy: 0.8604 - val_loss: 0.3649 - val_accuracy: 0.8497\n",
      "Epoch 70/100\n",
      "5359/5359 [==============================] - 1s 212us/step - loss: 0.3374 - accuracy: 0.8612 - val_loss: 0.3655 - val_accuracy: 0.8504\n",
      "Epoch 71/100\n",
      "5359/5359 [==============================] - 1s 208us/step - loss: 0.3370 - accuracy: 0.8602 - val_loss: 0.3656 - val_accuracy: 0.8508\n",
      "Epoch 72/100\n",
      "5359/5359 [==============================] - 1s 232us/step - loss: 0.3372 - accuracy: 0.8619 - val_loss: 0.3647 - val_accuracy: 0.8512\n",
      "Epoch 73/100\n",
      "5359/5359 [==============================] - 1s 246us/step - loss: 0.3372 - accuracy: 0.8615 - val_loss: 0.3648 - val_accuracy: 0.8501\n",
      "Epoch 74/100\n",
      "5359/5359 [==============================] - 1s 225us/step - loss: 0.3369 - accuracy: 0.8608 - val_loss: 0.3643 - val_accuracy: 0.8493\n",
      "Epoch 75/100\n",
      "5359/5359 [==============================] - 1s 218us/step - loss: 0.3368 - accuracy: 0.8595 - val_loss: 0.3647 - val_accuracy: 0.8482\n",
      "Epoch 76/100\n",
      "5359/5359 [==============================] - 1s 199us/step - loss: 0.3366 - accuracy: 0.8604 - val_loss: 0.3649 - val_accuracy: 0.8501\n",
      "Epoch 77/100\n",
      "5359/5359 [==============================] - 1s 216us/step - loss: 0.3364 - accuracy: 0.8610 - val_loss: 0.3652 - val_accuracy: 0.8497\n",
      "Epoch 78/100\n",
      "5359/5359 [==============================] - 1s 205us/step - loss: 0.3365 - accuracy: 0.8614 - val_loss: 0.3651 - val_accuracy: 0.8516\n",
      "Epoch 79/100\n",
      "5359/5359 [==============================] - 1s 222us/step - loss: 0.3363 - accuracy: 0.8614 - val_loss: 0.3644 - val_accuracy: 0.8508\n",
      "Epoch 80/100\n",
      "5359/5359 [==============================] - 1s 225us/step - loss: 0.3363 - accuracy: 0.8612 - val_loss: 0.3651 - val_accuracy: 0.8493\n",
      "Epoch 81/100\n",
      "5359/5359 [==============================] - 1s 212us/step - loss: 0.3361 - accuracy: 0.8608 - val_loss: 0.3652 - val_accuracy: 0.8501\n",
      "Epoch 82/100\n",
      "5359/5359 [==============================] - 1s 228us/step - loss: 0.3356 - accuracy: 0.8627 - val_loss: 0.3662 - val_accuracy: 0.8485\n",
      "Epoch 83/100\n",
      "5359/5359 [==============================] - 1s 219us/step - loss: 0.3362 - accuracy: 0.8612 - val_loss: 0.3650 - val_accuracy: 0.8501\n",
      "Epoch 84/100\n",
      "5359/5359 [==============================] - 1s 222us/step - loss: 0.3356 - accuracy: 0.8615 - val_loss: 0.3641 - val_accuracy: 0.8519\n",
      "Epoch 85/100\n",
      "5359/5359 [==============================] - 1s 230us/step - loss: 0.3355 - accuracy: 0.8617 - val_loss: 0.3650 - val_accuracy: 0.8516\n",
      "Epoch 86/100\n",
      "5359/5359 [==============================] - 1s 239us/step - loss: 0.3355 - accuracy: 0.8623 - val_loss: 0.3646 - val_accuracy: 0.8504\n",
      "Epoch 87/100\n",
      "5359/5359 [==============================] - 1s 214us/step - loss: 0.3356 - accuracy: 0.8619 - val_loss: 0.3641 - val_accuracy: 0.8504\n",
      "Epoch 88/100\n",
      "5359/5359 [==============================] - 1s 217us/step - loss: 0.3354 - accuracy: 0.8614 - val_loss: 0.3643 - val_accuracy: 0.8497\n",
      "Epoch 89/100\n",
      "5359/5359 [==============================] - 1s 211us/step - loss: 0.3348 - accuracy: 0.8621 - val_loss: 0.3662 - val_accuracy: 0.8493\n",
      "Epoch 90/100\n",
      "5359/5359 [==============================] - 1s 217us/step - loss: 0.3354 - accuracy: 0.8615 - val_loss: 0.3650 - val_accuracy: 0.8508\n",
      "Epoch 91/100\n",
      "5359/5359 [==============================] - 1s 224us/step - loss: 0.3352 - accuracy: 0.8604 - val_loss: 0.3641 - val_accuracy: 0.8516\n",
      "Epoch 92/100\n",
      "5359/5359 [==============================] - 1s 209us/step - loss: 0.3353 - accuracy: 0.8606 - val_loss: 0.3639 - val_accuracy: 0.8519\n",
      "Epoch 93/100\n",
      "5359/5359 [==============================] - 1s 213us/step - loss: 0.3350 - accuracy: 0.8617 - val_loss: 0.3646 - val_accuracy: 0.8512\n",
      "Epoch 94/100\n",
      "5359/5359 [==============================] - 1s 215us/step - loss: 0.3349 - accuracy: 0.8619 - val_loss: 0.3640 - val_accuracy: 0.8527\n",
      "Epoch 95/100\n",
      "5359/5359 [==============================] - 1s 276us/step - loss: 0.3349 - accuracy: 0.8606 - val_loss: 0.3637 - val_accuracy: 0.8527\n",
      "Epoch 96/100\n",
      "5359/5359 [==============================] - 1s 264us/step - loss: 0.3347 - accuracy: 0.8621 - val_loss: 0.3637 - val_accuracy: 0.8519\n",
      "Epoch 97/100\n",
      "5359/5359 [==============================] - 2s 287us/step - loss: 0.3347 - accuracy: 0.8627 - val_loss: 0.3642 - val_accuracy: 0.8527\n",
      "Epoch 98/100\n",
      "5359/5359 [==============================] - 1s 267us/step - loss: 0.3349 - accuracy: 0.8632 - val_loss: 0.3636 - val_accuracy: 0.8519\n",
      "Epoch 99/100\n",
      "5359/5359 [==============================] - 1s 214us/step - loss: 0.3343 - accuracy: 0.8610 - val_loss: 0.3638 - val_accuracy: 0.8512\n",
      "Epoch 100/100\n",
      "5359/5359 [==============================] - 1s 232us/step - loss: 0.3345 - accuracy: 0.8617 - val_loss: 0.3640 - val_accuracy: 0.8519\n"
     ]
    }
   ],
   "source": [
    "# Fitting the ANN to the Training set\n",
    "\n",
    "#Taking the validation_split=0.33, so that we can test the dataset seperately, model seperately for test dataset\n",
    "#Taking batch_size=10 which reduces the computational power and reduce disk i/o operations\n",
    "\n",
    "model_history=classifier.fit(X_train, y_train,validation_split=0.33, batch_size = 10, nb_epoch = 100)\n"
   ]
  },
  {
   "cell_type": "code",
   "execution_count": 25,
   "metadata": {},
   "outputs": [
    {
     "name": "stdout",
     "output_type": "stream",
     "text": [
      "dict_keys(['val_loss', 'val_accuracy', 'loss', 'accuracy'])\n"
     ]
    }
   ],
   "source": [
    "# list all data in history\n",
    "\n",
    "print(model_history.history.keys())"
   ]
  },
  {
   "cell_type": "code",
   "execution_count": 26,
   "metadata": {},
   "outputs": [
    {
     "data": {
      "image/png": "[encoded data removed]",
      "text/plain": [
       "<Figure size 432x288 with 1 Axes>"
      ]
     },
     "metadata": {
      "needs_background": "light"
     },
     "output_type": "display_data"
    }
   ],
   "source": [
    "# summarize history for accuracy\n",
    "\n",
    "plt.plot(model_history.history['accuracy'])\n",
    "plt.plot(model_history.history['val_accuracy'])\n",
    "plt.title('model accuracy')\n",
    "plt.ylabel('accuracy')\n",
    "plt.xlabel('epoch')\n",
    "plt.legend(['train', 'test'], loc='upper left')\n",
    "plt.show()"
   ]
  },
  {
   "cell_type": "code",
   "execution_count": 27,
   "metadata": {
    "scrolled": true
   },
   "outputs": [
    {
     "data": {
      "image/png": "[encoded data removed]",
      "text/plain": [
       "<Figure size 432x288 with 1 Axes>"
      ]
     },
     "metadata": {
      "needs_background": "light"
     },
     "output_type": "display_data"
    }
   ],
   "source": [
    "# summarize history for loss\n",
    "\n",
    "plt.plot(model_history.history['loss'])\n",
    "plt.plot(model_history.history['val_loss'])\n",
    "plt.title('model loss')\n",
    "plt.ylabel('loss')\n",
    "plt.xlabel('epoch')\n",
    "plt.legend(['train', 'test'], loc='upper left')\n",
    "plt.show()"
   ]
  },
  {
   "cell_type": "code",
   "execution_count": 28,
   "metadata": {},
   "outputs": [],
   "source": [
    "# Part 3 - Making the predictions and evaluating the model\n",
    "\n",
    "# Predicting the Test set results\n",
    "\n",
    "y_pred = classifier.predict(X_test)\n",
    "y_pred = (y_pred > 0.5)"
   ]
  },
  {
   "cell_type": "code",
   "execution_count": 29,
   "metadata": {},
   "outputs": [
    {
     "data": {
      "text/plain": [
       "array([[False],\n",
       "       [False],\n",
       "       [False],\n",
       "       ...,\n",
       "       [False],\n",
       "       [False],\n",
       "       [False]])"
      ]
     },
     "execution_count": 29,
     "metadata": {},
     "output_type": "execute_result"
    }
   ],
   "source": [
    "y_pred"
   ]
  },
  {
   "cell_type": "code",
   "execution_count": 30,
   "metadata": {},
   "outputs": [],
   "source": [
    "# Making the Confusion Matrix\n",
    "\n",
    "from sklearn.metrics import confusion_matrix\n",
    "cm = confusion_matrix(y_test, y_pred)"
   ]
  },
  {
   "cell_type": "code",
   "execution_count": 31,
   "metadata": {},
   "outputs": [
    {
     "name": "stdout",
     "output_type": "stream",
     "text": [
      "[[1516   79]\n",
      " [ 207  198]]\n"
     ]
    }
   ],
   "source": [
    "print(cm)"
   ]
  },
  {
   "cell_type": "code",
   "execution_count": 32,
   "metadata": {},
   "outputs": [
    {
     "data": {
      "text/plain": [
       "Text(69.0, 0.5, 'Truth')"
      ]
     },
     "execution_count": 32,
     "metadata": {},
     "output_type": "execute_result"
    },
    {
     "data": {
      "image/png": "[encoded data removed]",
      "text/plain": [
       "<Figure size 720x504 with 2 Axes>"
      ]
     },
     "metadata": {
      "needs_background": "light"
     },
     "output_type": "display_data"
    }
   ],
   "source": [
    "import seaborn as sn\n",
    "plt.figure(figsize = (10,7))\n",
    "sn.heatmap(cm, annot = True)\n",
    "plt.xlabel('Predicted')\n",
    "plt.ylabel('Truth')"
   ]
  },
  {
   "cell_type": "code",
   "execution_count": 33,
   "metadata": {},
   "outputs": [],
   "source": [
    "# Calculate the Accuracy\n",
    "\n",
    "from sklearn.metrics import accuracy_score\n",
    "score=accuracy_score(y_pred,y_test)\n"
   ]
  },
  {
   "cell_type": "code",
   "execution_count": 34,
   "metadata": {},
   "outputs": [
    {
     "data": {
      "text/plain": [
       "0.857"
      ]
     },
     "execution_count": 34,
     "metadata": {},
     "output_type": "execute_result"
    }
   ],
   "source": [
    "score"
   ]
  }
 ],
 "metadata": {
  "kernelspec": {
   "display_name": "Python 3",
   "language": "python",
   "name": "python3"
  },
  "language_info": {
   "codemirror_mode": {
    "name": "ipython",
    "version": 3
   },
   "file_extension": ".py",
   "mimetype": "text/x-python",
   "name": "python",
   "nbconvert_exporter": "python",
   "pygments_lexer": "ipython3",
   "version": "3.8.0"
  }
 },
 "nbformat": 4,
 "nbformat_minor": 4
}

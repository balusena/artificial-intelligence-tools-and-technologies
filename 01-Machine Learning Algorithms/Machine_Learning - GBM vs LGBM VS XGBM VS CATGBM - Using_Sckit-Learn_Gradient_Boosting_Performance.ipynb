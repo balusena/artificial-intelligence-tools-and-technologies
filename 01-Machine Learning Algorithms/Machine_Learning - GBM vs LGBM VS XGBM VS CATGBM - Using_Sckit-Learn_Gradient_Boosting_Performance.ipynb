{
 "cells": [
  {
   "cell_type": "code",
   "execution_count": 1,
   "metadata": {},
   "outputs": [],
   "source": [
    "#Gradient Boosting:-Fits a series of models by fitting each successive model in order to minimize the error\n",
    "#of previous ones\n",
    "\n",
    "#Gradient Boosting | Gradient Boosting Machine | GBM\n",
    "\n",
    "#Gradient Boosting is an ensemble algorithm that fits boosted decision trees by minimizing error gradient.\n",
    "\n",
    "#There are many implementations of the gradient boosting algorithm available in Python.\n",
    "\n",
    "#Lets try a classifier with all of them and compare the 'speed' and 'accuracy' of them.\n",
    "\n",
    "import pandas as pd\n",
    "import numpy as np\n",
    "from time import time"
   ]
  },
  {
   "cell_type": "code",
   "execution_count": 2,
   "metadata": {},
   "outputs": [],
   "source": [
    "from sklearn.datasets import make_classification\n",
    "\n",
    "X, y = make_classification(\n",
    "    n_samples = 100000, n_features = 20, n_informative = 15, n_redundant = 5, random_state = 0\n",
    ")"
   ]
  },
  {
   "cell_type": "code",
   "execution_count": 3,
   "metadata": {
    "scrolled": true
   },
   "outputs": [
    {
     "data": {
      "text/plain": [
       "array([[-0.07328048, -0.72628836,  6.64048251, ...,  0.39476427,\n",
       "        -4.46968002,  5.67254441],\n",
       "       [ 4.54645272, -0.6500376 , -5.45173152, ..., -2.7305627 ,\n",
       "         6.20089877, -1.20162908],\n",
       "       [ 3.17903912, -1.36282586, -7.05044747, ...,  0.43418885,\n",
       "         1.50405227, -0.14015885],\n",
       "       ...,\n",
       "       [ 3.11720532, -1.9218521 , -7.48327115, ..., -0.86394898,\n",
       "        -0.63529205, -2.32373136],\n",
       "       [-3.35282454,  1.77252544,  1.96927206, ...,  4.32916189,\n",
       "        -1.40119583,  1.43359914],\n",
       "       [ 0.38985667, -1.66219807,  4.87341974, ..., -0.27866353,\n",
       "         0.72928873, -2.83408834]])"
      ]
     },
     "execution_count": 3,
     "metadata": {},
     "output_type": "execute_result"
    }
   ],
   "source": [
    "X"
   ]
  },
  {
   "cell_type": "code",
   "execution_count": 4,
   "metadata": {
    "scrolled": true
   },
   "outputs": [
    {
     "data": {
      "text/plain": [
       "(100000, 20)"
      ]
     },
     "execution_count": 4,
     "metadata": {},
     "output_type": "execute_result"
    }
   ],
   "source": [
    "X.shape"
   ]
  },
  {
   "cell_type": "code",
   "execution_count": 5,
   "metadata": {},
   "outputs": [],
   "source": [
    "#To record the speed and accuracy we are using two dictonaries\n",
    "\n",
    "accuracy = {}\n",
    "speed = {}"
   ]
  },
  {
   "cell_type": "code",
   "execution_count": 6,
   "metadata": {},
   "outputs": [],
   "source": [
    "#Sckit-Learn implementation\n",
    "\n",
    "from sklearn.ensemble import GradientBoostingClassifier\n",
    "from sklearn.model_selection import cross_val_score\n",
    "from sklearn.model_selection import RepeatedStratifiedKFold"
   ]
  },
  {
   "cell_type": "code",
   "execution_count": 7,
   "metadata": {},
   "outputs": [
    {
     "name": "stdout",
     "output_type": "stream",
     "text": [
      "Mean Accuracy: 0.894\n",
      "Std: 0.003\n",
      "Run time: 470.614s\n"
     ]
    }
   ],
   "source": [
    "model = GradientBoostingClassifier()\n",
    "\n",
    "start = time()\n",
    "cv = RepeatedStratifiedKFold(n_splits = 5, n_repeats = 2, random_state = 0)\n",
    "score = cross_val_score(model, X, y, scoring = 'accuracy', cv = cv, n_jobs = -1)\n",
    "\n",
    "speed['GradientBoosting'] = np.round(time() - start, 3)\n",
    "accuracy['GradientBoosting'] = np.mean(score).round(3)\n",
    "\n",
    "print(\n",
    "    f\"Mean Accuracy: {accuracy['GradientBoosting']}\\nStd: {np.std(score):.3f}\\nRun time: {speed['GradientBoosting']}s\"\n",
    ")"
   ]
  },
  {
   "cell_type": "code",
   "execution_count": 8,
   "metadata": {},
   "outputs": [],
   "source": [
    "#ALternative\n",
    "\n",
    "#This is based on LGBM which is an alternative for GBM to speed up the application compared to GBM.\n",
    "\n",
    "from sklearn.experimental import enable_hist_gradient_boosting\n",
    "from sklearn.ensemble import HistGradientBoostingClassifier"
   ]
  },
  {
   "cell_type": "code",
   "execution_count": 9,
   "metadata": {
    "scrolled": true
   },
   "outputs": [
    {
     "name": "stdout",
     "output_type": "stream",
     "text": [
      "Mean Accuracy: 0.963\n",
      "Std: 0.002\n",
      "Run time: 29.884s\n"
     ]
    }
   ],
   "source": [
    "model = HistGradientBoostingClassifier()\n",
    "\n",
    "start = time()\n",
    "cv = RepeatedStratifiedKFold(n_splits = 5, n_repeats = 2, random_state = 0)\n",
    "score = cross_val_score(model, X, y, scoring = 'accuracy', cv = cv, n_jobs = -1)\n",
    "\n",
    "speed['HistGradientBoosting'] = np.round(time() - start, 3)\n",
    "accuracy['HistGradientBoosting'] = np.mean(score).round(3)\n",
    "\n",
    "print(\n",
    "    f\"Mean Accuracy: {accuracy['HistGradientBoosting']}\\nStd: {np.std(score):.3f}\\nRun time: {speed['HistGradientBoosting']}s\"\n",
    ")"
   ]
  },
  {
   "cell_type": "code",
   "execution_count": 10,
   "metadata": {},
   "outputs": [],
   "source": [
    "#XGBoost or XGBM\n",
    "\n",
    "from xgboost import XGBClassifier"
   ]
  },
  {
   "cell_type": "code",
   "execution_count": 11,
   "metadata": {},
   "outputs": [
    {
     "name": "stdout",
     "output_type": "stream",
     "text": [
      "Mean Accuracy: 0.976\n",
      "Std: 0.001\n",
      "Run time: 396.637s\n"
     ]
    }
   ],
   "source": [
    "model = XGBClassifier()\n",
    "\n",
    "start = time()\n",
    "cv = RepeatedStratifiedKFold(n_splits = 5, n_repeats = 2, random_state = 0)\n",
    "score = cross_val_score(model, X, y, scoring = 'accuracy', cv = cv, n_jobs = -1)\n",
    "\n",
    "speed['XGB'] = np.round(time() - start, 3)\n",
    "accuracy['XGB'] = np.mean(score).round(3)\n",
    "\n",
    "print(\n",
    "    f\"Mean Accuracy: {accuracy['XGB']}\\nStd: {np.std(score):.3f}\\nRun time: {speed['XGB']}s\"\n",
    ")"
   ]
  },
  {
   "cell_type": "code",
   "execution_count": 13,
   "metadata": {},
   "outputs": [],
   "source": [
    "#LGBM or LightGBM\n",
    "\n",
    "#This was implemented by Microsoft to improve the speed and accuracy of the GradientBoostingMachines\n",
    "#This improves the performance and increases spped and accuracy of models\n",
    "\n",
    "from lightgbm import LGBMClassifier"
   ]
  },
  {
   "cell_type": "code",
   "execution_count": 14,
   "metadata": {
    "scrolled": true
   },
   "outputs": [
    {
     "name": "stdout",
     "output_type": "stream",
     "text": [
      "Mean Accuracy: 0.963\n",
      "Std: 0.001\n",
      "Run time: 16.9s\n"
     ]
    }
   ],
   "source": [
    "model = LGBMClassifier()\n",
    "\n",
    "start = time()\n",
    "cv = RepeatedStratifiedKFold(n_splits = 5, n_repeats = 2, random_state = 0)\n",
    "score = cross_val_score(model, X, y, scoring = 'accuracy', cv = cv, n_jobs = -1)\n",
    "\n",
    "speed['LGBM'] = np.round(time() - start, 3)\n",
    "accuracy['LGBM'] = np.mean(score).round(3)\n",
    "\n",
    "print(\n",
    "    f\"Mean Accuracy: {accuracy['LGBM']}\\nStd: {np.std(score):.3f}\\nRun time: {speed['LGBM']}s\"\n",
    ")"
   ]
  },
  {
   "cell_type": "code",
   "execution_count": 15,
   "metadata": {},
   "outputs": [],
   "source": [
    "#CatGBM or Catboost\n",
    "#It also supports categorical input variables even it supports accuracy and speed increase.\n",
    "\n",
    "from catboost import CatBoostClassifier"
   ]
  },
  {
   "cell_type": "code",
   "execution_count": 16,
   "metadata": {},
   "outputs": [
    {
     "name": "stdout",
     "output_type": "stream",
     "text": [
      "Mean Accuracy: 0.983\n",
      "Std: 0.001\n",
      "Run time: 493.179s\n"
     ]
    }
   ],
   "source": [
    "model = CatBoostClassifier()\n",
    "\n",
    "start = time()\n",
    "cv = RepeatedStratifiedKFold(n_splits = 5, n_repeats = 2, random_state = 0)\n",
    "score = cross_val_score(model, X, y, scoring = 'accuracy', cv = cv, n_jobs = -1)\n",
    "\n",
    "speed['CatBoost'] = np.round(time() - start, 3)\n",
    "accuracy['CatBoost'] = np.mean(score).round(3)\n",
    "\n",
    "print(\n",
    "    f\"Mean Accuracy: {accuracy['CatBoost']}\\nStd: {np.std(score):.3f}\\nRun time: {speed['CatBoost']}s\"\n",
    ")"
   ]
  },
  {
   "cell_type": "code",
   "execution_count": 17,
   "metadata": {},
   "outputs": [
    {
     "name": "stdout",
     "output_type": "stream",
     "text": [
      "Accuracy:\n"
     ]
    },
    {
     "data": {
      "text/plain": [
       "{'CatBoost': 0.983,\n",
       " 'XGB': 0.976,\n",
       " 'HistGradientBoosting': 0.963,\n",
       " 'LGBM': 0.963,\n",
       " 'GradientBoosting': 0.894}"
      ]
     },
     "execution_count": 17,
     "metadata": {},
     "output_type": "execute_result"
    }
   ],
   "source": [
    "print(\"Accuracy:\")\n",
    "{k: v for k, v in sorted(accuracy.items(), key = lambda i: i[1], reverse = True)}"
   ]
  },
  {
   "cell_type": "code",
   "execution_count": 18,
   "metadata": {},
   "outputs": [
    {
     "name": "stdout",
     "output_type": "stream",
     "text": [
      "Speed:\n"
     ]
    },
    {
     "data": {
      "text/plain": [
       "{'LGBM': 16.9,\n",
       " 'HistGradientBoosting': 29.884,\n",
       " 'XGB': 396.637,\n",
       " 'GradientBoosting': 470.614,\n",
       " 'CatBoost': 493.179}"
      ]
     },
     "execution_count": 18,
     "metadata": {},
     "output_type": "execute_result"
    }
   ],
   "source": [
    "print(\"Speed:\")\n",
    "{k: v for k, v in sorted(speed.items(), key = lambda i: i[1], reverse = False)}"
   ]
  }
 ],
 "metadata": {
  "kernelspec": {
   "display_name": "Python 3",
   "language": "python",
   "name": "python3"
  },
  "language_info": {
   "codemirror_mode": {
    "name": "ipython",
    "version": 3
   },
   "file_extension": ".py",
   "mimetype": "text/x-python",
   "name": "python",
   "nbconvert_exporter": "python",
   "pygments_lexer": "ipython3",
   "version": "3.8.0"
  }
 },
 "nbformat": 4,
 "nbformat_minor": 4
}

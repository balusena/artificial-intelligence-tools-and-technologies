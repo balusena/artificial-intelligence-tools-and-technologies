{
 "cells": [
  {
   "cell_type": "code",
   "execution_count": 1,
   "metadata": {},
   "outputs": [],
   "source": [
    "# Import the necessary modules and analyze the data based on attributes\n",
    "\n",
    "import pandas as pd\n",
    "import numpy as np\n",
    "import seaborn as sns\n",
    "import matplotlib.pyplot as plt\n",
    "import warnings\n",
    "sns.set(rc = {'figure.figsize':(10,4)})\n",
    "warnings.filterwarnings('ignore')\n",
    "%matplotlib inline"
   ]
  },
  {
   "cell_type": "code",
   "execution_count": 2,
   "metadata": {},
   "outputs": [],
   "source": [
    "# Load the Titanic_Dataset into the df variable\n",
    "\n",
    "df = pd.read_csv('E:/TITANIC_ML_TSU/Titanic_Dataset.csv')"
   ]
  },
  {
   "cell_type": "code",
   "execution_count": 3,
   "metadata": {
    "scrolled": true
   },
   "outputs": [
    {
     "data": {
      "text/html": [
       "<div>\n",
       "<style scoped>\n",
       "    .dataframe tbody tr th:only-of-type {\n",
       "        vertical-align: middle;\n",
       "    }\n",
       "\n",
       "    .dataframe tbody tr th {\n",
       "        vertical-align: top;\n",
       "    }\n",
       "\n",
       "    .dataframe thead th {\n",
       "        text-align: right;\n",
       "    }\n",
       "</style>\n",
       "<table border=\"1\" class=\"dataframe\">\n",
       "  <thead>\n",
       "    <tr style=\"text-align: right;\">\n",
       "      <th></th>\n",
       "      <th>PassengerId</th>\n",
       "      <th>Survived</th>\n",
       "      <th>Pclass</th>\n",
       "      <th>Name</th>\n",
       "      <th>Sex</th>\n",
       "      <th>Age</th>\n",
       "      <th>SibSp</th>\n",
       "      <th>Parch</th>\n",
       "      <th>Ticket</th>\n",
       "      <th>Fare</th>\n",
       "      <th>Cabin</th>\n",
       "      <th>Embarked</th>\n",
       "    </tr>\n",
       "  </thead>\n",
       "  <tbody>\n",
       "    <tr>\n",
       "      <th>0</th>\n",
       "      <td>1</td>\n",
       "      <td>0</td>\n",
       "      <td>3</td>\n",
       "      <td>Braund, Mr. Owen Harris</td>\n",
       "      <td>male</td>\n",
       "      <td>22.0</td>\n",
       "      <td>1</td>\n",
       "      <td>0</td>\n",
       "      <td>A/5 21171</td>\n",
       "      <td>7.2500</td>\n",
       "      <td>NaN</td>\n",
       "      <td>S</td>\n",
       "    </tr>\n",
       "    <tr>\n",
       "      <th>1</th>\n",
       "      <td>2</td>\n",
       "      <td>1</td>\n",
       "      <td>1</td>\n",
       "      <td>Cumings, Mrs. John Bradley (Florence Briggs Th...</td>\n",
       "      <td>female</td>\n",
       "      <td>38.0</td>\n",
       "      <td>1</td>\n",
       "      <td>0</td>\n",
       "      <td>PC 17599</td>\n",
       "      <td>71.2833</td>\n",
       "      <td>C85</td>\n",
       "      <td>C</td>\n",
       "    </tr>\n",
       "    <tr>\n",
       "      <th>2</th>\n",
       "      <td>3</td>\n",
       "      <td>1</td>\n",
       "      <td>3</td>\n",
       "      <td>Heikkinen, Miss. Laina</td>\n",
       "      <td>female</td>\n",
       "      <td>26.0</td>\n",
       "      <td>0</td>\n",
       "      <td>0</td>\n",
       "      <td>STON/O2. 3101282</td>\n",
       "      <td>7.9250</td>\n",
       "      <td>NaN</td>\n",
       "      <td>S</td>\n",
       "    </tr>\n",
       "    <tr>\n",
       "      <th>3</th>\n",
       "      <td>4</td>\n",
       "      <td>1</td>\n",
       "      <td>1</td>\n",
       "      <td>Futrelle, Mrs. Jacques Heath (Lily May Peel)</td>\n",
       "      <td>female</td>\n",
       "      <td>35.0</td>\n",
       "      <td>1</td>\n",
       "      <td>0</td>\n",
       "      <td>113803</td>\n",
       "      <td>53.1000</td>\n",
       "      <td>C123</td>\n",
       "      <td>S</td>\n",
       "    </tr>\n",
       "    <tr>\n",
       "      <th>4</th>\n",
       "      <td>5</td>\n",
       "      <td>0</td>\n",
       "      <td>3</td>\n",
       "      <td>Allen, Mr. William Henry</td>\n",
       "      <td>male</td>\n",
       "      <td>35.0</td>\n",
       "      <td>0</td>\n",
       "      <td>0</td>\n",
       "      <td>373450</td>\n",
       "      <td>8.0500</td>\n",
       "      <td>NaN</td>\n",
       "      <td>S</td>\n",
       "    </tr>\n",
       "  </tbody>\n",
       "</table>\n",
       "</div>"
      ],
      "text/plain": [
       "   PassengerId  Survived  Pclass  \\\n",
       "0            1         0       3   \n",
       "1            2         1       1   \n",
       "2            3         1       3   \n",
       "3            4         1       1   \n",
       "4            5         0       3   \n",
       "\n",
       "                                                Name     Sex   Age  SibSp  \\\n",
       "0                            Braund, Mr. Owen Harris    male  22.0      1   \n",
       "1  Cumings, Mrs. John Bradley (Florence Briggs Th...  female  38.0      1   \n",
       "2                             Heikkinen, Miss. Laina  female  26.0      0   \n",
       "3       Futrelle, Mrs. Jacques Heath (Lily May Peel)  female  35.0      1   \n",
       "4                           Allen, Mr. William Henry    male  35.0      0   \n",
       "\n",
       "   Parch            Ticket     Fare Cabin Embarked  \n",
       "0      0         A/5 21171   7.2500   NaN        S  \n",
       "1      0          PC 17599  71.2833   C85        C  \n",
       "2      0  STON/O2. 3101282   7.9250   NaN        S  \n",
       "3      0            113803  53.1000  C123        S  \n",
       "4      0            373450   8.0500   NaN        S  "
      ]
     },
     "execution_count": 3,
     "metadata": {},
     "output_type": "execute_result"
    }
   ],
   "source": [
    "# To fetch first five records from the dataset\n",
    "\n",
    "df.head(5)"
   ]
  },
  {
   "cell_type": "code",
   "execution_count": 4,
   "metadata": {},
   "outputs": [
    {
     "data": {
      "text/html": [
       "<div>\n",
       "<style scoped>\n",
       "    .dataframe tbody tr th:only-of-type {\n",
       "        vertical-align: middle;\n",
       "    }\n",
       "\n",
       "    .dataframe tbody tr th {\n",
       "        vertical-align: top;\n",
       "    }\n",
       "\n",
       "    .dataframe thead th {\n",
       "        text-align: right;\n",
       "    }\n",
       "</style>\n",
       "<table border=\"1\" class=\"dataframe\">\n",
       "  <thead>\n",
       "    <tr style=\"text-align: right;\">\n",
       "      <th></th>\n",
       "      <th>PassengerId</th>\n",
       "      <th>Survived</th>\n",
       "      <th>Pclass</th>\n",
       "      <th>Name</th>\n",
       "      <th>Sex</th>\n",
       "      <th>Age</th>\n",
       "      <th>SibSp</th>\n",
       "      <th>Parch</th>\n",
       "      <th>Ticket</th>\n",
       "      <th>Fare</th>\n",
       "      <th>Cabin</th>\n",
       "      <th>Embarked</th>\n",
       "    </tr>\n",
       "  </thead>\n",
       "  <tbody>\n",
       "    <tr>\n",
       "      <th>1304</th>\n",
       "      <td>1305</td>\n",
       "      <td>1</td>\n",
       "      <td>3</td>\n",
       "      <td>Spector, Mr. Woolf</td>\n",
       "      <td>male</td>\n",
       "      <td>NaN</td>\n",
       "      <td>0</td>\n",
       "      <td>0</td>\n",
       "      <td>A.5. 3236</td>\n",
       "      <td>8.0500</td>\n",
       "      <td>NaN</td>\n",
       "      <td>S</td>\n",
       "    </tr>\n",
       "    <tr>\n",
       "      <th>1305</th>\n",
       "      <td>1306</td>\n",
       "      <td>1</td>\n",
       "      <td>1</td>\n",
       "      <td>Oliva y Ocana, Dona. Fermina</td>\n",
       "      <td>female</td>\n",
       "      <td>39.0</td>\n",
       "      <td>0</td>\n",
       "      <td>0</td>\n",
       "      <td>PC 17758</td>\n",
       "      <td>108.9000</td>\n",
       "      <td>C105</td>\n",
       "      <td>C</td>\n",
       "    </tr>\n",
       "    <tr>\n",
       "      <th>1306</th>\n",
       "      <td>1307</td>\n",
       "      <td>0</td>\n",
       "      <td>3</td>\n",
       "      <td>Saether, Mr. Simon Sivertsen</td>\n",
       "      <td>male</td>\n",
       "      <td>38.5</td>\n",
       "      <td>0</td>\n",
       "      <td>0</td>\n",
       "      <td>SOTON/O.Q. 3101262</td>\n",
       "      <td>7.2500</td>\n",
       "      <td>NaN</td>\n",
       "      <td>S</td>\n",
       "    </tr>\n",
       "    <tr>\n",
       "      <th>1307</th>\n",
       "      <td>1308</td>\n",
       "      <td>0</td>\n",
       "      <td>3</td>\n",
       "      <td>Ware, Mr. Frederick</td>\n",
       "      <td>male</td>\n",
       "      <td>NaN</td>\n",
       "      <td>0</td>\n",
       "      <td>0</td>\n",
       "      <td>359309</td>\n",
       "      <td>8.0500</td>\n",
       "      <td>NaN</td>\n",
       "      <td>S</td>\n",
       "    </tr>\n",
       "    <tr>\n",
       "      <th>1308</th>\n",
       "      <td>1309</td>\n",
       "      <td>1</td>\n",
       "      <td>3</td>\n",
       "      <td>Peter, Master. Michael J</td>\n",
       "      <td>male</td>\n",
       "      <td>NaN</td>\n",
       "      <td>1</td>\n",
       "      <td>1</td>\n",
       "      <td>2668</td>\n",
       "      <td>22.3583</td>\n",
       "      <td>NaN</td>\n",
       "      <td>C</td>\n",
       "    </tr>\n",
       "  </tbody>\n",
       "</table>\n",
       "</div>"
      ],
      "text/plain": [
       "      PassengerId  Survived  Pclass                          Name     Sex  \\\n",
       "1304         1305         1       3            Spector, Mr. Woolf    male   \n",
       "1305         1306         1       1  Oliva y Ocana, Dona. Fermina  female   \n",
       "1306         1307         0       3  Saether, Mr. Simon Sivertsen    male   \n",
       "1307         1308         0       3           Ware, Mr. Frederick    male   \n",
       "1308         1309         1       3      Peter, Master. Michael J    male   \n",
       "\n",
       "       Age  SibSp  Parch              Ticket      Fare Cabin Embarked  \n",
       "1304   NaN      0      0           A.5. 3236    8.0500   NaN        S  \n",
       "1305  39.0      0      0            PC 17758  108.9000  C105        C  \n",
       "1306  38.5      0      0  SOTON/O.Q. 3101262    7.2500   NaN        S  \n",
       "1307   NaN      0      0              359309    8.0500   NaN        S  \n",
       "1308   NaN      1      1                2668   22.3583   NaN        C  "
      ]
     },
     "execution_count": 4,
     "metadata": {},
     "output_type": "execute_result"
    }
   ],
   "source": [
    "# To fetch last five records from the dataset\n",
    "\n",
    "df.tail(5)"
   ]
  },
  {
   "cell_type": "code",
   "execution_count": 5,
   "metadata": {},
   "outputs": [
    {
     "name": "stdout",
     "output_type": "stream",
     "text": [
      "<class 'pandas.core.frame.DataFrame'>\n",
      "RangeIndex: 1309 entries, 0 to 1308\n",
      "Data columns (total 12 columns):\n",
      " #   Column       Non-Null Count  Dtype  \n",
      "---  ------       --------------  -----  \n",
      " 0   PassengerId  1309 non-null   int64  \n",
      " 1   Survived     1309 non-null   int64  \n",
      " 2   Pclass       1309 non-null   int64  \n",
      " 3   Name         1309 non-null   object \n",
      " 4   Sex          1309 non-null   object \n",
      " 5   Age          1046 non-null   float64\n",
      " 6   SibSp        1309 non-null   int64  \n",
      " 7   Parch        1309 non-null   int64  \n",
      " 8   Ticket       1309 non-null   object \n",
      " 9   Fare         1308 non-null   float64\n",
      " 10  Cabin        295 non-null    object \n",
      " 11  Embarked     1307 non-null   object \n",
      "dtypes: float64(2), int64(5), object(5)\n",
      "memory usage: 122.8+ KB\n"
     ]
    }
   ],
   "source": [
    "# To get the complete info/overview of the dataframe.\n",
    "\n",
    "df.info()"
   ]
  },
  {
   "cell_type": "code",
   "execution_count": 6,
   "metadata": {},
   "outputs": [
    {
     "data": {
      "text/plain": [
       "PassengerId      int64\n",
       "Survived         int64\n",
       "Pclass           int64\n",
       "Name            object\n",
       "Sex             object\n",
       "Age            float64\n",
       "SibSp            int64\n",
       "Parch            int64\n",
       "Ticket          object\n",
       "Fare           float64\n",
       "Cabin           object\n",
       "Embarked        object\n",
       "dtype: object"
      ]
     },
     "execution_count": 6,
     "metadata": {},
     "output_type": "execute_result"
    }
   ],
   "source": [
    "# To get the datatypes of each column in the dataframe.\n",
    "\n",
    "df.dtypes"
   ]
  },
  {
   "cell_type": "code",
   "execution_count": 7,
   "metadata": {
    "scrolled": false
   },
   "outputs": [
    {
     "data": {
      "text/plain": [
       "(1309, 12)"
      ]
     },
     "execution_count": 7,
     "metadata": {},
     "output_type": "execute_result"
    }
   ],
   "source": [
    "# To know the shape of the dataset\n",
    "\n",
    "df.shape"
   ]
  },
  {
   "cell_type": "code",
   "execution_count": 8,
   "metadata": {
    "scrolled": true
   },
   "outputs": [
    {
     "data": {
      "text/plain": [
       "15708"
      ]
     },
     "execution_count": 8,
     "metadata": {},
     "output_type": "execute_result"
    }
   ],
   "source": [
    "# To get the size of the dataframe which gives complete size of dataset\n",
    "# no_of_rows x no_of_columns = 1309 x 12 = 15708\n",
    "\n",
    "df.size"
   ]
  },
  {
   "cell_type": "code",
   "execution_count": 9,
   "metadata": {
    "scrolled": true
   },
   "outputs": [
    {
     "data": {
      "text/html": [
       "<div>\n",
       "<style scoped>\n",
       "    .dataframe tbody tr th:only-of-type {\n",
       "        vertical-align: middle;\n",
       "    }\n",
       "\n",
       "    .dataframe tbody tr th {\n",
       "        vertical-align: top;\n",
       "    }\n",
       "\n",
       "    .dataframe thead th {\n",
       "        text-align: right;\n",
       "    }\n",
       "</style>\n",
       "<table border=\"1\" class=\"dataframe\">\n",
       "  <thead>\n",
       "    <tr style=\"text-align: right;\">\n",
       "      <th></th>\n",
       "      <th>PassengerId</th>\n",
       "      <th>Survived</th>\n",
       "      <th>Pclass</th>\n",
       "      <th>Age</th>\n",
       "      <th>SibSp</th>\n",
       "      <th>Parch</th>\n",
       "      <th>Fare</th>\n",
       "    </tr>\n",
       "  </thead>\n",
       "  <tbody>\n",
       "    <tr>\n",
       "      <th>count</th>\n",
       "      <td>1309.000000</td>\n",
       "      <td>1309.000000</td>\n",
       "      <td>1309.000000</td>\n",
       "      <td>1046.000000</td>\n",
       "      <td>1309.000000</td>\n",
       "      <td>1309.000000</td>\n",
       "      <td>1308.000000</td>\n",
       "    </tr>\n",
       "    <tr>\n",
       "      <th>mean</th>\n",
       "      <td>655.000000</td>\n",
       "      <td>0.412529</td>\n",
       "      <td>2.294882</td>\n",
       "      <td>29.881138</td>\n",
       "      <td>0.498854</td>\n",
       "      <td>0.385027</td>\n",
       "      <td>33.295479</td>\n",
       "    </tr>\n",
       "    <tr>\n",
       "      <th>std</th>\n",
       "      <td>378.020061</td>\n",
       "      <td>0.492477</td>\n",
       "      <td>0.837836</td>\n",
       "      <td>14.413493</td>\n",
       "      <td>1.041658</td>\n",
       "      <td>0.865560</td>\n",
       "      <td>51.758668</td>\n",
       "    </tr>\n",
       "    <tr>\n",
       "      <th>min</th>\n",
       "      <td>1.000000</td>\n",
       "      <td>0.000000</td>\n",
       "      <td>1.000000</td>\n",
       "      <td>0.170000</td>\n",
       "      <td>0.000000</td>\n",
       "      <td>0.000000</td>\n",
       "      <td>0.000000</td>\n",
       "    </tr>\n",
       "    <tr>\n",
       "      <th>25%</th>\n",
       "      <td>328.000000</td>\n",
       "      <td>0.000000</td>\n",
       "      <td>2.000000</td>\n",
       "      <td>21.000000</td>\n",
       "      <td>0.000000</td>\n",
       "      <td>0.000000</td>\n",
       "      <td>7.895800</td>\n",
       "    </tr>\n",
       "    <tr>\n",
       "      <th>50%</th>\n",
       "      <td>655.000000</td>\n",
       "      <td>0.000000</td>\n",
       "      <td>3.000000</td>\n",
       "      <td>28.000000</td>\n",
       "      <td>0.000000</td>\n",
       "      <td>0.000000</td>\n",
       "      <td>14.454200</td>\n",
       "    </tr>\n",
       "    <tr>\n",
       "      <th>75%</th>\n",
       "      <td>982.000000</td>\n",
       "      <td>1.000000</td>\n",
       "      <td>3.000000</td>\n",
       "      <td>39.000000</td>\n",
       "      <td>1.000000</td>\n",
       "      <td>0.000000</td>\n",
       "      <td>31.275000</td>\n",
       "    </tr>\n",
       "    <tr>\n",
       "      <th>max</th>\n",
       "      <td>1309.000000</td>\n",
       "      <td>1.000000</td>\n",
       "      <td>3.000000</td>\n",
       "      <td>80.000000</td>\n",
       "      <td>8.000000</td>\n",
       "      <td>9.000000</td>\n",
       "      <td>512.329200</td>\n",
       "    </tr>\n",
       "  </tbody>\n",
       "</table>\n",
       "</div>"
      ],
      "text/plain": [
       "       PassengerId     Survived       Pclass          Age        SibSp  \\\n",
       "count  1309.000000  1309.000000  1309.000000  1046.000000  1309.000000   \n",
       "mean    655.000000     0.412529     2.294882    29.881138     0.498854   \n",
       "std     378.020061     0.492477     0.837836    14.413493     1.041658   \n",
       "min       1.000000     0.000000     1.000000     0.170000     0.000000   \n",
       "25%     328.000000     0.000000     2.000000    21.000000     0.000000   \n",
       "50%     655.000000     0.000000     3.000000    28.000000     0.000000   \n",
       "75%     982.000000     1.000000     3.000000    39.000000     1.000000   \n",
       "max    1309.000000     1.000000     3.000000    80.000000     8.000000   \n",
       "\n",
       "             Parch         Fare  \n",
       "count  1309.000000  1308.000000  \n",
       "mean      0.385027    33.295479  \n",
       "std       0.865560    51.758668  \n",
       "min       0.000000     0.000000  \n",
       "25%       0.000000     7.895800  \n",
       "50%       0.000000    14.454200  \n",
       "75%       0.000000    31.275000  \n",
       "max       9.000000   512.329200  "
      ]
     },
     "execution_count": 9,
     "metadata": {},
     "output_type": "execute_result"
    }
   ],
   "source": [
    "# To obtain the complete statistical info about the dataset\n",
    "\n",
    "df.describe()"
   ]
  },
  {
   "cell_type": "code",
   "execution_count": 10,
   "metadata": {
    "scrolled": true
   },
   "outputs": [],
   "source": [
    "# ********************************* Exploratory Data Analysis *********************************************\n",
    "\n",
    "# It is way better to visuialize the actual distribution of data before making any changes to the data\n",
    "# during the EDA process to make the data distribution normal for applying machine learning algorithms\n",
    "# to build the models and obtain the accurate prediction and later optimizing the model by tunning the \n",
    "# desired parameters with different kind of techniques.\n",
    "\n",
    "# Before that we need to visualize the categorical and numerical variables in our dataset."
   ]
  },
  {
   "cell_type": "code",
   "execution_count": 11,
   "metadata": {},
   "outputs": [
    {
     "data": {
      "text/plain": [
       "<matplotlib.axes._subplots.AxesSubplot at 0x1714bacca30>"
      ]
     },
     "execution_count": 11,
     "metadata": {},
     "output_type": "execute_result"
    },
    {
     "data": {
      "image/png": "[encoded data removed]",
      "text/plain": [
       "<Figure size 432x288 with 1 Axes>"
      ]
     },
     "metadata": {},
     "output_type": "display_data"
    }
   ],
   "source": [
    "# Visualizing Categorical Variables in the Dataset by using Seaborn Countplot:-\n",
    "\n",
    "# 1.Survived:-This attribute provides information about the Surived People in the Titanic shipwreck.\n",
    "# 0 - Not Survived or deceased\n",
    "# 1 - Survived\n",
    "\n",
    "sns.set_style('darkgrid')\n",
    "sns.countplot(x='Survived',hue='Survived',data=df,palette='RdBu_r')"
   ]
  },
  {
   "cell_type": "code",
   "execution_count": 12,
   "metadata": {
    "scrolled": true
   },
   "outputs": [
    {
     "data": {
      "text/plain": [
       "<matplotlib.axes._subplots.AxesSubplot at 0x1714bb7b700>"
      ]
     },
     "execution_count": 12,
     "metadata": {},
     "output_type": "execute_result"
    },
    {
     "data": {
      "image/png": "[encoded data removed]",
      "text/plain": [
       "<Figure size 432x288 with 1 Axes>"
      ]
     },
     "metadata": {},
     "output_type": "display_data"
    }
   ],
   "source": [
    "# 2.Pclass:- This attribute provides information about the Passenger class (Pclass) in Titanic Ship\n",
    "# 1 - Pclass1 - UPPER\n",
    "# 2 - Pclass2 - MIDDLE\n",
    "# 3 - Pclass3 - LOWER\n",
    "\n",
    "sns.set_style('darkgrid')\n",
    "sns.countplot(x='Pclass',hue='Pclass',data=df,palette='mako')"
   ]
  },
  {
   "cell_type": "code",
   "execution_count": 13,
   "metadata": {
    "scrolled": true
   },
   "outputs": [
    {
     "data": {
      "text/plain": [
       "<matplotlib.axes._subplots.AxesSubplot at 0x1714bc16d60>"
      ]
     },
     "execution_count": 13,
     "metadata": {},
     "output_type": "execute_result"
    },
    {
     "data": {
      "image/png": "[encoded data removed]",
      "text/plain": [
       "<Figure size 432x288 with 1 Axes>"
      ]
     },
     "metadata": {},
     "output_type": "display_data"
    }
   ],
   "source": [
    "# 3.Sex:- This attribute provides information about the Sex or gender of people Aboard the Cruise\n",
    "# sex - male\n",
    "# sex - female\n",
    "\n",
    "sns.set_style('darkgrid')\n",
    "sns.countplot(x='Sex',hue='Sex',data=df,palette='terrain')\n"
   ]
  },
  {
   "cell_type": "code",
   "execution_count": 14,
   "metadata": {
    "scrolled": true
   },
   "outputs": [
    {
     "data": {
      "text/plain": [
       "<matplotlib.axes._subplots.AxesSubplot at 0x1714bc66100>"
      ]
     },
     "execution_count": 14,
     "metadata": {},
     "output_type": "execute_result"
    },
    {
     "data": {
      "image/png": "[encoded data removed]",
      "text/plain": [
       "<Figure size 432x288 with 1 Axes>"
      ]
     },
     "metadata": {},
     "output_type": "display_data"
    }
   ],
   "source": [
    "# SibSp:- This attribute provides information about the sibsp i.e,Number of Siblings/Spouses Aboard.\n",
    "# Sibling: Brother, Sister, Stepbrother, or Stepsister of Passenger Aboard Titanic\n",
    "# Spouse: Husband or Wife of Passenger Aboard Titanic\n",
    "# SinSp ranges from [0, 1, 2, 3, 4, 5, 6, 7, 8]\n",
    "\n",
    "sns.set_style('darkgrid')\n",
    "sns.countplot(x='SibSp',hue='SibSp',data=df,palette='rainbow')"
   ]
  },
  {
   "cell_type": "code",
   "execution_count": 15,
   "metadata": {
    "scrolled": true
   },
   "outputs": [
    {
     "data": {
      "text/plain": [
       "<matplotlib.axes._subplots.AxesSubplot at 0x1714bd51130>"
      ]
     },
     "execution_count": 15,
     "metadata": {},
     "output_type": "execute_result"
    },
    {
     "data": {
      "image/png": "[encoded data removed]",
      "text/plain": [
       "<Figure size 432x288 with 1 Axes>"
      ]
     },
     "metadata": {},
     "output_type": "display_data"
    }
   ],
   "source": [
    "# Parch - This attribute provides information about the Number of Parents/Children Aboard in curise.\n",
    "# Parent: Mother or Father of Passenger Aboard Titanic\n",
    "# Child: Son, Daughter, Stepson, or Stepdaughter of Passenger Aboard Titanic\n",
    "# Parch ranges from [0, 1, 2, 3, 4, 5, 6, 7, 8, 9]\n",
    "\n",
    "sns.set_style('darkgrid')\n",
    "sns.countplot(x='Parch',hue='Parch',data=df)"
   ]
  },
  {
   "cell_type": "code",
   "execution_count": 16,
   "metadata": {
    "scrolled": true
   },
   "outputs": [
    {
     "data": {
      "text/plain": [
       "<matplotlib.axes._subplots.AxesSubplot at 0x1714be62b50>"
      ]
     },
     "execution_count": 16,
     "metadata": {},
     "output_type": "execute_result"
    },
    {
     "data": {
      "image/png": "[encoded data removed]",
      "text/plain": [
       "<Figure size 432x288 with 1 Axes>"
      ]
     },
     "metadata": {},
     "output_type": "display_data"
    }
   ],
   "source": [
    "# sns.countplot(train['Embarked'])\n",
    "# Embarked:- This attribute provides information about the Embarkation of Passenges at diiferent Ports.\n",
    "# embarked - Port of Embarkation \n",
    "# C = Cherbourg\n",
    "# Q = Queenstown\n",
    "# S = Southampton\n",
    "\n",
    "sns.set_style('darkgrid')\n",
    "sns.countplot(x='Embarked',hue='Embarked',data=df,palette='rocket')"
   ]
  },
  {
   "cell_type": "code",
   "execution_count": 17,
   "metadata": {
    "scrolled": true
   },
   "outputs": [
    {
     "data": {
      "text/plain": [
       "<matplotlib.axes._subplots.AxesSubplot at 0x1714bedb9d0>"
      ]
     },
     "execution_count": 17,
     "metadata": {},
     "output_type": "execute_result"
    },
    {
     "data": {
      "image/png": "[encoded data removed]",
      "text/plain": [
       "<Figure size 432x288 with 1 Axes>"
      ]
     },
     "metadata": {},
     "output_type": "display_data"
    }
   ],
   "source": [
    "# Visualizing Numerical Variables in the Dataset by using Seaborn Distplot:-\n",
    "\n",
    "# 1.Age:- This attribute provides information about the different ages groups of people Aboard in cruise.\n",
    "# Age ranges from [0 to 100]\n",
    "# In the distplot we are using the parameter KDE(Kernel Density Estimation) which gives the distribution\n",
    "# of Probability  of distribution of Age with in range {0 - 100} and number of bins = 10 \n",
    "\n",
    "sns.set_style('darkgrid')\n",
    "sns.distplot(df['Age'],kde=True,bins=10)"
   ]
  },
  {
   "cell_type": "code",
   "execution_count": 18,
   "metadata": {
    "scrolled": true
   },
   "outputs": [
    {
     "data": {
      "text/plain": [
       "<matplotlib.axes._subplots.AxesSubplot at 0x1714bf42c70>"
      ]
     },
     "execution_count": 18,
     "metadata": {},
     "output_type": "execute_result"
    },
    {
     "data": {
      "image/png": "[encoded data removed]",
      "text/plain": [
       "<Figure size 432x288 with 1 Axes>"
      ]
     },
     "metadata": {},
     "output_type": "display_data"
    }
   ],
   "source": [
    "#2.Fare:- This attribute provides information about the different Passenger Fare types(British pound)\n",
    "# Fare ranges from [0 to 100]\n",
    "# In the distplot we are using the parameter KDE(Kernel Density Estimation) which gives the distribution\n",
    "# of Probability of distribution of Fare with in range {0 - 500} and number of bins = 10 \n",
    "\n",
    "sns.set_style('darkgrid')\n",
    "sns.distplot(df['Fare'],kde=True,bins=10)"
   ]
  },
  {
   "cell_type": "code",
   "execution_count": 19,
   "metadata": {
    "scrolled": true
   },
   "outputs": [
    {
     "data": {
      "image/png": "[encoded data removed]",
      "text/plain": [
       "<Figure size 432x288 with 1 Axes>"
      ]
     },
     "metadata": {},
     "output_type": "display_data"
    }
   ],
   "source": [
    "# Now we are going to compare the attributes Pclass and Fare to see the Avg_Fare ranges based on Pclass\n",
    "# For this we are using pivot_table function to compare between Fare and Pclass\n",
    "# From the below plot we can clearly see that Pclass-1 Avg.Fare is very higher compared to Pclass 2 and 3\n",
    "# Pclass 1 Avg.Fare ranges from > 80 GBP\n",
    "# Pclass 2 Avg.Fare ranges from > 20 GBP\n",
    "# Pclass 3 Avg.Fare ranges from <= 20 GBP\n",
    "\n",
    "Pclass_Fare = df.pivot_table(index='Pclass', values='Fare')\n",
    "Pclass_Fare.plot(kind='bar')\n",
    "plt.xlabel('Pclass')\n",
    "plt.ylabel('Avg.Fare')\n",
    "plt.xticks(rotation=0)\n",
    "plt.title('Avg_Fare based on Passenger_Class' )\n",
    "plt.show()"
   ]
  },
  {
   "cell_type": "code",
   "execution_count": 20,
   "metadata": {},
   "outputs": [
    {
     "data": {
      "image/png": "[encoded data removed]",
      "text/plain": [
       "<Figure size 432x288 with 1 Axes>"
      ]
     },
     "metadata": {},
     "output_type": "display_data"
    }
   ],
   "source": [
    "# Now we are going to compare the attributes Pclass and Fare to see the Maximum_Fare ranges based on Pclass\n",
    "# For this we are using pivot_table function and agg.function to compare Max_Fares between Fare and Pclass\n",
    "# Pclass 1 Total Fare ranges from 0 to 500\n",
    "# Pclass 2 Avg.Fare ranges from 0 to 200\n",
    "# Pclass 3 Avg.Fare ranges from 0 to 100\n",
    "\n",
    "Pclass_Fare = df.pivot_table(index='Pclass', values='Fare', aggfunc=np.max)\n",
    "Pclass_Fare.plot(kind='bar')\n",
    "plt.xlabel('Pclass')\n",
    "plt.ylabel('Total Fare')\n",
    "plt.xticks(rotation=0)\n",
    "plt.title('Maximum_Total_Fare based on Passenger_Class' )\n",
    "plt.show()"
   ]
  },
  {
   "cell_type": "code",
   "execution_count": 21,
   "metadata": {
    "scrolled": true
   },
   "outputs": [
    {
     "data": {
      "text/plain": [
       "[Text(0.5, 1.0, 'Survived-based on Pclass and Fare')]"
      ]
     },
     "execution_count": 21,
     "metadata": {},
     "output_type": "execute_result"
    },
    {
     "data": {
      "image/png": "[encoded data removed]",
      "text/plain": [
       "<Figure size 432x288 with 1 Axes>"
      ]
     },
     "metadata": {},
     "output_type": "display_data"
    }
   ],
   "source": [
    "# Plotting a barplot for people Survied based on Pclass and Fare.\n",
    "\n",
    "sns.barplot(data=df, x='Pclass', y='Fare', hue='Survived').set(title=\"Survived-based on Pclass and Fare\")"
   ]
  },
  {
   "cell_type": "code",
   "execution_count": 22,
   "metadata": {},
   "outputs": [
    {
     "data": {
      "text/plain": [
       "[Text(0.5, 1.0, 'Pclass-based on Survived and Fare')]"
      ]
     },
     "execution_count": 22,
     "metadata": {},
     "output_type": "execute_result"
    },
    {
     "data": {
      "image/png": "[encoded data removed]",
      "text/plain": [
       "<Figure size 432x288 with 1 Axes>"
      ]
     },
     "metadata": {},
     "output_type": "display_data"
    }
   ],
   "source": [
    "# Plotting a barplot for Passenger_Clas(Pclass) based on Survived and Fare.\n",
    "\n",
    "sns.barplot(data=df, x='Survived', y='Fare', hue='Pclass').set(title=\"Pclass-based on Survived and Fare\")"
   ]
  },
  {
   "cell_type": "code",
   "execution_count": 23,
   "metadata": {
    "scrolled": true
   },
   "outputs": [
    {
     "data": {
      "text/html": [
       "<div>\n",
       "<style scoped>\n",
       "    .dataframe tbody tr th:only-of-type {\n",
       "        vertical-align: middle;\n",
       "    }\n",
       "\n",
       "    .dataframe tbody tr th {\n",
       "        vertical-align: top;\n",
       "    }\n",
       "\n",
       "    .dataframe thead th {\n",
       "        text-align: right;\n",
       "    }\n",
       "</style>\n",
       "<table border=\"1\" class=\"dataframe\">\n",
       "  <thead>\n",
       "    <tr style=\"text-align: right;\">\n",
       "      <th></th>\n",
       "      <th>PassengerId</th>\n",
       "      <th>Survived</th>\n",
       "      <th>Pclass</th>\n",
       "      <th>Name</th>\n",
       "      <th>Sex</th>\n",
       "      <th>Age</th>\n",
       "      <th>SibSp</th>\n",
       "      <th>Parch</th>\n",
       "      <th>Ticket</th>\n",
       "      <th>Fare</th>\n",
       "      <th>Cabin</th>\n",
       "      <th>Embarked</th>\n",
       "    </tr>\n",
       "  </thead>\n",
       "  <tbody>\n",
       "    <tr>\n",
       "      <th>0</th>\n",
       "      <td>False</td>\n",
       "      <td>False</td>\n",
       "      <td>False</td>\n",
       "      <td>False</td>\n",
       "      <td>False</td>\n",
       "      <td>False</td>\n",
       "      <td>False</td>\n",
       "      <td>False</td>\n",
       "      <td>False</td>\n",
       "      <td>False</td>\n",
       "      <td>True</td>\n",
       "      <td>False</td>\n",
       "    </tr>\n",
       "    <tr>\n",
       "      <th>1</th>\n",
       "      <td>False</td>\n",
       "      <td>False</td>\n",
       "      <td>False</td>\n",
       "      <td>False</td>\n",
       "      <td>False</td>\n",
       "      <td>False</td>\n",
       "      <td>False</td>\n",
       "      <td>False</td>\n",
       "      <td>False</td>\n",
       "      <td>False</td>\n",
       "      <td>False</td>\n",
       "      <td>False</td>\n",
       "    </tr>\n",
       "    <tr>\n",
       "      <th>2</th>\n",
       "      <td>False</td>\n",
       "      <td>False</td>\n",
       "      <td>False</td>\n",
       "      <td>False</td>\n",
       "      <td>False</td>\n",
       "      <td>False</td>\n",
       "      <td>False</td>\n",
       "      <td>False</td>\n",
       "      <td>False</td>\n",
       "      <td>False</td>\n",
       "      <td>True</td>\n",
       "      <td>False</td>\n",
       "    </tr>\n",
       "    <tr>\n",
       "      <th>3</th>\n",
       "      <td>False</td>\n",
       "      <td>False</td>\n",
       "      <td>False</td>\n",
       "      <td>False</td>\n",
       "      <td>False</td>\n",
       "      <td>False</td>\n",
       "      <td>False</td>\n",
       "      <td>False</td>\n",
       "      <td>False</td>\n",
       "      <td>False</td>\n",
       "      <td>False</td>\n",
       "      <td>False</td>\n",
       "    </tr>\n",
       "    <tr>\n",
       "      <th>4</th>\n",
       "      <td>False</td>\n",
       "      <td>False</td>\n",
       "      <td>False</td>\n",
       "      <td>False</td>\n",
       "      <td>False</td>\n",
       "      <td>False</td>\n",
       "      <td>False</td>\n",
       "      <td>False</td>\n",
       "      <td>False</td>\n",
       "      <td>False</td>\n",
       "      <td>True</td>\n",
       "      <td>False</td>\n",
       "    </tr>\n",
       "    <tr>\n",
       "      <th>...</th>\n",
       "      <td>...</td>\n",
       "      <td>...</td>\n",
       "      <td>...</td>\n",
       "      <td>...</td>\n",
       "      <td>...</td>\n",
       "      <td>...</td>\n",
       "      <td>...</td>\n",
       "      <td>...</td>\n",
       "      <td>...</td>\n",
       "      <td>...</td>\n",
       "      <td>...</td>\n",
       "      <td>...</td>\n",
       "    </tr>\n",
       "    <tr>\n",
       "      <th>1304</th>\n",
       "      <td>False</td>\n",
       "      <td>False</td>\n",
       "      <td>False</td>\n",
       "      <td>False</td>\n",
       "      <td>False</td>\n",
       "      <td>True</td>\n",
       "      <td>False</td>\n",
       "      <td>False</td>\n",
       "      <td>False</td>\n",
       "      <td>False</td>\n",
       "      <td>True</td>\n",
       "      <td>False</td>\n",
       "    </tr>\n",
       "    <tr>\n",
       "      <th>1305</th>\n",
       "      <td>False</td>\n",
       "      <td>False</td>\n",
       "      <td>False</td>\n",
       "      <td>False</td>\n",
       "      <td>False</td>\n",
       "      <td>False</td>\n",
       "      <td>False</td>\n",
       "      <td>False</td>\n",
       "      <td>False</td>\n",
       "      <td>False</td>\n",
       "      <td>False</td>\n",
       "      <td>False</td>\n",
       "    </tr>\n",
       "    <tr>\n",
       "      <th>1306</th>\n",
       "      <td>False</td>\n",
       "      <td>False</td>\n",
       "      <td>False</td>\n",
       "      <td>False</td>\n",
       "      <td>False</td>\n",
       "      <td>False</td>\n",
       "      <td>False</td>\n",
       "      <td>False</td>\n",
       "      <td>False</td>\n",
       "      <td>False</td>\n",
       "      <td>True</td>\n",
       "      <td>False</td>\n",
       "    </tr>\n",
       "    <tr>\n",
       "      <th>1307</th>\n",
       "      <td>False</td>\n",
       "      <td>False</td>\n",
       "      <td>False</td>\n",
       "      <td>False</td>\n",
       "      <td>False</td>\n",
       "      <td>True</td>\n",
       "      <td>False</td>\n",
       "      <td>False</td>\n",
       "      <td>False</td>\n",
       "      <td>False</td>\n",
       "      <td>True</td>\n",
       "      <td>False</td>\n",
       "    </tr>\n",
       "    <tr>\n",
       "      <th>1308</th>\n",
       "      <td>False</td>\n",
       "      <td>False</td>\n",
       "      <td>False</td>\n",
       "      <td>False</td>\n",
       "      <td>False</td>\n",
       "      <td>True</td>\n",
       "      <td>False</td>\n",
       "      <td>False</td>\n",
       "      <td>False</td>\n",
       "      <td>False</td>\n",
       "      <td>True</td>\n",
       "      <td>False</td>\n",
       "    </tr>\n",
       "  </tbody>\n",
       "</table>\n",
       "<p>1309 rows × 12 columns</p>\n",
       "</div>"
      ],
      "text/plain": [
       "      PassengerId  Survived  Pclass   Name    Sex    Age  SibSp  Parch  \\\n",
       "0           False     False   False  False  False  False  False  False   \n",
       "1           False     False   False  False  False  False  False  False   \n",
       "2           False     False   False  False  False  False  False  False   \n",
       "3           False     False   False  False  False  False  False  False   \n",
       "4           False     False   False  False  False  False  False  False   \n",
       "...           ...       ...     ...    ...    ...    ...    ...    ...   \n",
       "1304        False     False   False  False  False   True  False  False   \n",
       "1305        False     False   False  False  False  False  False  False   \n",
       "1306        False     False   False  False  False  False  False  False   \n",
       "1307        False     False   False  False  False   True  False  False   \n",
       "1308        False     False   False  False  False   True  False  False   \n",
       "\n",
       "      Ticket   Fare  Cabin  Embarked  \n",
       "0      False  False   True     False  \n",
       "1      False  False  False     False  \n",
       "2      False  False   True     False  \n",
       "3      False  False  False     False  \n",
       "4      False  False   True     False  \n",
       "...      ...    ...    ...       ...  \n",
       "1304   False  False   True     False  \n",
       "1305   False  False  False     False  \n",
       "1306   False  False   True     False  \n",
       "1307   False  False   True     False  \n",
       "1308   False  False   True     False  \n",
       "\n",
       "[1309 rows x 12 columns]"
      ]
     },
     "execution_count": 23,
     "metadata": {},
     "output_type": "execute_result"
    }
   ],
   "source": [
    "# ****************************************** Data Preprocessing *******************************************\n",
    "# To identify the missing values in boolean format\n",
    "\n",
    "df.isnull()"
   ]
  },
  {
   "cell_type": "code",
   "execution_count": 24,
   "metadata": {
    "scrolled": true
   },
   "outputs": [
    {
     "data": {
      "text/plain": [
       "PassengerId    False\n",
       "Survived       False\n",
       "Pclass         False\n",
       "Name           False\n",
       "Sex            False\n",
       "Age             True\n",
       "SibSp          False\n",
       "Parch          False\n",
       "Ticket         False\n",
       "Fare            True\n",
       "Cabin           True\n",
       "Embarked        True\n",
       "dtype: bool"
      ]
     },
     "execution_count": 24,
     "metadata": {},
     "output_type": "execute_result"
    }
   ],
   "source": [
    "# To show the attribute in dataset if any one having null value showing with boolean value (True,False)\n",
    "# This clearly shows that below attributes are having null values in the dataset:-\n",
    "# 1.Age\n",
    "# 2.Fare\n",
    "# 3.Cabin\n",
    "# 4.Embarked \n",
    "\n",
    "df.isna().any()\n"
   ]
  },
  {
   "cell_type": "code",
   "execution_count": 25,
   "metadata": {},
   "outputs": [
    {
     "data": {
      "text/plain": [
       "PassengerId       0\n",
       "Survived          0\n",
       "Pclass            0\n",
       "Name              0\n",
       "Sex               0\n",
       "Age             263\n",
       "SibSp             0\n",
       "Parch             0\n",
       "Ticket            0\n",
       "Fare              1\n",
       "Cabin          1014\n",
       "Embarked          2\n",
       "dtype: int64"
      ]
     },
     "execution_count": 25,
     "metadata": {},
     "output_type": "execute_result"
    }
   ],
   "source": [
    "# To find the null values total sum\n",
    "\n",
    "df.isnull().sum()"
   ]
  },
  {
   "cell_type": "code",
   "execution_count": 26,
   "metadata": {
    "scrolled": true
   },
   "outputs": [
    {
     "data": {
      "text/plain": [
       "<matplotlib.axes._subplots.AxesSubplot at 0x1714baad3a0>"
      ]
     },
     "execution_count": 26,
     "metadata": {},
     "output_type": "execute_result"
    },
    {
     "data": {
      "image/png": "[encoded data removed]",
      "text/plain": [
       "<Figure size 432x288 with 1 Axes>"
      ]
     },
     "metadata": {},
     "output_type": "display_data"
    }
   ],
   "source": [
    "# Here we are using the Seaborn heatmap to display the occurance of null values in the dataset.\n",
    "# dark colour  ----> Indicates more null values\n",
    "# light colour ----> Less null values\n",
    "# No colour    ----> No null values\n",
    "\n",
    "sns.heatmap(df.isnull(),yticklabels=False,cbar=False,cmap='viridis')"
   ]
  },
  {
   "cell_type": "code",
   "execution_count": 27,
   "metadata": {
    "scrolled": true
   },
   "outputs": [
    {
     "data": {
      "text/plain": [
       "<matplotlib.axes._subplots.AxesSubplot at 0x1714c1283a0>"
      ]
     },
     "execution_count": 27,
     "metadata": {},
     "output_type": "execute_result"
    },
    {
     "data": {
      "image/png": "[encoded data removed]",
      "text/plain": [
       "<Figure size 432x288 with 1 Axes>"
      ]
     },
     "metadata": {},
     "output_type": "display_data"
    }
   ],
   "source": [
    "# Data cleaning:-\n",
    "\n",
    "# Here instead of just dropping the missing Age data rows,we are filling Age attribute by using the\n",
    "# mean of age considered from all the passengers by using Pclass(imputation of missing values using mean). \n",
    "# However we are checking the average age by passenger class.\n",
    "# From below boxplot it is clear that wealthier passengers in the higher classes tend to be older, \n",
    "# which makes sense.Now using this average Pclass age values we will impute them in Age attribute to fill \n",
    "# null values.\n",
    "\n",
    "sns.boxplot(x='Pclass',y='Age',data=df,palette='winter')"
   ]
  },
  {
   "cell_type": "code",
   "execution_count": 28,
   "metadata": {},
   "outputs": [],
   "source": [
    "def avgage_impute(cols):\n",
    "    Age = cols[0]\n",
    "    Pclass = cols[1]\n",
    "    if pd.isnull(Age):\n",
    "        if Pclass == 1:\n",
    "            return 40\n",
    "        elif Pclass == 2:\n",
    "            return 30\n",
    "        else:\n",
    "            return 25\n",
    "    else:\n",
    "        return Age"
   ]
  },
  {
   "cell_type": "code",
   "execution_count": 29,
   "metadata": {},
   "outputs": [],
   "source": [
    "# Now apply this avgage_impute function in dataset to fill null values of Age attribute!\n",
    "# By using the apply function we are passing the avgage_impute function to replace null values in\n",
    "# Age attribute \n",
    "\n",
    "df['Age'] = df[['Age','Pclass']].apply(avgage_impute,axis=1)"
   ]
  },
  {
   "cell_type": "code",
   "execution_count": 30,
   "metadata": {},
   "outputs": [],
   "source": [
    "# Filling the  missing values in Fare attribute by using mean of that attribute.\n",
    "\n",
    "df['Fare'] = df['Fare'].fillna(df['Fare'].mean())"
   ]
  },
  {
   "cell_type": "code",
   "execution_count": 31,
   "metadata": {
    "scrolled": true
   },
   "outputs": [
    {
     "data": {
      "text/plain": [
       "'S'"
      ]
     },
     "execution_count": 31,
     "metadata": {},
     "output_type": "execute_result"
    }
   ],
   "source": [
    "# Now we are filling the null value in Embarked attribute by using mode imputation\n",
    "# Mode Imputation is filling the most frequent value in the Embarked attribute in dataset\n",
    "# This can be obtained by using below function which returns most frequent value in Embarked attribute.\n",
    "\n",
    "df['Embarked'].mode()[0]"
   ]
  },
  {
   "cell_type": "code",
   "execution_count": 32,
   "metadata": {},
   "outputs": [],
   "source": [
    "# filling missing values in Embarked attribute by using mode of that attribute\n",
    "\n",
    "df['Embarked'] = df['Embarked'].fillna(df['Embarked'].mode()[0])"
   ]
  },
  {
   "cell_type": "code",
   "execution_count": 33,
   "metadata": {},
   "outputs": [
    {
     "data": {
      "text/html": [
       "<div>\n",
       "<style scoped>\n",
       "    .dataframe tbody tr th:only-of-type {\n",
       "        vertical-align: middle;\n",
       "    }\n",
       "\n",
       "    .dataframe tbody tr th {\n",
       "        vertical-align: top;\n",
       "    }\n",
       "\n",
       "    .dataframe thead th {\n",
       "        text-align: right;\n",
       "    }\n",
       "</style>\n",
       "<table border=\"1\" class=\"dataframe\">\n",
       "  <thead>\n",
       "    <tr style=\"text-align: right;\">\n",
       "      <th></th>\n",
       "      <th>Survived</th>\n",
       "      <th>Pclass</th>\n",
       "      <th>Sex</th>\n",
       "      <th>Age</th>\n",
       "      <th>SibSp</th>\n",
       "      <th>Parch</th>\n",
       "      <th>Fare</th>\n",
       "      <th>Embarked</th>\n",
       "    </tr>\n",
       "  </thead>\n",
       "  <tbody>\n",
       "    <tr>\n",
       "      <th>0</th>\n",
       "      <td>0</td>\n",
       "      <td>3</td>\n",
       "      <td>male</td>\n",
       "      <td>22.0</td>\n",
       "      <td>1</td>\n",
       "      <td>0</td>\n",
       "      <td>7.2500</td>\n",
       "      <td>S</td>\n",
       "    </tr>\n",
       "    <tr>\n",
       "      <th>1</th>\n",
       "      <td>1</td>\n",
       "      <td>1</td>\n",
       "      <td>female</td>\n",
       "      <td>38.0</td>\n",
       "      <td>1</td>\n",
       "      <td>0</td>\n",
       "      <td>71.2833</td>\n",
       "      <td>C</td>\n",
       "    </tr>\n",
       "    <tr>\n",
       "      <th>2</th>\n",
       "      <td>1</td>\n",
       "      <td>3</td>\n",
       "      <td>female</td>\n",
       "      <td>26.0</td>\n",
       "      <td>0</td>\n",
       "      <td>0</td>\n",
       "      <td>7.9250</td>\n",
       "      <td>S</td>\n",
       "    </tr>\n",
       "    <tr>\n",
       "      <th>3</th>\n",
       "      <td>1</td>\n",
       "      <td>1</td>\n",
       "      <td>female</td>\n",
       "      <td>35.0</td>\n",
       "      <td>1</td>\n",
       "      <td>0</td>\n",
       "      <td>53.1000</td>\n",
       "      <td>S</td>\n",
       "    </tr>\n",
       "    <tr>\n",
       "      <th>4</th>\n",
       "      <td>0</td>\n",
       "      <td>3</td>\n",
       "      <td>male</td>\n",
       "      <td>35.0</td>\n",
       "      <td>0</td>\n",
       "      <td>0</td>\n",
       "      <td>8.0500</td>\n",
       "      <td>S</td>\n",
       "    </tr>\n",
       "  </tbody>\n",
       "</table>\n",
       "</div>"
      ],
      "text/plain": [
       "   Survived  Pclass     Sex   Age  SibSp  Parch     Fare Embarked\n",
       "0         0       3    male  22.0      1      0   7.2500        S\n",
       "1         1       1  female  38.0      1      0  71.2833        C\n",
       "2         1       3  female  26.0      0      0   7.9250        S\n",
       "3         1       1  female  35.0      1      0  53.1000        S\n",
       "4         0       3    male  35.0      0      0   8.0500        S"
      ]
     },
     "execution_count": 33,
     "metadata": {},
     "output_type": "execute_result"
    }
   ],
   "source": [
    "# drop unnecessary columns from the dataset\n",
    "\n",
    "df = df.drop(columns=['PassengerId','Name','Ticket','Cabin'], axis=1)\n",
    "df.head()"
   ]
  },
  {
   "cell_type": "code",
   "execution_count": 34,
   "metadata": {},
   "outputs": [
    {
     "data": {
      "text/plain": [
       "Survived    0\n",
       "Pclass      0\n",
       "Sex         0\n",
       "Age         0\n",
       "SibSp       0\n",
       "Parch       0\n",
       "Fare        0\n",
       "Embarked    0\n",
       "dtype: int64"
      ]
     },
     "execution_count": 34,
     "metadata": {},
     "output_type": "execute_result"
    }
   ],
   "source": [
    "# To find the null values total sum\n",
    "\n",
    "df.isnull().sum()"
   ]
  },
  {
   "cell_type": "code",
   "execution_count": 35,
   "metadata": {},
   "outputs": [
    {
     "data": {
      "text/plain": [
       "<matplotlib.axes._subplots.AxesSubplot at 0x1714c1c3eb0>"
      ]
     },
     "execution_count": 35,
     "metadata": {},
     "output_type": "execute_result"
    },
    {
     "data": {
      "image/png": "[encoded data removed]",
      "text/plain": [
       "<Figure size 432x288 with 1 Axes>"
      ]
     },
     "metadata": {},
     "output_type": "display_data"
    }
   ],
   "source": [
    "# Here we are using the Seaborn heatmap to display the occurance of null values in the dataset.\n",
    "# dark colour  ----> Indicates more null values\n",
    "# light colour ----> Less null values\n",
    "# No colour    ----> No null values\n",
    "# This clearly shows that we are not having any null values in our dataset and can build a ML model\n",
    "\n",
    "sns.heatmap(df.isnull(),yticklabels=False,cbar=False,cmap='viridis')"
   ]
  },
  {
   "cell_type": "code",
   "execution_count": 36,
   "metadata": {
    "scrolled": true
   },
   "outputs": [
    {
     "data": {
      "text/plain": [
       "<matplotlib.axes._subplots.AxesSubplot at 0x1714c1bfe20>"
      ]
     },
     "execution_count": 36,
     "metadata": {},
     "output_type": "execute_result"
    },
    {
     "data": {
      "image/png": "[encoded data removed]",
      "text/plain": [
       "<Figure size 1080x648 with 2 Axes>"
      ]
     },
     "metadata": {},
     "output_type": "display_data"
    }
   ],
   "source": [
    "# Correlation Matrix\n",
    "corr = df.corr()\n",
    "plt.figure(figsize=(15, 9))\n",
    "sns.heatmap(corr, annot=True, cmap='coolwarm')"
   ]
  },
  {
   "cell_type": "code",
   "execution_count": 37,
   "metadata": {},
   "outputs": [
    {
     "data": {
      "text/plain": [
       "array(['S', 'C', 'Q'], dtype=object)"
      ]
     },
     "execution_count": 37,
     "metadata": {},
     "output_type": "execute_result"
    }
   ],
   "source": [
    "# To find the unique values in Embarked column for applying Label Encoding\n",
    "\n",
    "df['Embarked'].unique()"
   ]
  },
  {
   "cell_type": "code",
   "execution_count": 38,
   "metadata": {},
   "outputs": [
    {
     "data": {
      "text/plain": [
       "array(['male', 'female'], dtype=object)"
      ]
     },
     "execution_count": 38,
     "metadata": {},
     "output_type": "execute_result"
    }
   ],
   "source": [
    "df['Sex'].unique()"
   ]
  },
  {
   "cell_type": "code",
   "execution_count": 39,
   "metadata": {
    "scrolled": true
   },
   "outputs": [],
   "source": [
    "# Label Encoding:-\n",
    "\n",
    "#applying Label encoding to categorical variables\n",
    "# Applying Label Encoding on \"Sex\" and \"Embarked\" columns to fill categorical values with numerical values\n",
    "\n",
    "from sklearn.preprocessing import LabelEncoder\n",
    "le =LabelEncoder()\n",
    "df[\"Embarked\"]=le.fit_transform(df[\"Embarked\"])"
   ]
  },
  {
   "cell_type": "code",
   "execution_count": 40,
   "metadata": {},
   "outputs": [
    {
     "name": "stdout",
     "output_type": "stream",
     "text": [
      "Encoding Embarked Columnn\n",
      "  Class_Names indexed with class_labels\n",
      "0                                     C\n",
      "1                                     Q\n",
      "2                                     S\n"
     ]
    }
   ],
   "source": [
    "print(\"Encoding Embarked Columnn\")\n",
    "print(pd.DataFrame(pd.Series(le.inverse_transform([0,1,2])),columns=[\"Class_Names indexed with class_labels\"]))"
   ]
  },
  {
   "cell_type": "code",
   "execution_count": 41,
   "metadata": {},
   "outputs": [],
   "source": [
    "#applying Label encoding to categorical variables\n",
    "from sklearn.preprocessing import LabelEncoder\n",
    "le =LabelEncoder()\n",
    "df[\"Sex\"]=le.fit_transform(df[\"Sex\"])"
   ]
  },
  {
   "cell_type": "code",
   "execution_count": 42,
   "metadata": {},
   "outputs": [
    {
     "name": "stdout",
     "output_type": "stream",
     "text": [
      "Encoding Sex Columnn\n",
      "  Class_Names indexed with class_labels\n",
      "0                                female\n",
      "1                                  male\n"
     ]
    }
   ],
   "source": [
    "print(\"Encoding Sex Columnn\")\n",
    "print(pd.DataFrame(pd.Series(le.inverse_transform([0,1])),columns=[\"Class_Names indexed with class_labels\"]))"
   ]
  },
  {
   "cell_type": "code",
   "execution_count": 43,
   "metadata": {
    "scrolled": true
   },
   "outputs": [
    {
     "data": {
      "text/html": [
       "<div>\n",
       "<style scoped>\n",
       "    .dataframe tbody tr th:only-of-type {\n",
       "        vertical-align: middle;\n",
       "    }\n",
       "\n",
       "    .dataframe tbody tr th {\n",
       "        vertical-align: top;\n",
       "    }\n",
       "\n",
       "    .dataframe thead th {\n",
       "        text-align: right;\n",
       "    }\n",
       "</style>\n",
       "<table border=\"1\" class=\"dataframe\">\n",
       "  <thead>\n",
       "    <tr style=\"text-align: right;\">\n",
       "      <th></th>\n",
       "      <th>Survived</th>\n",
       "      <th>Pclass</th>\n",
       "      <th>Sex</th>\n",
       "      <th>Age</th>\n",
       "      <th>SibSp</th>\n",
       "      <th>Parch</th>\n",
       "      <th>Fare</th>\n",
       "      <th>Embarked</th>\n",
       "    </tr>\n",
       "  </thead>\n",
       "  <tbody>\n",
       "    <tr>\n",
       "      <th>0</th>\n",
       "      <td>0</td>\n",
       "      <td>3</td>\n",
       "      <td>1</td>\n",
       "      <td>22.0</td>\n",
       "      <td>1</td>\n",
       "      <td>0</td>\n",
       "      <td>7.2500</td>\n",
       "      <td>2</td>\n",
       "    </tr>\n",
       "    <tr>\n",
       "      <th>1</th>\n",
       "      <td>1</td>\n",
       "      <td>1</td>\n",
       "      <td>0</td>\n",
       "      <td>38.0</td>\n",
       "      <td>1</td>\n",
       "      <td>0</td>\n",
       "      <td>71.2833</td>\n",
       "      <td>0</td>\n",
       "    </tr>\n",
       "    <tr>\n",
       "      <th>2</th>\n",
       "      <td>1</td>\n",
       "      <td>3</td>\n",
       "      <td>0</td>\n",
       "      <td>26.0</td>\n",
       "      <td>0</td>\n",
       "      <td>0</td>\n",
       "      <td>7.9250</td>\n",
       "      <td>2</td>\n",
       "    </tr>\n",
       "    <tr>\n",
       "      <th>3</th>\n",
       "      <td>1</td>\n",
       "      <td>1</td>\n",
       "      <td>0</td>\n",
       "      <td>35.0</td>\n",
       "      <td>1</td>\n",
       "      <td>0</td>\n",
       "      <td>53.1000</td>\n",
       "      <td>2</td>\n",
       "    </tr>\n",
       "    <tr>\n",
       "      <th>4</th>\n",
       "      <td>0</td>\n",
       "      <td>3</td>\n",
       "      <td>1</td>\n",
       "      <td>35.0</td>\n",
       "      <td>0</td>\n",
       "      <td>0</td>\n",
       "      <td>8.0500</td>\n",
       "      <td>2</td>\n",
       "    </tr>\n",
       "  </tbody>\n",
       "</table>\n",
       "</div>"
      ],
      "text/plain": [
       "   Survived  Pclass  Sex   Age  SibSp  Parch     Fare  Embarked\n",
       "0         0       3    1  22.0      1      0   7.2500         2\n",
       "1         1       1    0  38.0      1      0  71.2833         0\n",
       "2         1       3    0  26.0      0      0   7.9250         2\n",
       "3         1       1    0  35.0      1      0  53.1000         2\n",
       "4         0       3    1  35.0      0      0   8.0500         2"
      ]
     },
     "execution_count": 43,
     "metadata": {},
     "output_type": "execute_result"
    }
   ],
   "source": [
    "# Now the dataset after applying the label encoding for \"Sex\" and \"Embarked\" columns\n",
    "\n",
    "df.head()"
   ]
  },
  {
   "cell_type": "code",
   "execution_count": 44,
   "metadata": {},
   "outputs": [],
   "source": [
    "#Now choose our independent variables(inputs), dependent variables(target).\n",
    "\n",
    "df_inputs = df.drop('Survived',axis='columns')\n",
    "df_target = df.Survived"
   ]
  },
  {
   "cell_type": "code",
   "execution_count": 45,
   "metadata": {},
   "outputs": [
    {
     "name": "stdout",
     "output_type": "stream",
     "text": [
      "      Pclass  Sex   Age  SibSp  Parch      Fare  Embarked\n",
      "0          3    1  22.0      1      0    7.2500         2\n",
      "1          1    0  38.0      1      0   71.2833         0\n",
      "2          3    0  26.0      0      0    7.9250         2\n",
      "3          1    0  35.0      1      0   53.1000         2\n",
      "4          3    1  35.0      0      0    8.0500         2\n",
      "...      ...  ...   ...    ...    ...       ...       ...\n",
      "1304       3    1  25.0      0      0    8.0500         2\n",
      "1305       1    0  39.0      0      0  108.9000         0\n",
      "1306       3    1  38.5      0      0    7.2500         2\n",
      "1307       3    1  25.0      0      0    8.0500         2\n",
      "1308       3    1  25.0      1      1   22.3583         0\n",
      "\n",
      "[1309 rows x 7 columns]\n"
     ]
    }
   ],
   "source": [
    "# Scaling:-\n",
    "\n",
    "#importing data scaling techniques\n",
    "from sklearn.preprocessing import StandardScaler\n",
    "#Applying data scaling techniques\n",
    "sc=StandardScaler()\n",
    "data_inputs=sc.fit_transform(df_inputs) \n",
    "print(df_inputs)"
   ]
  },
  {
   "cell_type": "code",
   "execution_count": 46,
   "metadata": {},
   "outputs": [],
   "source": [
    "# Assigning values inputs and target to X,y\n",
    "\n",
    "X = df_inputs\n",
    "y = df_target"
   ]
  },
  {
   "cell_type": "code",
   "execution_count": 47,
   "metadata": {
    "scrolled": true
   },
   "outputs": [
    {
     "data": {
      "text/html": [
       "<div>\n",
       "<style scoped>\n",
       "    .dataframe tbody tr th:only-of-type {\n",
       "        vertical-align: middle;\n",
       "    }\n",
       "\n",
       "    .dataframe tbody tr th {\n",
       "        vertical-align: top;\n",
       "    }\n",
       "\n",
       "    .dataframe thead th {\n",
       "        text-align: right;\n",
       "    }\n",
       "</style>\n",
       "<table border=\"1\" class=\"dataframe\">\n",
       "  <thead>\n",
       "    <tr style=\"text-align: right;\">\n",
       "      <th></th>\n",
       "      <th>Pclass</th>\n",
       "      <th>Sex</th>\n",
       "      <th>Age</th>\n",
       "      <th>SibSp</th>\n",
       "      <th>Parch</th>\n",
       "      <th>Fare</th>\n",
       "      <th>Embarked</th>\n",
       "    </tr>\n",
       "  </thead>\n",
       "  <tbody>\n",
       "    <tr>\n",
       "      <th>0</th>\n",
       "      <td>3</td>\n",
       "      <td>1</td>\n",
       "      <td>22.0</td>\n",
       "      <td>1</td>\n",
       "      <td>0</td>\n",
       "      <td>7.2500</td>\n",
       "      <td>2</td>\n",
       "    </tr>\n",
       "    <tr>\n",
       "      <th>1</th>\n",
       "      <td>1</td>\n",
       "      <td>0</td>\n",
       "      <td>38.0</td>\n",
       "      <td>1</td>\n",
       "      <td>0</td>\n",
       "      <td>71.2833</td>\n",
       "      <td>0</td>\n",
       "    </tr>\n",
       "    <tr>\n",
       "      <th>2</th>\n",
       "      <td>3</td>\n",
       "      <td>0</td>\n",
       "      <td>26.0</td>\n",
       "      <td>0</td>\n",
       "      <td>0</td>\n",
       "      <td>7.9250</td>\n",
       "      <td>2</td>\n",
       "    </tr>\n",
       "    <tr>\n",
       "      <th>3</th>\n",
       "      <td>1</td>\n",
       "      <td>0</td>\n",
       "      <td>35.0</td>\n",
       "      <td>1</td>\n",
       "      <td>0</td>\n",
       "      <td>53.1000</td>\n",
       "      <td>2</td>\n",
       "    </tr>\n",
       "    <tr>\n",
       "      <th>4</th>\n",
       "      <td>3</td>\n",
       "      <td>1</td>\n",
       "      <td>35.0</td>\n",
       "      <td>0</td>\n",
       "      <td>0</td>\n",
       "      <td>8.0500</td>\n",
       "      <td>2</td>\n",
       "    </tr>\n",
       "  </tbody>\n",
       "</table>\n",
       "</div>"
      ],
      "text/plain": [
       "   Pclass  Sex   Age  SibSp  Parch     Fare  Embarked\n",
       "0       3    1  22.0      1      0   7.2500         2\n",
       "1       1    0  38.0      1      0  71.2833         0\n",
       "2       3    0  26.0      0      0   7.9250         2\n",
       "3       1    0  35.0      1      0  53.1000         2\n",
       "4       3    1  35.0      0      0   8.0500         2"
      ]
     },
     "execution_count": 47,
     "metadata": {},
     "output_type": "execute_result"
    }
   ],
   "source": [
    "X.head()"
   ]
  },
  {
   "cell_type": "code",
   "execution_count": 48,
   "metadata": {
    "scrolled": true
   },
   "outputs": [
    {
     "data": {
      "text/plain": [
       "0    0\n",
       "1    1\n",
       "2    1\n",
       "3    1\n",
       "4    0\n",
       "Name: Survived, dtype: int64"
      ]
     },
     "execution_count": 48,
     "metadata": {},
     "output_type": "execute_result"
    }
   ],
   "source": [
    "y.head()"
   ]
  },
  {
   "cell_type": "code",
   "execution_count": 49,
   "metadata": {},
   "outputs": [],
   "source": [
    "# Finding the best model from \n",
    "# 1.SVM, \n",
    "# 2.Random Forest, \n",
    "# 3.Logistic Regression, \n",
    "# 4.KNN \n",
    "# with best parameters using GridSearchCV"
   ]
  },
  {
   "cell_type": "code",
   "execution_count": 50,
   "metadata": {},
   "outputs": [],
   "source": [
    "from sklearn.model_selection import train_test_split\n",
    "X_train, X_test, y_train, y_test = train_test_split(X, y, test_size=0.20)"
   ]
  },
  {
   "cell_type": "code",
   "execution_count": 51,
   "metadata": {},
   "outputs": [],
   "source": [
    "#importing SVM model\n",
    "from sklearn import svm\n",
    "\n",
    "#importing Random Forest model\n",
    "from sklearn.ensemble import RandomForestClassifier\n",
    "\n",
    "#importing Logistic Regression model\n",
    "from sklearn.linear_model import LogisticRegression\n",
    "\n",
    "#importing KNN model\n",
    "from sklearn.neighbors import KNeighborsClassifier"
   ]
  },
  {
   "cell_type": "code",
   "execution_count": 52,
   "metadata": {},
   "outputs": [],
   "source": [
    "model_params = {\n",
    "    'svm': {\n",
    "        'model': svm.SVC(gamma='auto'),\n",
    "        'params' : {\n",
    "            'C': [1,10,25],\n",
    "            'kernel': ['rbf','linear']\n",
    "        }  \n",
    "    },\n",
    "    'random_forest': {\n",
    "        'model': RandomForestClassifier(),\n",
    "        'params' : {\n",
    "            'n_estimators': [5,10,20,30],\n",
    "            \"criterion\":['gini','entropy'],\n",
    "            'min_samples_split':[2,3,4],\n",
    "            \n",
    "        }\n",
    "    },\n",
    "    'logistic_regression' : {\n",
    "        'model': LogisticRegression(solver='liblinear',multi_class='auto'),\n",
    "        'params': {\n",
    "            'C': [1,5,10,15]\n",
    "        }\n",
    "    },\n",
    "    'KNN': {\n",
    "        'model': KNeighborsClassifier(),\n",
    "        'params': {\n",
    "            'n_neighbors': [x for x in range(5,20)],\n",
    "            'leaf_size':[10,20,30,40,50],\n",
    "        }\n",
    "    }  \n",
    "}"
   ]
  },
  {
   "cell_type": "code",
   "execution_count": 53,
   "metadata": {},
   "outputs": [
    {
     "name": "stdout",
     "output_type": "stream",
     "text": [
      "Fitting 5 folds for each of 6 candidates, totalling 30 fits\n",
      "[CV 1/5] END ...................C=1, kernel=rbf;, score=0.662 total time=   0.0s\n",
      "[CV 2/5] END ...................C=1, kernel=rbf;, score=0.648 total time=   0.0s\n",
      "[CV 3/5] END ...................C=1, kernel=rbf;, score=0.684 total time=   0.1s\n",
      "[CV 4/5] END ...................C=1, kernel=rbf;, score=0.608 total time=   0.1s\n",
      "[CV 5/5] END ...................C=1, kernel=rbf;, score=0.641 total time=   0.0s\n",
      "[CV 1/5] END ................C=1, kernel=linear;, score=0.700 total time= 1.0min\n",
      "[CV 2/5] END ................C=1, kernel=linear;, score=0.714 total time=  25.9s\n",
      "[CV 3/5] END ................C=1, kernel=linear;, score=0.699 total time= 1.0min\n",
      "[CV 4/5] END ................C=1, kernel=linear;, score=0.722 total time=  16.8s\n",
      "[CV 5/5] END ................C=1, kernel=linear;, score=0.646 total time= 1.2min\n",
      "[CV 1/5] END ..................C=10, kernel=rbf;, score=0.652 total time=   0.0s\n",
      "[CV 2/5] END ..................C=10, kernel=rbf;, score=0.638 total time=   0.1s\n",
      "[CV 3/5] END ..................C=10, kernel=rbf;, score=0.679 total time=   0.1s\n",
      "[CV 4/5] END ..................C=10, kernel=rbf;, score=0.622 total time=   0.1s\n",
      "[CV 5/5] END ..................C=10, kernel=rbf;, score=0.656 total time=   0.0s\n",
      "[CV 1/5] END ...............C=10, kernel=linear;, score=0.700 total time= 1.5min\n",
      "[CV 2/5] END ...............C=10, kernel=linear;, score=0.714 total time=  47.3s\n",
      "[CV 3/5] END ...............C=10, kernel=linear;, score=0.699 total time= 1.6min\n",
      "[CV 4/5] END ...............C=10, kernel=linear;, score=0.722 total time=  46.1s\n",
      "[CV 5/5] END ...............C=10, kernel=linear;, score=0.646 total time= 1.7min\n",
      "[CV 1/5] END ..................C=25, kernel=rbf;, score=0.667 total time=   0.1s\n",
      "[CV 2/5] END ..................C=25, kernel=rbf;, score=0.648 total time=   0.1s\n",
      "[CV 3/5] END ..................C=25, kernel=rbf;, score=0.684 total time=   0.1s\n",
      "[CV 4/5] END ..................C=25, kernel=rbf;, score=0.603 total time=   0.1s\n",
      "[CV 5/5] END ..................C=25, kernel=rbf;, score=0.651 total time=   0.1s\n",
      "[CV 1/5] END ...............C=25, kernel=linear;, score=0.700 total time= 2.2min\n",
      "[CV 2/5] END ...............C=25, kernel=linear;, score=0.714 total time=  49.6s\n",
      "[CV 3/5] END ...............C=25, kernel=linear;, score=0.699 total time= 1.9min\n",
      "[CV 4/5] END ...............C=25, kernel=linear;, score=0.722 total time= 1.3min\n",
      "[CV 5/5] END ...............C=25, kernel=linear;, score=0.646 total time= 2.2min\n",
      "Fitting 5 folds for each of 24 candidates, totalling 120 fits\n",
      "[CV 1/5] END criterion=gini, min_samples_split=2, n_estimators=5;, score=0.690 total time=   0.0s\n",
      "[CV 2/5] END criterion=gini, min_samples_split=2, n_estimators=5;, score=0.671 total time=   0.0s\n",
      "[CV 3/5] END criterion=gini, min_samples_split=2, n_estimators=5;, score=0.694 total time=   0.0s\n",
      "[CV 4/5] END criterion=gini, min_samples_split=2, n_estimators=5;, score=0.646 total time=   0.0s\n",
      "[CV 5/5] END criterion=gini, min_samples_split=2, n_estimators=5;, score=0.660 total time=   0.0s\n",
      "[CV 1/5] END criterion=gini, min_samples_split=2, n_estimators=10;, score=0.686 total time=   0.0s\n",
      "[CV 2/5] END criterion=gini, min_samples_split=2, n_estimators=10;, score=0.652 total time=   0.0s\n",
      "[CV 3/5] END criterion=gini, min_samples_split=2, n_estimators=10;, score=0.675 total time=   0.0s\n",
      "[CV 4/5] END criterion=gini, min_samples_split=2, n_estimators=10;, score=0.656 total time=   0.0s\n",
      "[CV 5/5] END criterion=gini, min_samples_split=2, n_estimators=10;, score=0.699 total time=   0.0s\n",
      "[CV 1/5] END criterion=gini, min_samples_split=2, n_estimators=20;, score=0.681 total time=   0.0s\n",
      "[CV 2/5] END criterion=gini, min_samples_split=2, n_estimators=20;, score=0.662 total time=   0.0s\n",
      "[CV 3/5] END criterion=gini, min_samples_split=2, n_estimators=20;, score=0.708 total time=   0.0s\n",
      "[CV 4/5] END criterion=gini, min_samples_split=2, n_estimators=20;, score=0.670 total time=   0.0s\n",
      "[CV 5/5] END criterion=gini, min_samples_split=2, n_estimators=20;, score=0.656 total time=   0.0s\n",
      "[CV 1/5] END criterion=gini, min_samples_split=2, n_estimators=30;, score=0.686 total time=   0.0s\n",
      "[CV 2/5] END criterion=gini, min_samples_split=2, n_estimators=30;, score=0.657 total time=   0.0s\n",
      "[CV 3/5] END criterion=gini, min_samples_split=2, n_estimators=30;, score=0.699 total time=   0.0s\n",
      "[CV 4/5] END criterion=gini, min_samples_split=2, n_estimators=30;, score=0.641 total time=   0.0s\n",
      "[CV 5/5] END criterion=gini, min_samples_split=2, n_estimators=30;, score=0.684 total time=   0.0s\n",
      "[CV 1/5] END criterion=gini, min_samples_split=3, n_estimators=5;, score=0.643 total time=   0.0s\n",
      "[CV 2/5] END criterion=gini, min_samples_split=3, n_estimators=5;, score=0.681 total time=   0.0s\n",
      "[CV 3/5] END criterion=gini, min_samples_split=3, n_estimators=5;, score=0.660 total time=   0.0s\n",
      "[CV 4/5] END criterion=gini, min_samples_split=3, n_estimators=5;, score=0.632 total time=   0.0s\n",
      "[CV 5/5] END criterion=gini, min_samples_split=3, n_estimators=5;, score=0.636 total time=   0.0s\n",
      "[CV 1/5] END criterion=gini, min_samples_split=3, n_estimators=10;, score=0.681 total time=   0.0s\n",
      "[CV 2/5] END criterion=gini, min_samples_split=3, n_estimators=10;, score=0.648 total time=   0.0s\n",
      "[CV 3/5] END criterion=gini, min_samples_split=3, n_estimators=10;, score=0.699 total time=   0.0s\n",
      "[CV 4/5] END criterion=gini, min_samples_split=3, n_estimators=10;, score=0.684 total time=   0.0s\n",
      "[CV 5/5] END criterion=gini, min_samples_split=3, n_estimators=10;, score=0.689 total time=   0.0s\n",
      "[CV 1/5] END criterion=gini, min_samples_split=3, n_estimators=20;, score=0.690 total time=   0.0s\n",
      "[CV 2/5] END criterion=gini, min_samples_split=3, n_estimators=20;, score=0.667 total time=   0.0s\n",
      "[CV 3/5] END criterion=gini, min_samples_split=3, n_estimators=20;, score=0.665 total time=   0.0s\n",
      "[CV 4/5] END criterion=gini, min_samples_split=3, n_estimators=20;, score=0.679 total time=   0.0s\n",
      "[CV 5/5] END criterion=gini, min_samples_split=3, n_estimators=20;, score=0.679 total time=   0.0s\n",
      "[CV 1/5] END criterion=gini, min_samples_split=3, n_estimators=30;, score=0.700 total time=   0.0s\n",
      "[CV 2/5] END criterion=gini, min_samples_split=3, n_estimators=30;, score=0.667 total time=   0.0s\n",
      "[CV 3/5] END criterion=gini, min_samples_split=3, n_estimators=30;, score=0.679 total time=   0.0s\n",
      "[CV 4/5] END criterion=gini, min_samples_split=3, n_estimators=30;, score=0.646 total time=   0.0s\n",
      "[CV 5/5] END criterion=gini, min_samples_split=3, n_estimators=30;, score=0.703 total time=   0.0s\n",
      "[CV 1/5] END criterion=gini, min_samples_split=4, n_estimators=5;, score=0.619 total time=   0.0s\n",
      "[CV 2/5] END criterion=gini, min_samples_split=4, n_estimators=5;, score=0.681 total time=   0.0s\n",
      "[CV 3/5] END criterion=gini, min_samples_split=4, n_estimators=5;, score=0.689 total time=   0.0s\n",
      "[CV 4/5] END criterion=gini, min_samples_split=4, n_estimators=5;, score=0.632 total time=   0.0s\n",
      "[CV 5/5] END criterion=gini, min_samples_split=4, n_estimators=5;, score=0.660 total time=   0.0s\n",
      "[CV 1/5] END criterion=gini, min_samples_split=4, n_estimators=10;, score=0.671 total time=   0.0s\n",
      "[CV 2/5] END criterion=gini, min_samples_split=4, n_estimators=10;, score=0.667 total time=   0.0s\n",
      "[CV 3/5] END criterion=gini, min_samples_split=4, n_estimators=10;, score=0.699 total time=   0.0s\n",
      "[CV 4/5] END criterion=gini, min_samples_split=4, n_estimators=10;, score=0.641 total time=   0.0s\n",
      "[CV 5/5] END criterion=gini, min_samples_split=4, n_estimators=10;, score=0.689 total time=   0.0s\n",
      "[CV 1/5] END criterion=gini, min_samples_split=4, n_estimators=20;, score=0.714 total time=   0.0s\n",
      "[CV 2/5] END criterion=gini, min_samples_split=4, n_estimators=20;, score=0.667 total time=   0.0s\n",
      "[CV 3/5] END criterion=gini, min_samples_split=4, n_estimators=20;, score=0.708 total time=   0.0s\n",
      "[CV 4/5] END criterion=gini, min_samples_split=4, n_estimators=20;, score=0.675 total time=   0.0s\n",
      "[CV 5/5] END criterion=gini, min_samples_split=4, n_estimators=20;, score=0.699 total time=   0.0s\n",
      "[CV 1/5] END criterion=gini, min_samples_split=4, n_estimators=30;, score=0.700 total time=   0.0s\n",
      "[CV 2/5] END criterion=gini, min_samples_split=4, n_estimators=30;, score=0.690 total time=   0.0s\n",
      "[CV 3/5] END criterion=gini, min_samples_split=4, n_estimators=30;, score=0.732 total time=   0.0s\n",
      "[CV 4/5] END criterion=gini, min_samples_split=4, n_estimators=30;, score=0.699 total time=   0.0s\n"
     ]
    },
    {
     "name": "stdout",
     "output_type": "stream",
     "text": [
      "[CV 5/5] END criterion=gini, min_samples_split=4, n_estimators=30;, score=0.708 total time=   0.0s\n",
      "[CV 1/5] END criterion=entropy, min_samples_split=2, n_estimators=5;, score=0.671 total time=   0.0s\n",
      "[CV 2/5] END criterion=entropy, min_samples_split=2, n_estimators=5;, score=0.638 total time=   0.0s\n",
      "[CV 3/5] END criterion=entropy, min_samples_split=2, n_estimators=5;, score=0.670 total time=   0.0s\n",
      "[CV 4/5] END criterion=entropy, min_samples_split=2, n_estimators=5;, score=0.646 total time=   0.0s\n",
      "[CV 5/5] END criterion=entropy, min_samples_split=2, n_estimators=5;, score=0.679 total time=   0.0s\n",
      "[CV 1/5] END criterion=entropy, min_samples_split=2, n_estimators=10;, score=0.671 total time=   0.0s\n",
      "[CV 2/5] END criterion=entropy, min_samples_split=2, n_estimators=10;, score=0.667 total time=   0.0s\n",
      "[CV 3/5] END criterion=entropy, min_samples_split=2, n_estimators=10;, score=0.689 total time=   0.0s\n",
      "[CV 4/5] END criterion=entropy, min_samples_split=2, n_estimators=10;, score=0.670 total time=   0.0s\n",
      "[CV 5/5] END criterion=entropy, min_samples_split=2, n_estimators=10;, score=0.665 total time=   0.0s\n",
      "[CV 1/5] END criterion=entropy, min_samples_split=2, n_estimators=20;, score=0.676 total time=   0.0s\n",
      "[CV 2/5] END criterion=entropy, min_samples_split=2, n_estimators=20;, score=0.695 total time=   0.0s\n",
      "[CV 3/5] END criterion=entropy, min_samples_split=2, n_estimators=20;, score=0.670 total time=   0.0s\n",
      "[CV 4/5] END criterion=entropy, min_samples_split=2, n_estimators=20;, score=0.675 total time=   0.0s\n",
      "[CV 5/5] END criterion=entropy, min_samples_split=2, n_estimators=20;, score=0.684 total time=   0.0s\n",
      "[CV 1/5] END criterion=entropy, min_samples_split=2, n_estimators=30;, score=0.686 total time=   0.0s\n",
      "[CV 2/5] END criterion=entropy, min_samples_split=2, n_estimators=30;, score=0.662 total time=   0.0s\n",
      "[CV 3/5] END criterion=entropy, min_samples_split=2, n_estimators=30;, score=0.713 total time=   0.0s\n",
      "[CV 4/5] END criterion=entropy, min_samples_split=2, n_estimators=30;, score=0.651 total time=   0.0s\n",
      "[CV 5/5] END criterion=entropy, min_samples_split=2, n_estimators=30;, score=0.670 total time=   0.0s\n",
      "[CV 1/5] END criterion=entropy, min_samples_split=3, n_estimators=5;, score=0.662 total time=   0.0s\n",
      "[CV 2/5] END criterion=entropy, min_samples_split=3, n_estimators=5;, score=0.652 total time=   0.0s\n",
      "[CV 3/5] END criterion=entropy, min_samples_split=3, n_estimators=5;, score=0.689 total time=   0.0s\n",
      "[CV 4/5] END criterion=entropy, min_samples_split=3, n_estimators=5;, score=0.670 total time=   0.0s\n",
      "[CV 5/5] END criterion=entropy, min_samples_split=3, n_estimators=5;, score=0.651 total time=   0.0s\n",
      "[CV 1/5] END criterion=entropy, min_samples_split=3, n_estimators=10;, score=0.729 total time=   0.0s\n",
      "[CV 2/5] END criterion=entropy, min_samples_split=3, n_estimators=10;, score=0.643 total time=   0.0s\n",
      "[CV 3/5] END criterion=entropy, min_samples_split=3, n_estimators=10;, score=0.727 total time=   0.0s\n",
      "[CV 4/5] END criterion=entropy, min_samples_split=3, n_estimators=10;, score=0.670 total time=   0.0s\n",
      "[CV 5/5] END criterion=entropy, min_samples_split=3, n_estimators=10;, score=0.651 total time=   0.0s\n",
      "[CV 1/5] END criterion=entropy, min_samples_split=3, n_estimators=20;, score=0.695 total time=   0.0s\n",
      "[CV 2/5] END criterion=entropy, min_samples_split=3, n_estimators=20;, score=0.652 total time=   0.0s\n",
      "[CV 3/5] END criterion=entropy, min_samples_split=3, n_estimators=20;, score=0.694 total time=   0.0s\n",
      "[CV 4/5] END criterion=entropy, min_samples_split=3, n_estimators=20;, score=0.632 total time=   0.0s\n",
      "[CV 5/5] END criterion=entropy, min_samples_split=3, n_estimators=20;, score=0.651 total time=   0.0s\n",
      "[CV 1/5] END criterion=entropy, min_samples_split=3, n_estimators=30;, score=0.705 total time=   0.0s\n",
      "[CV 2/5] END criterion=entropy, min_samples_split=3, n_estimators=30;, score=0.667 total time=   0.0s\n",
      "[CV 3/5] END criterion=entropy, min_samples_split=3, n_estimators=30;, score=0.694 total time=   0.0s\n",
      "[CV 4/5] END criterion=entropy, min_samples_split=3, n_estimators=30;, score=0.699 total time=   0.0s\n",
      "[CV 5/5] END criterion=entropy, min_samples_split=3, n_estimators=30;, score=0.670 total time=   0.0s\n",
      "[CV 1/5] END criterion=entropy, min_samples_split=4, n_estimators=5;, score=0.729 total time=   0.0s\n",
      "[CV 2/5] END criterion=entropy, min_samples_split=4, n_estimators=5;, score=0.686 total time=   0.0s\n",
      "[CV 3/5] END criterion=entropy, min_samples_split=4, n_estimators=5;, score=0.684 total time=   0.0s\n",
      "[CV 4/5] END criterion=entropy, min_samples_split=4, n_estimators=5;, score=0.660 total time=   0.0s\n",
      "[CV 5/5] END criterion=entropy, min_samples_split=4, n_estimators=5;, score=0.675 total time=   0.0s\n",
      "[CV 1/5] END criterion=entropy, min_samples_split=4, n_estimators=10;, score=0.671 total time=   0.0s\n",
      "[CV 2/5] END criterion=entropy, min_samples_split=4, n_estimators=10;, score=0.671 total time=   0.0s\n",
      "[CV 3/5] END criterion=entropy, min_samples_split=4, n_estimators=10;, score=0.689 total time=   0.0s\n",
      "[CV 4/5] END criterion=entropy, min_samples_split=4, n_estimators=10;, score=0.641 total time=   0.0s\n",
      "[CV 5/5] END criterion=entropy, min_samples_split=4, n_estimators=10;, score=0.703 total time=   0.0s\n",
      "[CV 1/5] END criterion=entropy, min_samples_split=4, n_estimators=20;, score=0.676 total time=   0.0s\n",
      "[CV 2/5] END criterion=entropy, min_samples_split=4, n_estimators=20;, score=0.676 total time=   0.0s\n",
      "[CV 3/5] END criterion=entropy, min_samples_split=4, n_estimators=20;, score=0.713 total time=   0.0s\n",
      "[CV 4/5] END criterion=entropy, min_samples_split=4, n_estimators=20;, score=0.675 total time=   0.0s\n",
      "[CV 5/5] END criterion=entropy, min_samples_split=4, n_estimators=20;, score=0.675 total time=   0.0s\n",
      "[CV 1/5] END criterion=entropy, min_samples_split=4, n_estimators=30;, score=0.690 total time=   0.0s\n",
      "[CV 2/5] END criterion=entropy, min_samples_split=4, n_estimators=30;, score=0.667 total time=   0.0s\n",
      "[CV 3/5] END criterion=entropy, min_samples_split=4, n_estimators=30;, score=0.703 total time=   0.0s\n",
      "[CV 4/5] END criterion=entropy, min_samples_split=4, n_estimators=30;, score=0.694 total time=   0.0s\n",
      "[CV 5/5] END criterion=entropy, min_samples_split=4, n_estimators=30;, score=0.694 total time=   0.0s\n",
      "Fitting 5 folds for each of 4 candidates, totalling 20 fits\n",
      "[CV 1/5] END ...............................C=1;, score=0.752 total time=   0.0s\n",
      "[CV 2/5] END ...............................C=1;, score=0.719 total time=   0.0s\n",
      "[CV 3/5] END ...............................C=1;, score=0.718 total time=   0.0s\n",
      "[CV 4/5] END ...............................C=1;, score=0.684 total time=   0.0s\n",
      "[CV 5/5] END ...............................C=1;, score=0.684 total time=   0.0s\n",
      "[CV 1/5] END ...............................C=5;, score=0.752 total time=   0.0s\n",
      "[CV 2/5] END ...............................C=5;, score=0.724 total time=   0.0s\n",
      "[CV 3/5] END ...............................C=5;, score=0.722 total time=   0.0s\n",
      "[CV 4/5] END ...............................C=5;, score=0.694 total time=   0.0s\n",
      "[CV 5/5] END ...............................C=5;, score=0.689 total time=   0.0s\n",
      "[CV 1/5] END ..............................C=10;, score=0.752 total time=   0.0s\n",
      "[CV 2/5] END ..............................C=10;, score=0.724 total time=   0.0s\n",
      "[CV 3/5] END ..............................C=10;, score=0.722 total time=   0.0s\n",
      "[CV 4/5] END ..............................C=10;, score=0.684 total time=   0.0s\n",
      "[CV 5/5] END ..............................C=10;, score=0.689 total time=   0.0s\n",
      "[CV 1/5] END ..............................C=15;, score=0.752 total time=   0.0s\n",
      "[CV 2/5] END ..............................C=15;, score=0.724 total time=   0.0s\n",
      "[CV 3/5] END ..............................C=15;, score=0.727 total time=   0.0s\n",
      "[CV 4/5] END ..............................C=15;, score=0.684 total time=   0.0s\n",
      "[CV 5/5] END ..............................C=15;, score=0.684 total time=   0.0s\n",
      "Fitting 5 folds for each of 75 candidates, totalling 375 fits\n",
      "[CV 1/5] END .......leaf_size=10, n_neighbors=5;, score=0.690 total time=   0.0s\n",
      "[CV 2/5] END .......leaf_size=10, n_neighbors=5;, score=0.652 total time=   0.0s\n",
      "[CV 3/5] END .......leaf_size=10, n_neighbors=5;, score=0.665 total time=   0.0s\n",
      "[CV 4/5] END .......leaf_size=10, n_neighbors=5;, score=0.617 total time=   0.0s\n",
      "[CV 5/5] END .......leaf_size=10, n_neighbors=5;, score=0.632 total time=   0.0s\n"
     ]
    },
    {
     "name": "stdout",
     "output_type": "stream",
     "text": [
      "[CV 1/5] END .......leaf_size=10, n_neighbors=6;, score=0.700 total time=   0.0s\n",
      "[CV 2/5] END .......leaf_size=10, n_neighbors=6;, score=0.652 total time=   0.0s\n",
      "[CV 3/5] END .......leaf_size=10, n_neighbors=6;, score=0.636 total time=   0.0s\n",
      "[CV 4/5] END .......leaf_size=10, n_neighbors=6;, score=0.612 total time=   0.0s\n",
      "[CV 5/5] END .......leaf_size=10, n_neighbors=6;, score=0.646 total time=   0.0s\n",
      "[CV 1/5] END .......leaf_size=10, n_neighbors=7;, score=0.667 total time=   0.0s\n",
      "[CV 2/5] END .......leaf_size=10, n_neighbors=7;, score=0.643 total time=   0.0s\n",
      "[CV 3/5] END .......leaf_size=10, n_neighbors=7;, score=0.670 total time=   0.0s\n",
      "[CV 4/5] END .......leaf_size=10, n_neighbors=7;, score=0.598 total time=   0.0s\n",
      "[CV 5/5] END .......leaf_size=10, n_neighbors=7;, score=0.656 total time=   0.0s\n",
      "[CV 1/5] END .......leaf_size=10, n_neighbors=8;, score=0.676 total time=   0.0s\n",
      "[CV 2/5] END .......leaf_size=10, n_neighbors=8;, score=0.662 total time=   0.0s\n",
      "[CV 3/5] END .......leaf_size=10, n_neighbors=8;, score=0.689 total time=   0.0s\n",
      "[CV 4/5] END .......leaf_size=10, n_neighbors=8;, score=0.632 total time=   0.0s\n",
      "[CV 5/5] END .......leaf_size=10, n_neighbors=8;, score=0.670 total time=   0.0s\n",
      "[CV 1/5] END .......leaf_size=10, n_neighbors=9;, score=0.657 total time=   0.0s\n",
      "[CV 2/5] END .......leaf_size=10, n_neighbors=9;, score=0.657 total time=   0.0s\n",
      "[CV 3/5] END .......leaf_size=10, n_neighbors=9;, score=0.684 total time=   0.0s\n",
      "[CV 4/5] END .......leaf_size=10, n_neighbors=9;, score=0.603 total time=   0.0s\n",
      "[CV 5/5] END .......leaf_size=10, n_neighbors=9;, score=0.641 total time=   0.0s\n",
      "[CV 1/5] END ......leaf_size=10, n_neighbors=10;, score=0.662 total time=   0.0s\n",
      "[CV 2/5] END ......leaf_size=10, n_neighbors=10;, score=0.629 total time=   0.0s\n",
      "[CV 3/5] END ......leaf_size=10, n_neighbors=10;, score=0.684 total time=   0.0s\n",
      "[CV 4/5] END ......leaf_size=10, n_neighbors=10;, score=0.636 total time=   0.0s\n",
      "[CV 5/5] END ......leaf_size=10, n_neighbors=10;, score=0.646 total time=   0.0s\n",
      "[CV 1/5] END ......leaf_size=10, n_neighbors=11;, score=0.667 total time=   0.0s\n",
      "[CV 2/5] END ......leaf_size=10, n_neighbors=11;, score=0.643 total time=   0.0s\n",
      "[CV 3/5] END ......leaf_size=10, n_neighbors=11;, score=0.689 total time=   0.0s\n",
      "[CV 4/5] END ......leaf_size=10, n_neighbors=11;, score=0.641 total time=   0.0s\n",
      "[CV 5/5] END ......leaf_size=10, n_neighbors=11;, score=0.636 total time=   0.0s\n",
      "[CV 1/5] END ......leaf_size=10, n_neighbors=12;, score=0.662 total time=   0.0s\n",
      "[CV 2/5] END ......leaf_size=10, n_neighbors=12;, score=0.648 total time=   0.0s\n",
      "[CV 3/5] END ......leaf_size=10, n_neighbors=12;, score=0.660 total time=   0.0s\n",
      "[CV 4/5] END ......leaf_size=10, n_neighbors=12;, score=0.622 total time=   0.0s\n",
      "[CV 5/5] END ......leaf_size=10, n_neighbors=12;, score=0.646 total time=   0.0s\n",
      "[CV 1/5] END ......leaf_size=10, n_neighbors=13;, score=0.657 total time=   0.0s\n",
      "[CV 2/5] END ......leaf_size=10, n_neighbors=13;, score=0.633 total time=   0.0s\n",
      "[CV 3/5] END ......leaf_size=10, n_neighbors=13;, score=0.689 total time=   0.0s\n",
      "[CV 4/5] END ......leaf_size=10, n_neighbors=13;, score=0.617 total time=   0.0s\n",
      "[CV 5/5] END ......leaf_size=10, n_neighbors=13;, score=0.641 total time=   0.0s\n",
      "[CV 1/5] END ......leaf_size=10, n_neighbors=14;, score=0.676 total time=   0.0s\n",
      "[CV 2/5] END ......leaf_size=10, n_neighbors=14;, score=0.629 total time=   0.0s\n",
      "[CV 3/5] END ......leaf_size=10, n_neighbors=14;, score=0.670 total time=   0.0s\n",
      "[CV 4/5] END ......leaf_size=10, n_neighbors=14;, score=0.608 total time=   0.0s\n",
      "[CV 5/5] END ......leaf_size=10, n_neighbors=14;, score=0.617 total time=   0.0s\n",
      "[CV 1/5] END ......leaf_size=10, n_neighbors=15;, score=0.652 total time=   0.0s\n",
      "[CV 2/5] END ......leaf_size=10, n_neighbors=15;, score=0.633 total time=   0.0s\n",
      "[CV 3/5] END ......leaf_size=10, n_neighbors=15;, score=0.684 total time=   0.0s\n",
      "[CV 4/5] END ......leaf_size=10, n_neighbors=15;, score=0.598 total time=   0.0s\n",
      "[CV 5/5] END ......leaf_size=10, n_neighbors=15;, score=0.612 total time=   0.0s\n",
      "[CV 1/5] END ......leaf_size=10, n_neighbors=16;, score=0.681 total time=   0.0s\n",
      "[CV 2/5] END ......leaf_size=10, n_neighbors=16;, score=0.643 total time=   0.0s\n",
      "[CV 3/5] END ......leaf_size=10, n_neighbors=16;, score=0.694 total time=   0.0s\n",
      "[CV 4/5] END ......leaf_size=10, n_neighbors=16;, score=0.617 total time=   0.0s\n",
      "[CV 5/5] END ......leaf_size=10, n_neighbors=16;, score=0.612 total time=   0.0s\n",
      "[CV 1/5] END ......leaf_size=10, n_neighbors=17;, score=0.652 total time=   0.0s\n",
      "[CV 2/5] END ......leaf_size=10, n_neighbors=17;, score=0.652 total time=   0.0s\n",
      "[CV 3/5] END ......leaf_size=10, n_neighbors=17;, score=0.689 total time=   0.0s\n",
      "[CV 4/5] END ......leaf_size=10, n_neighbors=17;, score=0.627 total time=   0.0s\n",
      "[CV 5/5] END ......leaf_size=10, n_neighbors=17;, score=0.608 total time=   0.0s\n",
      "[CV 1/5] END ......leaf_size=10, n_neighbors=18;, score=0.676 total time=   0.0s\n",
      "[CV 2/5] END ......leaf_size=10, n_neighbors=18;, score=0.667 total time=   0.0s\n",
      "[CV 3/5] END ......leaf_size=10, n_neighbors=18;, score=0.675 total time=   0.0s\n",
      "[CV 4/5] END ......leaf_size=10, n_neighbors=18;, score=0.627 total time=   0.0s\n",
      "[CV 5/5] END ......leaf_size=10, n_neighbors=18;, score=0.598 total time=   0.0s\n",
      "[CV 1/5] END ......leaf_size=10, n_neighbors=19;, score=0.667 total time=   0.0s\n",
      "[CV 2/5] END ......leaf_size=10, n_neighbors=19;, score=0.676 total time=   0.0s\n",
      "[CV 3/5] END ......leaf_size=10, n_neighbors=19;, score=0.679 total time=   0.0s\n",
      "[CV 4/5] END ......leaf_size=10, n_neighbors=19;, score=0.632 total time=   0.0s\n",
      "[CV 5/5] END ......leaf_size=10, n_neighbors=19;, score=0.603 total time=   0.0s\n",
      "[CV 1/5] END .......leaf_size=20, n_neighbors=5;, score=0.686 total time=   0.0s\n",
      "[CV 2/5] END .......leaf_size=20, n_neighbors=5;, score=0.652 total time=   0.0s\n",
      "[CV 3/5] END .......leaf_size=20, n_neighbors=5;, score=0.665 total time=   0.0s\n",
      "[CV 4/5] END .......leaf_size=20, n_neighbors=5;, score=0.612 total time=   0.0s\n",
      "[CV 5/5] END .......leaf_size=20, n_neighbors=5;, score=0.632 total time=   0.0s\n",
      "[CV 1/5] END .......leaf_size=20, n_neighbors=6;, score=0.695 total time=   0.0s\n",
      "[CV 2/5] END .......leaf_size=20, n_neighbors=6;, score=0.662 total time=   0.0s\n",
      "[CV 3/5] END .......leaf_size=20, n_neighbors=6;, score=0.636 total time=   0.0s\n",
      "[CV 4/5] END .......leaf_size=20, n_neighbors=6;, score=0.612 total time=   0.0s\n",
      "[CV 5/5] END .......leaf_size=20, n_neighbors=6;, score=0.641 total time=   0.0s\n",
      "[CV 1/5] END .......leaf_size=20, n_neighbors=7;, score=0.671 total time=   0.0s\n",
      "[CV 2/5] END .......leaf_size=20, n_neighbors=7;, score=0.648 total time=   0.0s\n",
      "[CV 3/5] END .......leaf_size=20, n_neighbors=7;, score=0.670 total time=   0.0s\n",
      "[CV 4/5] END .......leaf_size=20, n_neighbors=7;, score=0.598 total time=   0.0s\n",
      "[CV 5/5] END .......leaf_size=20, n_neighbors=7;, score=0.646 total time=   0.0s\n",
      "[CV 1/5] END .......leaf_size=20, n_neighbors=8;, score=0.671 total time=   0.0s\n",
      "[CV 2/5] END .......leaf_size=20, n_neighbors=8;, score=0.657 total time=   0.0s\n",
      "[CV 3/5] END .......leaf_size=20, n_neighbors=8;, score=0.689 total time=   0.0s\n",
      "[CV 4/5] END .......leaf_size=20, n_neighbors=8;, score=0.632 total time=   0.0s\n",
      "[CV 5/5] END .......leaf_size=20, n_neighbors=8;, score=0.670 total time=   0.0s\n",
      "[CV 1/5] END .......leaf_size=20, n_neighbors=9;, score=0.652 total time=   0.0s\n",
      "[CV 2/5] END .......leaf_size=20, n_neighbors=9;, score=0.657 total time=   0.0s\n",
      "[CV 3/5] END .......leaf_size=20, n_neighbors=9;, score=0.679 total time=   0.0s\n",
      "[CV 4/5] END .......leaf_size=20, n_neighbors=9;, score=0.603 total time=   0.0s\n",
      "[CV 5/5] END .......leaf_size=20, n_neighbors=9;, score=0.641 total time=   0.0s\n",
      "[CV 1/5] END ......leaf_size=20, n_neighbors=10;, score=0.662 total time=   0.0s\n",
      "[CV 2/5] END ......leaf_size=20, n_neighbors=10;, score=0.629 total time=   0.0s\n",
      "[CV 3/5] END ......leaf_size=20, n_neighbors=10;, score=0.675 total time=   0.0s\n",
      "[CV 4/5] END ......leaf_size=20, n_neighbors=10;, score=0.636 total time=   0.0s\n",
      "[CV 5/5] END ......leaf_size=20, n_neighbors=10;, score=0.646 total time=   0.0s\n",
      "[CV 1/5] END ......leaf_size=20, n_neighbors=11;, score=0.667 total time=   0.0s\n",
      "[CV 2/5] END ......leaf_size=20, n_neighbors=11;, score=0.643 total time=   0.0s\n",
      "[CV 3/5] END ......leaf_size=20, n_neighbors=11;, score=0.679 total time=   0.0s\n",
      "[CV 4/5] END ......leaf_size=20, n_neighbors=11;, score=0.636 total time=   0.0s\n",
      "[CV 5/5] END ......leaf_size=20, n_neighbors=11;, score=0.636 total time=   0.0s\n",
      "[CV 1/5] END ......leaf_size=20, n_neighbors=12;, score=0.667 total time=   0.0s\n"
     ]
    },
    {
     "name": "stdout",
     "output_type": "stream",
     "text": [
      "[CV 2/5] END ......leaf_size=20, n_neighbors=12;, score=0.648 total time=   0.0s\n",
      "[CV 3/5] END ......leaf_size=20, n_neighbors=12;, score=0.660 total time=   0.0s\n",
      "[CV 4/5] END ......leaf_size=20, n_neighbors=12;, score=0.622 total time=   0.0s\n",
      "[CV 5/5] END ......leaf_size=20, n_neighbors=12;, score=0.641 total time=   0.0s\n",
      "[CV 1/5] END ......leaf_size=20, n_neighbors=13;, score=0.657 total time=   0.0s\n",
      "[CV 2/5] END ......leaf_size=20, n_neighbors=13;, score=0.633 total time=   0.0s\n",
      "[CV 3/5] END ......leaf_size=20, n_neighbors=13;, score=0.684 total time=   0.0s\n",
      "[CV 4/5] END ......leaf_size=20, n_neighbors=13;, score=0.617 total time=   0.0s\n",
      "[CV 5/5] END ......leaf_size=20, n_neighbors=13;, score=0.636 total time=   0.0s\n",
      "[CV 1/5] END ......leaf_size=20, n_neighbors=14;, score=0.681 total time=   0.0s\n",
      "[CV 2/5] END ......leaf_size=20, n_neighbors=14;, score=0.629 total time=   0.0s\n",
      "[CV 3/5] END ......leaf_size=20, n_neighbors=14;, score=0.670 total time=   0.0s\n",
      "[CV 4/5] END ......leaf_size=20, n_neighbors=14;, score=0.608 total time=   0.0s\n",
      "[CV 5/5] END ......leaf_size=20, n_neighbors=14;, score=0.617 total time=   0.0s\n",
      "[CV 1/5] END ......leaf_size=20, n_neighbors=15;, score=0.652 total time=   0.0s\n",
      "[CV 2/5] END ......leaf_size=20, n_neighbors=15;, score=0.633 total time=   0.0s\n",
      "[CV 3/5] END ......leaf_size=20, n_neighbors=15;, score=0.684 total time=   0.0s\n",
      "[CV 4/5] END ......leaf_size=20, n_neighbors=15;, score=0.598 total time=   0.0s\n",
      "[CV 5/5] END ......leaf_size=20, n_neighbors=15;, score=0.608 total time=   0.0s\n",
      "[CV 1/5] END ......leaf_size=20, n_neighbors=16;, score=0.667 total time=   0.0s\n",
      "[CV 2/5] END ......leaf_size=20, n_neighbors=16;, score=0.643 total time=   0.0s\n",
      "[CV 3/5] END ......leaf_size=20, n_neighbors=16;, score=0.694 total time=   0.0s\n",
      "[CV 4/5] END ......leaf_size=20, n_neighbors=16;, score=0.617 total time=   0.0s\n",
      "[CV 5/5] END ......leaf_size=20, n_neighbors=16;, score=0.612 total time=   0.0s\n",
      "[CV 1/5] END ......leaf_size=20, n_neighbors=17;, score=0.652 total time=   0.0s\n",
      "[CV 2/5] END ......leaf_size=20, n_neighbors=17;, score=0.648 total time=   0.0s\n",
      "[CV 3/5] END ......leaf_size=20, n_neighbors=17;, score=0.689 total time=   0.0s\n",
      "[CV 4/5] END ......leaf_size=20, n_neighbors=17;, score=0.622 total time=   0.0s\n",
      "[CV 5/5] END ......leaf_size=20, n_neighbors=17;, score=0.612 total time=   0.0s\n",
      "[CV 1/5] END ......leaf_size=20, n_neighbors=18;, score=0.676 total time=   0.0s\n",
      "[CV 2/5] END ......leaf_size=20, n_neighbors=18;, score=0.667 total time=   0.0s\n",
      "[CV 3/5] END ......leaf_size=20, n_neighbors=18;, score=0.675 total time=   0.0s\n",
      "[CV 4/5] END ......leaf_size=20, n_neighbors=18;, score=0.627 total time=   0.0s\n",
      "[CV 5/5] END ......leaf_size=20, n_neighbors=18;, score=0.598 total time=   0.0s\n",
      "[CV 1/5] END ......leaf_size=20, n_neighbors=19;, score=0.667 total time=   0.0s\n",
      "[CV 2/5] END ......leaf_size=20, n_neighbors=19;, score=0.681 total time=   0.0s\n",
      "[CV 3/5] END ......leaf_size=20, n_neighbors=19;, score=0.684 total time=   0.0s\n",
      "[CV 4/5] END ......leaf_size=20, n_neighbors=19;, score=0.632 total time=   0.0s\n",
      "[CV 5/5] END ......leaf_size=20, n_neighbors=19;, score=0.603 total time=   0.0s\n",
      "[CV 1/5] END .......leaf_size=30, n_neighbors=5;, score=0.690 total time=   0.0s\n",
      "[CV 2/5] END .......leaf_size=30, n_neighbors=5;, score=0.652 total time=   0.0s\n",
      "[CV 3/5] END .......leaf_size=30, n_neighbors=5;, score=0.665 total time=   0.0s\n",
      "[CV 4/5] END .......leaf_size=30, n_neighbors=5;, score=0.612 total time=   0.0s\n",
      "[CV 5/5] END .......leaf_size=30, n_neighbors=5;, score=0.627 total time=   0.0s\n",
      "[CV 1/5] END .......leaf_size=30, n_neighbors=6;, score=0.700 total time=   0.0s\n",
      "[CV 2/5] END .......leaf_size=30, n_neighbors=6;, score=0.662 total time=   0.0s\n",
      "[CV 3/5] END .......leaf_size=30, n_neighbors=6;, score=0.632 total time=   0.0s\n",
      "[CV 4/5] END .......leaf_size=30, n_neighbors=6;, score=0.608 total time=   0.0s\n",
      "[CV 5/5] END .......leaf_size=30, n_neighbors=6;, score=0.646 total time=   0.0s\n",
      "[CV 1/5] END .......leaf_size=30, n_neighbors=7;, score=0.667 total time=   0.0s\n",
      "[CV 2/5] END .......leaf_size=30, n_neighbors=7;, score=0.648 total time=   0.0s\n",
      "[CV 3/5] END .......leaf_size=30, n_neighbors=7;, score=0.670 total time=   0.0s\n",
      "[CV 4/5] END .......leaf_size=30, n_neighbors=7;, score=0.598 total time=   0.0s\n",
      "[CV 5/5] END .......leaf_size=30, n_neighbors=7;, score=0.651 total time=   0.0s\n",
      "[CV 1/5] END .......leaf_size=30, n_neighbors=8;, score=0.686 total time=   0.0s\n",
      "[CV 2/5] END .......leaf_size=30, n_neighbors=8;, score=0.657 total time=   0.0s\n",
      "[CV 3/5] END .......leaf_size=30, n_neighbors=8;, score=0.689 total time=   0.0s\n",
      "[CV 4/5] END .......leaf_size=30, n_neighbors=8;, score=0.632 total time=   0.0s\n",
      "[CV 5/5] END .......leaf_size=30, n_neighbors=8;, score=0.670 total time=   0.0s\n",
      "[CV 1/5] END .......leaf_size=30, n_neighbors=9;, score=0.652 total time=   0.0s\n",
      "[CV 2/5] END .......leaf_size=30, n_neighbors=9;, score=0.657 total time=   0.0s\n",
      "[CV 3/5] END .......leaf_size=30, n_neighbors=9;, score=0.684 total time=   0.0s\n",
      "[CV 4/5] END .......leaf_size=30, n_neighbors=9;, score=0.612 total time=   0.0s\n",
      "[CV 5/5] END .......leaf_size=30, n_neighbors=9;, score=0.641 total time=   0.0s\n",
      "[CV 1/5] END ......leaf_size=30, n_neighbors=10;, score=0.667 total time=   0.0s\n",
      "[CV 2/5] END ......leaf_size=30, n_neighbors=10;, score=0.633 total time=   0.0s\n",
      "[CV 3/5] END ......leaf_size=30, n_neighbors=10;, score=0.684 total time=   0.0s\n",
      "[CV 4/5] END ......leaf_size=30, n_neighbors=10;, score=0.646 total time=   0.0s\n",
      "[CV 5/5] END ......leaf_size=30, n_neighbors=10;, score=0.646 total time=   0.0s\n",
      "[CV 1/5] END ......leaf_size=30, n_neighbors=11;, score=0.667 total time=   0.0s\n",
      "[CV 2/5] END ......leaf_size=30, n_neighbors=11;, score=0.648 total time=   0.0s\n",
      "[CV 3/5] END ......leaf_size=30, n_neighbors=11;, score=0.689 total time=   0.0s\n",
      "[CV 4/5] END ......leaf_size=30, n_neighbors=11;, score=0.636 total time=   0.0s\n",
      "[CV 5/5] END ......leaf_size=30, n_neighbors=11;, score=0.636 total time=   0.0s\n",
      "[CV 1/5] END ......leaf_size=30, n_neighbors=12;, score=0.667 total time=   0.0s\n",
      "[CV 2/5] END ......leaf_size=30, n_neighbors=12;, score=0.648 total time=   0.0s\n",
      "[CV 3/5] END ......leaf_size=30, n_neighbors=12;, score=0.656 total time=   0.0s\n",
      "[CV 4/5] END ......leaf_size=30, n_neighbors=12;, score=0.617 total time=   0.0s\n",
      "[CV 5/5] END ......leaf_size=30, n_neighbors=12;, score=0.641 total time=   0.0s\n",
      "[CV 1/5] END ......leaf_size=30, n_neighbors=13;, score=0.657 total time=   0.0s\n",
      "[CV 2/5] END ......leaf_size=30, n_neighbors=13;, score=0.633 total time=   0.0s\n",
      "[CV 3/5] END ......leaf_size=30, n_neighbors=13;, score=0.684 total time=   0.0s\n",
      "[CV 4/5] END ......leaf_size=30, n_neighbors=13;, score=0.622 total time=   0.0s\n",
      "[CV 5/5] END ......leaf_size=30, n_neighbors=13;, score=0.636 total time=   0.0s\n",
      "[CV 1/5] END ......leaf_size=30, n_neighbors=14;, score=0.681 total time=   0.0s\n",
      "[CV 2/5] END ......leaf_size=30, n_neighbors=14;, score=0.624 total time=   0.0s\n",
      "[CV 3/5] END ......leaf_size=30, n_neighbors=14;, score=0.670 total time=   0.0s\n",
      "[CV 4/5] END ......leaf_size=30, n_neighbors=14;, score=0.603 total time=   0.0s\n",
      "[CV 5/5] END ......leaf_size=30, n_neighbors=14;, score=0.622 total time=   0.0s\n",
      "[CV 1/5] END ......leaf_size=30, n_neighbors=15;, score=0.652 total time=   0.0s\n",
      "[CV 2/5] END ......leaf_size=30, n_neighbors=15;, score=0.633 total time=   0.0s\n",
      "[CV 3/5] END ......leaf_size=30, n_neighbors=15;, score=0.684 total time=   0.0s\n",
      "[CV 4/5] END ......leaf_size=30, n_neighbors=15;, score=0.603 total time=   0.0s\n",
      "[CV 5/5] END ......leaf_size=30, n_neighbors=15;, score=0.608 total time=   0.0s\n",
      "[CV 1/5] END ......leaf_size=30, n_neighbors=16;, score=0.681 total time=   0.0s\n",
      "[CV 2/5] END ......leaf_size=30, n_neighbors=16;, score=0.643 total time=   0.0s\n",
      "[CV 3/5] END ......leaf_size=30, n_neighbors=16;, score=0.694 total time=   0.0s\n",
      "[CV 4/5] END ......leaf_size=30, n_neighbors=16;, score=0.617 total time=   0.0s\n",
      "[CV 5/5] END ......leaf_size=30, n_neighbors=16;, score=0.612 total time=   0.0s\n",
      "[CV 1/5] END ......leaf_size=30, n_neighbors=17;, score=0.657 total time=   0.0s\n",
      "[CV 2/5] END ......leaf_size=30, n_neighbors=17;, score=0.648 total time=   0.0s\n",
      "[CV 3/5] END ......leaf_size=30, n_neighbors=17;, score=0.694 total time=   0.0s\n",
      "[CV 4/5] END ......leaf_size=30, n_neighbors=17;, score=0.622 total time=   0.0s\n",
      "[CV 5/5] END ......leaf_size=30, n_neighbors=17;, score=0.608 total time=   0.0s\n",
      "[CV 1/5] END ......leaf_size=30, n_neighbors=18;, score=0.676 total time=   0.0s\n",
      "[CV 2/5] END ......leaf_size=30, n_neighbors=18;, score=0.667 total time=   0.0s\n"
     ]
    },
    {
     "name": "stdout",
     "output_type": "stream",
     "text": [
      "[CV 3/5] END ......leaf_size=30, n_neighbors=18;, score=0.675 total time=   0.0s\n",
      "[CV 4/5] END ......leaf_size=30, n_neighbors=18;, score=0.627 total time=   0.0s\n",
      "[CV 5/5] END ......leaf_size=30, n_neighbors=18;, score=0.598 total time=   0.0s\n",
      "[CV 1/5] END ......leaf_size=30, n_neighbors=19;, score=0.662 total time=   0.0s\n",
      "[CV 2/5] END ......leaf_size=30, n_neighbors=19;, score=0.686 total time=   0.0s\n",
      "[CV 3/5] END ......leaf_size=30, n_neighbors=19;, score=0.679 total time=   0.0s\n",
      "[CV 4/5] END ......leaf_size=30, n_neighbors=19;, score=0.632 total time=   0.0s\n",
      "[CV 5/5] END ......leaf_size=30, n_neighbors=19;, score=0.598 total time=   0.0s\n",
      "[CV 1/5] END .......leaf_size=40, n_neighbors=5;, score=0.690 total time=   0.0s\n",
      "[CV 2/5] END .......leaf_size=40, n_neighbors=5;, score=0.652 total time=   0.0s\n",
      "[CV 3/5] END .......leaf_size=40, n_neighbors=5;, score=0.665 total time=   0.0s\n",
      "[CV 4/5] END .......leaf_size=40, n_neighbors=5;, score=0.612 total time=   0.0s\n",
      "[CV 5/5] END .......leaf_size=40, n_neighbors=5;, score=0.627 total time=   0.0s\n",
      "[CV 1/5] END .......leaf_size=40, n_neighbors=6;, score=0.700 total time=   0.0s\n",
      "[CV 2/5] END .......leaf_size=40, n_neighbors=6;, score=0.662 total time=   0.0s\n",
      "[CV 3/5] END .......leaf_size=40, n_neighbors=6;, score=0.632 total time=   0.0s\n",
      "[CV 4/5] END .......leaf_size=40, n_neighbors=6;, score=0.608 total time=   0.0s\n",
      "[CV 5/5] END .......leaf_size=40, n_neighbors=6;, score=0.646 total time=   0.0s\n",
      "[CV 1/5] END .......leaf_size=40, n_neighbors=7;, score=0.667 total time=   0.0s\n",
      "[CV 2/5] END .......leaf_size=40, n_neighbors=7;, score=0.648 total time=   0.0s\n",
      "[CV 3/5] END .......leaf_size=40, n_neighbors=7;, score=0.670 total time=   0.0s\n",
      "[CV 4/5] END .......leaf_size=40, n_neighbors=7;, score=0.598 total time=   0.0s\n",
      "[CV 5/5] END .......leaf_size=40, n_neighbors=7;, score=0.651 total time=   0.0s\n",
      "[CV 1/5] END .......leaf_size=40, n_neighbors=8;, score=0.686 total time=   0.0s\n",
      "[CV 2/5] END .......leaf_size=40, n_neighbors=8;, score=0.657 total time=   0.0s\n",
      "[CV 3/5] END .......leaf_size=40, n_neighbors=8;, score=0.689 total time=   0.0s\n",
      "[CV 4/5] END .......leaf_size=40, n_neighbors=8;, score=0.632 total time=   0.0s\n",
      "[CV 5/5] END .......leaf_size=40, n_neighbors=8;, score=0.670 total time=   0.0s\n",
      "[CV 1/5] END .......leaf_size=40, n_neighbors=9;, score=0.652 total time=   0.0s\n",
      "[CV 2/5] END .......leaf_size=40, n_neighbors=9;, score=0.657 total time=   0.0s\n",
      "[CV 3/5] END .......leaf_size=40, n_neighbors=9;, score=0.684 total time=   0.0s\n",
      "[CV 4/5] END .......leaf_size=40, n_neighbors=9;, score=0.612 total time=   0.0s\n",
      "[CV 5/5] END .......leaf_size=40, n_neighbors=9;, score=0.641 total time=   0.0s\n",
      "[CV 1/5] END ......leaf_size=40, n_neighbors=10;, score=0.667 total time=   0.0s\n",
      "[CV 2/5] END ......leaf_size=40, n_neighbors=10;, score=0.633 total time=   0.0s\n",
      "[CV 3/5] END ......leaf_size=40, n_neighbors=10;, score=0.684 total time=   0.0s\n",
      "[CV 4/5] END ......leaf_size=40, n_neighbors=10;, score=0.646 total time=   0.0s\n",
      "[CV 5/5] END ......leaf_size=40, n_neighbors=10;, score=0.646 total time=   0.0s\n",
      "[CV 1/5] END ......leaf_size=40, n_neighbors=11;, score=0.667 total time=   0.0s\n",
      "[CV 2/5] END ......leaf_size=40, n_neighbors=11;, score=0.648 total time=   0.0s\n",
      "[CV 3/5] END ......leaf_size=40, n_neighbors=11;, score=0.689 total time=   0.0s\n",
      "[CV 4/5] END ......leaf_size=40, n_neighbors=11;, score=0.636 total time=   0.0s\n",
      "[CV 5/5] END ......leaf_size=40, n_neighbors=11;, score=0.636 total time=   0.0s\n",
      "[CV 1/5] END ......leaf_size=40, n_neighbors=12;, score=0.667 total time=   0.0s\n",
      "[CV 2/5] END ......leaf_size=40, n_neighbors=12;, score=0.648 total time=   0.0s\n",
      "[CV 3/5] END ......leaf_size=40, n_neighbors=12;, score=0.656 total time=   0.0s\n",
      "[CV 4/5] END ......leaf_size=40, n_neighbors=12;, score=0.617 total time=   0.0s\n",
      "[CV 5/5] END ......leaf_size=40, n_neighbors=12;, score=0.641 total time=   0.0s\n",
      "[CV 1/5] END ......leaf_size=40, n_neighbors=13;, score=0.657 total time=   0.0s\n",
      "[CV 2/5] END ......leaf_size=40, n_neighbors=13;, score=0.633 total time=   0.0s\n",
      "[CV 3/5] END ......leaf_size=40, n_neighbors=13;, score=0.684 total time=   0.0s\n",
      "[CV 4/5] END ......leaf_size=40, n_neighbors=13;, score=0.622 total time=   0.0s\n",
      "[CV 5/5] END ......leaf_size=40, n_neighbors=13;, score=0.636 total time=   0.0s\n",
      "[CV 1/5] END ......leaf_size=40, n_neighbors=14;, score=0.681 total time=   0.0s\n",
      "[CV 2/5] END ......leaf_size=40, n_neighbors=14;, score=0.624 total time=   0.0s\n",
      "[CV 3/5] END ......leaf_size=40, n_neighbors=14;, score=0.670 total time=   0.0s\n",
      "[CV 4/5] END ......leaf_size=40, n_neighbors=14;, score=0.603 total time=   0.0s\n",
      "[CV 5/5] END ......leaf_size=40, n_neighbors=14;, score=0.622 total time=   0.0s\n",
      "[CV 1/5] END ......leaf_size=40, n_neighbors=15;, score=0.652 total time=   0.0s\n",
      "[CV 2/5] END ......leaf_size=40, n_neighbors=15;, score=0.633 total time=   0.0s\n",
      "[CV 3/5] END ......leaf_size=40, n_neighbors=15;, score=0.684 total time=   0.0s\n",
      "[CV 4/5] END ......leaf_size=40, n_neighbors=15;, score=0.603 total time=   0.0s\n",
      "[CV 5/5] END ......leaf_size=40, n_neighbors=15;, score=0.608 total time=   0.0s\n",
      "[CV 1/5] END ......leaf_size=40, n_neighbors=16;, score=0.681 total time=   0.0s\n",
      "[CV 2/5] END ......leaf_size=40, n_neighbors=16;, score=0.643 total time=   0.0s\n",
      "[CV 3/5] END ......leaf_size=40, n_neighbors=16;, score=0.694 total time=   0.0s\n",
      "[CV 4/5] END ......leaf_size=40, n_neighbors=16;, score=0.617 total time=   0.0s\n",
      "[CV 5/5] END ......leaf_size=40, n_neighbors=16;, score=0.612 total time=   0.0s\n",
      "[CV 1/5] END ......leaf_size=40, n_neighbors=17;, score=0.657 total time=   0.0s\n",
      "[CV 2/5] END ......leaf_size=40, n_neighbors=17;, score=0.648 total time=   0.0s\n",
      "[CV 3/5] END ......leaf_size=40, n_neighbors=17;, score=0.694 total time=   0.0s\n",
      "[CV 4/5] END ......leaf_size=40, n_neighbors=17;, score=0.622 total time=   0.0s\n",
      "[CV 5/5] END ......leaf_size=40, n_neighbors=17;, score=0.608 total time=   0.0s\n",
      "[CV 1/5] END ......leaf_size=40, n_neighbors=18;, score=0.676 total time=   0.0s\n",
      "[CV 2/5] END ......leaf_size=40, n_neighbors=18;, score=0.667 total time=   0.0s\n",
      "[CV 3/5] END ......leaf_size=40, n_neighbors=18;, score=0.675 total time=   0.0s\n",
      "[CV 4/5] END ......leaf_size=40, n_neighbors=18;, score=0.627 total time=   0.0s\n",
      "[CV 5/5] END ......leaf_size=40, n_neighbors=18;, score=0.598 total time=   0.0s\n",
      "[CV 1/5] END ......leaf_size=40, n_neighbors=19;, score=0.662 total time=   0.0s\n",
      "[CV 2/5] END ......leaf_size=40, n_neighbors=19;, score=0.686 total time=   0.0s\n",
      "[CV 3/5] END ......leaf_size=40, n_neighbors=19;, score=0.679 total time=   0.0s\n",
      "[CV 4/5] END ......leaf_size=40, n_neighbors=19;, score=0.632 total time=   0.0s\n",
      "[CV 5/5] END ......leaf_size=40, n_neighbors=19;, score=0.598 total time=   0.0s\n",
      "[CV 1/5] END .......leaf_size=50, n_neighbors=5;, score=0.690 total time=   0.0s\n",
      "[CV 2/5] END .......leaf_size=50, n_neighbors=5;, score=0.652 total time=   0.0s\n",
      "[CV 3/5] END .......leaf_size=50, n_neighbors=5;, score=0.665 total time=   0.0s\n",
      "[CV 4/5] END .......leaf_size=50, n_neighbors=5;, score=0.612 total time=   0.0s\n",
      "[CV 5/5] END .......leaf_size=50, n_neighbors=5;, score=0.627 total time=   0.0s\n",
      "[CV 1/5] END .......leaf_size=50, n_neighbors=6;, score=0.700 total time=   0.0s\n",
      "[CV 2/5] END .......leaf_size=50, n_neighbors=6;, score=0.662 total time=   0.0s\n",
      "[CV 3/5] END .......leaf_size=50, n_neighbors=6;, score=0.632 total time=   0.0s\n",
      "[CV 4/5] END .......leaf_size=50, n_neighbors=6;, score=0.608 total time=   0.0s\n",
      "[CV 5/5] END .......leaf_size=50, n_neighbors=6;, score=0.646 total time=   0.0s\n",
      "[CV 1/5] END .......leaf_size=50, n_neighbors=7;, score=0.667 total time=   0.0s\n",
      "[CV 2/5] END .......leaf_size=50, n_neighbors=7;, score=0.648 total time=   0.0s\n",
      "[CV 3/5] END .......leaf_size=50, n_neighbors=7;, score=0.670 total time=   0.0s\n",
      "[CV 4/5] END .......leaf_size=50, n_neighbors=7;, score=0.598 total time=   0.0s\n",
      "[CV 5/5] END .......leaf_size=50, n_neighbors=7;, score=0.651 total time=   0.0s\n",
      "[CV 1/5] END .......leaf_size=50, n_neighbors=8;, score=0.686 total time=   0.0s\n",
      "[CV 2/5] END .......leaf_size=50, n_neighbors=8;, score=0.657 total time=   0.0s\n",
      "[CV 3/5] END .......leaf_size=50, n_neighbors=8;, score=0.689 total time=   0.0s\n",
      "[CV 4/5] END .......leaf_size=50, n_neighbors=8;, score=0.632 total time=   0.0s\n",
      "[CV 5/5] END .......leaf_size=50, n_neighbors=8;, score=0.670 total time=   0.0s\n",
      "[CV 1/5] END .......leaf_size=50, n_neighbors=9;, score=0.652 total time=   0.0s\n",
      "[CV 2/5] END .......leaf_size=50, n_neighbors=9;, score=0.657 total time=   0.0s\n"
     ]
    },
    {
     "name": "stdout",
     "output_type": "stream",
     "text": [
      "[CV 3/5] END .......leaf_size=50, n_neighbors=9;, score=0.684 total time=   0.0s\n",
      "[CV 4/5] END .......leaf_size=50, n_neighbors=9;, score=0.612 total time=   0.0s\n",
      "[CV 5/5] END .......leaf_size=50, n_neighbors=9;, score=0.641 total time=   0.0s\n",
      "[CV 1/5] END ......leaf_size=50, n_neighbors=10;, score=0.667 total time=   0.0s\n",
      "[CV 2/5] END ......leaf_size=50, n_neighbors=10;, score=0.633 total time=   0.0s\n",
      "[CV 3/5] END ......leaf_size=50, n_neighbors=10;, score=0.684 total time=   0.0s\n",
      "[CV 4/5] END ......leaf_size=50, n_neighbors=10;, score=0.646 total time=   0.0s\n",
      "[CV 5/5] END ......leaf_size=50, n_neighbors=10;, score=0.646 total time=   0.0s\n",
      "[CV 1/5] END ......leaf_size=50, n_neighbors=11;, score=0.667 total time=   0.0s\n",
      "[CV 2/5] END ......leaf_size=50, n_neighbors=11;, score=0.648 total time=   0.0s\n",
      "[CV 3/5] END ......leaf_size=50, n_neighbors=11;, score=0.689 total time=   0.0s\n",
      "[CV 4/5] END ......leaf_size=50, n_neighbors=11;, score=0.636 total time=   0.0s\n",
      "[CV 5/5] END ......leaf_size=50, n_neighbors=11;, score=0.636 total time=   0.0s\n",
      "[CV 1/5] END ......leaf_size=50, n_neighbors=12;, score=0.667 total time=   0.0s\n",
      "[CV 2/5] END ......leaf_size=50, n_neighbors=12;, score=0.648 total time=   0.0s\n",
      "[CV 3/5] END ......leaf_size=50, n_neighbors=12;, score=0.656 total time=   0.0s\n",
      "[CV 4/5] END ......leaf_size=50, n_neighbors=12;, score=0.617 total time=   0.0s\n",
      "[CV 5/5] END ......leaf_size=50, n_neighbors=12;, score=0.641 total time=   0.0s\n",
      "[CV 1/5] END ......leaf_size=50, n_neighbors=13;, score=0.657 total time=   0.0s\n",
      "[CV 2/5] END ......leaf_size=50, n_neighbors=13;, score=0.633 total time=   0.0s\n",
      "[CV 3/5] END ......leaf_size=50, n_neighbors=13;, score=0.684 total time=   0.0s\n",
      "[CV 4/5] END ......leaf_size=50, n_neighbors=13;, score=0.622 total time=   0.0s\n",
      "[CV 5/5] END ......leaf_size=50, n_neighbors=13;, score=0.636 total time=   0.0s\n",
      "[CV 1/5] END ......leaf_size=50, n_neighbors=14;, score=0.681 total time=   0.0s\n",
      "[CV 2/5] END ......leaf_size=50, n_neighbors=14;, score=0.624 total time=   0.0s\n",
      "[CV 3/5] END ......leaf_size=50, n_neighbors=14;, score=0.670 total time=   0.0s\n",
      "[CV 4/5] END ......leaf_size=50, n_neighbors=14;, score=0.603 total time=   0.0s\n",
      "[CV 5/5] END ......leaf_size=50, n_neighbors=14;, score=0.622 total time=   0.0s\n",
      "[CV 1/5] END ......leaf_size=50, n_neighbors=15;, score=0.652 total time=   0.0s\n",
      "[CV 2/5] END ......leaf_size=50, n_neighbors=15;, score=0.633 total time=   0.0s\n",
      "[CV 3/5] END ......leaf_size=50, n_neighbors=15;, score=0.684 total time=   0.0s\n",
      "[CV 4/5] END ......leaf_size=50, n_neighbors=15;, score=0.603 total time=   0.0s\n",
      "[CV 5/5] END ......leaf_size=50, n_neighbors=15;, score=0.608 total time=   0.0s\n",
      "[CV 1/5] END ......leaf_size=50, n_neighbors=16;, score=0.681 total time=   0.0s\n",
      "[CV 2/5] END ......leaf_size=50, n_neighbors=16;, score=0.643 total time=   0.0s\n",
      "[CV 3/5] END ......leaf_size=50, n_neighbors=16;, score=0.694 total time=   0.0s\n",
      "[CV 4/5] END ......leaf_size=50, n_neighbors=16;, score=0.617 total time=   0.0s\n",
      "[CV 5/5] END ......leaf_size=50, n_neighbors=16;, score=0.612 total time=   0.0s\n",
      "[CV 1/5] END ......leaf_size=50, n_neighbors=17;, score=0.657 total time=   0.0s\n",
      "[CV 2/5] END ......leaf_size=50, n_neighbors=17;, score=0.648 total time=   0.0s\n",
      "[CV 3/5] END ......leaf_size=50, n_neighbors=17;, score=0.694 total time=   0.0s\n",
      "[CV 4/5] END ......leaf_size=50, n_neighbors=17;, score=0.622 total time=   0.0s\n",
      "[CV 5/5] END ......leaf_size=50, n_neighbors=17;, score=0.608 total time=   0.0s\n",
      "[CV 1/5] END ......leaf_size=50, n_neighbors=18;, score=0.676 total time=   0.0s\n",
      "[CV 2/5] END ......leaf_size=50, n_neighbors=18;, score=0.667 total time=   0.0s\n",
      "[CV 3/5] END ......leaf_size=50, n_neighbors=18;, score=0.675 total time=   0.0s\n",
      "[CV 4/5] END ......leaf_size=50, n_neighbors=18;, score=0.627 total time=   0.0s\n",
      "[CV 5/5] END ......leaf_size=50, n_neighbors=18;, score=0.598 total time=   0.0s\n",
      "[CV 1/5] END ......leaf_size=50, n_neighbors=19;, score=0.662 total time=   0.0s\n",
      "[CV 2/5] END ......leaf_size=50, n_neighbors=19;, score=0.686 total time=   0.0s\n",
      "[CV 3/5] END ......leaf_size=50, n_neighbors=19;, score=0.679 total time=   0.0s\n",
      "[CV 4/5] END ......leaf_size=50, n_neighbors=19;, score=0.632 total time=   0.0s\n",
      "[CV 5/5] END ......leaf_size=50, n_neighbors=19;, score=0.598 total time=   0.0s\n"
     ]
    }
   ],
   "source": [
    "#applying Grid Search for all models to get good params\n",
    "\n",
    "from sklearn.model_selection import GridSearchCV\n",
    "import pandas as pd\n",
    "scores = []\n",
    "\n",
    "for model_name, mp in model_params.items():\n",
    "    clf =  GridSearchCV(mp['model'], mp['params'], cv=5, return_train_score=False,verbose=5,n_jobs=1)\n",
    "    clf.fit(X_train, y_train)\n",
    "    scores.append({\n",
    "        'model': model_name,\n",
    "        'best_score': clf.best_score_,\n",
    "        'best_params': clf.best_params_\n",
    "    })\n",
    "    \n",
    "model_results = pd.DataFrame(scores,columns=['model','best_score','best_params'])"
   ]
  },
  {
   "cell_type": "code",
   "execution_count": 54,
   "metadata": {
    "scrolled": true
   },
   "outputs": [
    {
     "data": {
      "text/html": [
       "<div>\n",
       "<style scoped>\n",
       "    .dataframe tbody tr th:only-of-type {\n",
       "        vertical-align: middle;\n",
       "    }\n",
       "\n",
       "    .dataframe tbody tr th {\n",
       "        vertical-align: top;\n",
       "    }\n",
       "\n",
       "    .dataframe thead th {\n",
       "        text-align: right;\n",
       "    }\n",
       "</style>\n",
       "<table border=\"1\" class=\"dataframe\">\n",
       "  <thead>\n",
       "    <tr style=\"text-align: right;\">\n",
       "      <th></th>\n",
       "      <th>model</th>\n",
       "      <th>best_score</th>\n",
       "      <th>best_params</th>\n",
       "    </tr>\n",
       "  </thead>\n",
       "  <tbody>\n",
       "    <tr>\n",
       "      <th>0</th>\n",
       "      <td>svm</td>\n",
       "      <td>0.696254</td>\n",
       "      <td>{'C': 1, 'kernel': 'linear'}</td>\n",
       "    </tr>\n",
       "    <tr>\n",
       "      <th>1</th>\n",
       "      <td>random_forest</td>\n",
       "      <td>0.705846</td>\n",
       "      <td>{'criterion': 'gini', 'min_samples_split': 4, ...</td>\n",
       "    </tr>\n",
       "    <tr>\n",
       "      <th>2</th>\n",
       "      <td>logistic_regression</td>\n",
       "      <td>0.716291</td>\n",
       "      <td>{'C': 5}</td>\n",
       "    </tr>\n",
       "    <tr>\n",
       "      <th>3</th>\n",
       "      <td>KNN</td>\n",
       "      <td>0.666658</td>\n",
       "      <td>{'leaf_size': 30, 'n_neighbors': 8}</td>\n",
       "    </tr>\n",
       "  </tbody>\n",
       "</table>\n",
       "</div>"
      ],
      "text/plain": [
       "                 model  best_score  \\\n",
       "0                  svm    0.696254   \n",
       "1        random_forest    0.705846   \n",
       "2  logistic_regression    0.716291   \n",
       "3                  KNN    0.666658   \n",
       "\n",
       "                                         best_params  \n",
       "0                       {'C': 1, 'kernel': 'linear'}  \n",
       "1  {'criterion': 'gini', 'min_samples_split': 4, ...  \n",
       "2                                           {'C': 5}  \n",
       "3                {'leaf_size': 30, 'n_neighbors': 8}  "
      ]
     },
     "execution_count": 54,
     "metadata": {},
     "output_type": "execute_result"
    }
   ],
   "source": [
    "#Displaying model results\n",
    "\n",
    "model_results"
   ]
  },
  {
   "cell_type": "code",
   "execution_count": 55,
   "metadata": {},
   "outputs": [],
   "source": [
    "# Finding the best train-test split using Bias Variance Tradeoff\n",
    "\n",
    "from sklearn.model_selection import train_test_split"
   ]
  },
  {
   "cell_type": "code",
   "execution_count": 56,
   "metadata": {},
   "outputs": [],
   "source": [
    "# Finding best split to split the overall data\n",
    "\n",
    "train_score=[]\n",
    "test_score=[]\n",
    "splits = []\n",
    "lr_bvt=LogisticRegression(solver='liblinear',multi_class='auto',C=5)\n",
    "for i in range(0,30):\n",
    "    X_train_bvt, X_test_bvt, y_train_bvt, y_test_bvt = train_test_split(X, y, test_size=0.20,shuffle=True)\n",
    "    lr_bvt.fit(X_train_bvt,y_train_bvt)\n",
    "    splits.append({\n",
    "        \"X_train\":X_train_bvt,\n",
    "        \"X_test\":X_test_bvt,\n",
    "        \"y_train\":y_train_bvt,\n",
    "        \"y_test\":y_test_bvt})\n",
    "    train_score.append(1 - lr_bvt.score(X_train_bvt,y_train_bvt))\n",
    "    test_score.append(1 - lr_bvt.score(X_test_bvt,y_test_bvt))"
   ]
  },
  {
   "cell_type": "code",
   "execution_count": 57,
   "metadata": {
    "scrolled": true
   },
   "outputs": [
    {
     "data": {
      "text/plain": [
       "Text(0.5, 1.0, 'Bias Variance Trade-off Graph')"
      ]
     },
     "execution_count": 57,
     "metadata": {},
     "output_type": "execute_result"
    },
    {
     "data": {
      "image/png": "[encoded data removed]",
      "text/plain": [
       "<Figure size 1080x432 with 1 Axes>"
      ]
     },
     "metadata": {},
     "output_type": "display_data"
    }
   ],
   "source": [
    "#Visuvalizing Bias and Variance of the data\n",
    "\n",
    "plt.figure(figsize=(15,6))\n",
    "plt.plot(range(0,30),train_score,label=\"Training error\")\n",
    "plt.plot(range(0,30),test_score,label=\"Test error\")\n",
    "plt.xlabel(\"Iteration\")\n",
    "plt.ylabel(\"Error Rate\")\n",
    "plt.legend(loc=\"best\")\n",
    "plt.title(\"Bias Variance Trade-off Graph\")"
   ]
  },
  {
   "cell_type": "code",
   "execution_count": 58,
   "metadata": {},
   "outputs": [],
   "source": [
    "diff=abs(np.array(train_score)-np.array(test_score))\n",
    "best_split_index = np.argmin(diff)\n",
    "best_split=splits[best_split_index]\n",
    "X_train = best_split[\"X_train\"]\n",
    "X_test = best_split[\"X_test\"]\n",
    "y_train = best_split[\"y_train\"]\n",
    "y_test = best_split[\"y_test\"]"
   ]
  },
  {
   "cell_type": "code",
   "execution_count": 59,
   "metadata": {},
   "outputs": [],
   "source": [
    "logistic_regression = LogisticRegression(solver='liblinear',multi_class='auto',C=5)"
   ]
  },
  {
   "cell_type": "code",
   "execution_count": 60,
   "metadata": {
    "scrolled": true
   },
   "outputs": [
    {
     "data": {
      "text/plain": [
       "LogisticRegression(C=5, solver='liblinear')"
      ]
     },
     "execution_count": 60,
     "metadata": {},
     "output_type": "execute_result"
    }
   ],
   "source": [
    "logistic_regression.fit(X_train,y_train)"
   ]
  },
  {
   "cell_type": "code",
   "execution_count": 61,
   "metadata": {},
   "outputs": [],
   "source": [
    "y_pred = logistic_regression.predict(X_test)\n",
    "yscore = logistic_regression.score(X_test,y_test)"
   ]
  },
  {
   "cell_type": "code",
   "execution_count": 62,
   "metadata": {
    "scrolled": true
   },
   "outputs": [
    {
     "name": "stdout",
     "output_type": "stream",
     "text": [
      "Classification Report:\n",
      "               precision    recall  f1-score   support\n",
      "\n",
      "           0       0.80      0.75      0.78       171\n",
      "           1       0.58      0.65      0.61        91\n",
      "\n",
      "    accuracy                           0.72       262\n",
      "   macro avg       0.69      0.70      0.70       262\n",
      "weighted avg       0.73      0.72      0.72       262\n",
      "\n"
     ]
    }
   ],
   "source": [
    "# Model Evaluation:-\n",
    "\n",
    "#printing Classification Report\n",
    "from sklearn.metrics import confusion_matrix,classification_report\n",
    "print(\"Classification Report:\\n\" , classification_report(y_pred,y_test))"
   ]
  },
  {
   "cell_type": "code",
   "execution_count": 63,
   "metadata": {
    "scrolled": true
   },
   "outputs": [
    {
     "data": {
      "text/plain": [
       "Index(['Pclass', 'Sex', 'Age', 'SibSp', 'Parch', 'Fare', 'Embarked'], dtype='object')"
      ]
     },
     "execution_count": 63,
     "metadata": {},
     "output_type": "execute_result"
    }
   ],
   "source": [
    "X_train.columns"
   ]
  },
  {
   "cell_type": "code",
   "execution_count": 64,
   "metadata": {
    "scrolled": true
   },
   "outputs": [
    {
     "name": "stdout",
     "output_type": "stream",
     "text": [
      "Confusion matrix, without normalization\n",
      "     0   1\n",
      "0  129  32\n",
      "1   42  59\n",
      "Normalized confusion matrix\n",
      "          0         1\n",
      "0  0.801242  0.198758\n",
      "1  0.415842  0.584158\n"
     ]
    },
    {
     "data": {
      "image/png": "[encoded data removed]",
      "text/plain": [
       "<Figure size 432x288 with 2 Axes>"
      ]
     },
     "metadata": {},
     "output_type": "display_data"
    },
    {
     "data": {
      "image/png": "[encoded data removed]",
      "text/plain": [
       "<Figure size 432x288 with 2 Axes>"
      ]
     },
     "metadata": {},
     "output_type": "display_data"
    }
   ],
   "source": [
    "# Plot non-normalized confusion matrix\n",
    "\n",
    "class_names = le.inverse_transform([0,1])\n",
    "from sklearn.metrics import plot_confusion_matrix\n",
    "titles_options = [(\"Confusion matrix, without normalization\", None),\n",
    "                  (\"Normalized confusion matrix\", 'true')]\n",
    "for title, normalize in titles_options:\n",
    "    disp = plot_confusion_matrix(logistic_regression, X_test, y_test,\n",
    "                                 display_labels=class_names,\n",
    "                                 cmap=plt.cm.Blues,\n",
    "                                 normalize=normalize)\n",
    "    disp.ax_.set_title(title)\n",
    "    plt.xticks(rotation=\"vertical\")\n",
    "\n",
    "    print(title)\n",
    "    print(pd.DataFrame(disp.confusion_matrix))\n",
    "\n",
    "plt.show()"
   ]
  },
  {
   "cell_type": "code",
   "execution_count": 65,
   "metadata": {},
   "outputs": [],
   "source": [
    "# Feature Importance evaluation\n",
    "\n",
    "from sklearn.inspection import permutation_importance\n",
    "r = permutation_importance(logistic_regression, X_train, y_train,n_repeats=30,random_state=0)"
   ]
  },
  {
   "cell_type": "code",
   "execution_count": 66,
   "metadata": {},
   "outputs": [
    {
     "name": "stdout",
     "output_type": "stream",
     "text": [
      "FEATURE IMPORTANCES:\n",
      "Sex                                :14.86 +/- 0.012\n",
      "Pclass                             :7.13 +/- 0.010\n",
      "Age                                :3.27 +/- 0.008\n",
      "SibSp                              :1.16 +/- 0.004\n"
     ]
    }
   ],
   "source": [
    "print(\"FEATURE IMPORTANCES:\")\n",
    "for i in r.importances_mean.argsort()[::-1]:\n",
    "    if r.importances_mean[i] - 2 * r.importances_std[i] > 0:\n",
    "            print(f\"{X_train.columns[i]:<35}:\"\n",
    "                 f\"{r.importances_mean[i]*100:.2f}\"\n",
    "                    f\" +/- {r.importances_std[i]:.3f}\")"
   ]
  }
 ],
 "metadata": {
  "kernelspec": {
   "display_name": "Python 3",
   "language": "python",
   "name": "python3"
  },
  "language_info": {
   "codemirror_mode": {
    "name": "ipython",
    "version": 3
   },
   "file_extension": ".py",
   "mimetype": "text/x-python",
   "name": "python",
   "nbconvert_exporter": "python",
   "pygments_lexer": "ipython3",
   "version": "3.8.0"
  }
 },
 "nbformat": 4,
 "nbformat_minor": 4
}

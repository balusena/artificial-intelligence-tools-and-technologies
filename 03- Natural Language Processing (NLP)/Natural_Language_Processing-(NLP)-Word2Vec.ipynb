{
 "cells": [
  {
   "cell_type": "code",
   "execution_count": 1,
   "metadata": {},
   "outputs": [],
   "source": [
    "#Bag-Of-Words and TF-IDF Problems.\n",
    "\n",
    "#1.Both BOW & TF-IDF approach semantic information is not stored i.e, there is no proper relation b/w word to word.\n",
    "#2.TF-IDF gives importance to uncommonwords.\n",
    "#3.There is definately chance of over fitting.\n",
    "\n",
    "#In order to overcome the above situation we have to use Word2Vec\n",
    "\n",
    "#1.In this specific model,each word is bascially represented as a vector of 32 or more dimension instead of a single number.\n",
    "#2.Here the semantic information and relation between different words is also preserved.\n",
    "\n",
    "#Steps to create Word2Vec\n",
    "\n",
    "#1.Tokenization of the sentences.\n",
    "#2.Create Histograms/Frequency tables.\n",
    "#3.Take most frequent words.\n",
    "#4.Create a matrix with all the unique words.It also represent the occurance relation between the words.\n",
    "\n",
    "#Import the below libraries\n",
    "\n",
    "import nltk\n",
    "from gensim.models import Word2Vec\n",
    "from nltk.corpus import stopwords\n",
    "import re"
   ]
  },
  {
   "cell_type": "code",
   "execution_count": 2,
   "metadata": {},
   "outputs": [],
   "source": [
    "paragraph = \"\"\"I have three visions for India. In 3000 years of our history, people from all over \n",
    "               the world have come and invaded us, captured our lands, conquered our minds. \n",
    "               From Alexander onwards, the Greeks, the Turks, the Moguls, the Portuguese, the British,\n",
    "               the French, the Dutch, all of them came and looted us, took over what was ours. \n",
    "               Yet we have not done this to any other nation. We have not conquered anyone. \n",
    "               We have not grabbed their land, their culture, \n",
    "               their history and tried to enforce our way of life on them. \n",
    "               Why? Because we respect the freedom of others.That is why my \n",
    "               first vision is that of freedom. I believe that India got its first vision of \n",
    "               this in 1857, when we started the War of Independence. It is this freedom that\n",
    "               we must protect and nurture and build on. If we are not free, no one will respect us.\n",
    "               My second vision for India’s development. For fifty years we have been a developing nation.\n",
    "               It is time we see ourselves as a developed nation. We are among the top 5 nations of the world\n",
    "               in terms of GDP. We have a 10 percent growth rate in most areas. Our poverty levels are falling.\n",
    "               Our achievements are being globally recognised today. Yet we lack the self-confidence to\n",
    "               see ourselves as a developed nation, self-reliant and self-assured. Isn’t this incorrect?\n",
    "               I have a third vision. India must stand up to the world. Because I believe that unless India \n",
    "               stands up to the world, no one will respect us. Only strength respects strength. We must be \n",
    "               strong not only as a military power but also as an economic power. Both must go hand-in-hand. \n",
    "               My good fortune was to have worked with three great minds. Dr. Vikram Sarabhai of the Dept. of \n",
    "               space, Professor Satish Dhawan, who succeeded him and Dr. Brahm Prakash, father of nuclear material.\n",
    "               I was lucky to have worked with all three of them closely and consider this the great opportunity of my life. \n",
    "               I see four milestones in my career\"\"\""
   ]
  },
  {
   "cell_type": "code",
   "execution_count": 3,
   "metadata": {},
   "outputs": [],
   "source": [
    "# Preprocessing the data\n",
    "\n",
    "text = re.sub(r'\\[[0-9]*\\]',' ',paragraph)\n",
    "text = re.sub(r'\\s+',' ',text)\n",
    "text = text.lower()\n",
    "text = re.sub(r'\\d',' ',text)\n",
    "text = re.sub(r'\\s+',' ',text)"
   ]
  },
  {
   "cell_type": "code",
   "execution_count": 4,
   "metadata": {
    "scrolled": true
   },
   "outputs": [
    {
     "data": {
      "text/plain": [
       "'i have three visions for india. in years of our history, people from all over the world have come and invaded us, captured our lands, conquered our minds. from alexander onwards, the greeks, the turks, the moguls, the portuguese, the british, the french, the dutch, all of them came and looted us, took over what was ours. yet we have not done this to any other nation. we have not conquered anyone. we have not grabbed their land, their culture, their history and tried to enforce our way of life on them. why? because we respect the freedom of others.that is why my first vision is that of freedom. i believe that india got its first vision of this in , when we started the war of independence. it is this freedom that we must protect and nurture and build on. if we are not free, no one will respect us. my second vision for india’s development. for fifty years we have been a developing nation. it is time we see ourselves as a developed nation. we are among the top nations of the world in terms of gdp. we have a percent growth rate in most areas. our poverty levels are falling. our achievements are being globally recognised today. yet we lack the self-confidence to see ourselves as a developed nation, self-reliant and self-assured. isn’t this incorrect? i have a third vision. india must stand up to the world. because i believe that unless india stands up to the world, no one will respect us. only strength respects strength. we must be strong not only as a military power but also as an economic power. both must go hand-in-hand. my good fortune was to have worked with three great minds. dr. vikram sarabhai of the dept. of space, professor satish dhawan, who succeeded him and dr. brahm prakash, father of nuclear material. i was lucky to have worked with all three of them closely and consider this the great opportunity of my life. i see four milestones in my career'"
      ]
     },
     "execution_count": 4,
     "metadata": {},
     "output_type": "execute_result"
    }
   ],
   "source": [
    "text"
   ]
  },
  {
   "cell_type": "code",
   "execution_count": 5,
   "metadata": {},
   "outputs": [],
   "source": [
    "# Preparing the dataset\n",
    "\n",
    "sentences = nltk.sent_tokenize(text)\n",
    "sentences = [nltk.word_tokenize(sentence) for sentence in sentences]\n",
    "for i in range(len(sentences)):\n",
    "    sentences[i] = [word for word in sentences[i] if word not in stopwords.words('english')]    "
   ]
  },
  {
   "cell_type": "code",
   "execution_count": 6,
   "metadata": {
    "scrolled": false
   },
   "outputs": [
    {
     "data": {
      "text/plain": [
       "[['three', 'visions', 'india', '.'],\n",
       " ['years',\n",
       "  'history',\n",
       "  ',',\n",
       "  'people',\n",
       "  'world',\n",
       "  'come',\n",
       "  'invaded',\n",
       "  'us',\n",
       "  ',',\n",
       "  'captured',\n",
       "  'lands',\n",
       "  ',',\n",
       "  'conquered',\n",
       "  'minds',\n",
       "  '.'],\n",
       " ['alexander',\n",
       "  'onwards',\n",
       "  ',',\n",
       "  'greeks',\n",
       "  ',',\n",
       "  'turks',\n",
       "  ',',\n",
       "  'moguls',\n",
       "  ',',\n",
       "  'portuguese',\n",
       "  ',',\n",
       "  'british',\n",
       "  ',',\n",
       "  'french',\n",
       "  ',',\n",
       "  'dutch',\n",
       "  ',',\n",
       "  'came',\n",
       "  'looted',\n",
       "  'us',\n",
       "  ',',\n",
       "  'took',\n",
       "  '.'],\n",
       " ['yet', 'done', 'nation', '.'],\n",
       " ['conquered', 'anyone', '.'],\n",
       " ['grabbed',\n",
       "  'land',\n",
       "  ',',\n",
       "  'culture',\n",
       "  ',',\n",
       "  'history',\n",
       "  'tried',\n",
       "  'enforce',\n",
       "  'way',\n",
       "  'life',\n",
       "  '.'],\n",
       " ['?'],\n",
       " ['respect', 'freedom', 'others.that', 'first', 'vision', 'freedom', '.'],\n",
       " ['believe',\n",
       "  'india',\n",
       "  'got',\n",
       "  'first',\n",
       "  'vision',\n",
       "  ',',\n",
       "  'started',\n",
       "  'war',\n",
       "  'independence',\n",
       "  '.'],\n",
       " ['freedom', 'must', 'protect', 'nurture', 'build', '.'],\n",
       " ['free', ',', 'one', 'respect', 'us', '.'],\n",
       " ['second', 'vision', 'india', '’', 'development', '.'],\n",
       " ['fifty', 'years', 'developing', 'nation', '.'],\n",
       " ['time', 'see', 'developed', 'nation', '.'],\n",
       " ['among', 'top', 'nations', 'world', 'terms', 'gdp', '.'],\n",
       " ['percent', 'growth', 'rate', 'areas', '.'],\n",
       " ['poverty', 'levels', 'falling', '.'],\n",
       " ['achievements', 'globally', 'recognised', 'today', '.'],\n",
       " ['yet',\n",
       "  'lack',\n",
       "  'self-confidence',\n",
       "  'see',\n",
       "  'developed',\n",
       "  'nation',\n",
       "  ',',\n",
       "  'self-reliant',\n",
       "  'self-assured',\n",
       "  '.'],\n",
       " ['’', 'incorrect', '?'],\n",
       " ['third', 'vision', '.'],\n",
       " ['india', 'must', 'stand', 'world', '.'],\n",
       " ['believe',\n",
       "  'unless',\n",
       "  'india',\n",
       "  'stands',\n",
       "  'world',\n",
       "  ',',\n",
       "  'one',\n",
       "  'respect',\n",
       "  'us',\n",
       "  '.'],\n",
       " ['strength', 'respects', 'strength', '.'],\n",
       " ['must', 'strong', 'military', 'power', 'also', 'economic', 'power', '.'],\n",
       " ['must', 'go', 'hand-in-hand', '.'],\n",
       " ['good', 'fortune', 'worked', 'three', 'great', 'minds', '.'],\n",
       " ['dr.', 'vikram', 'sarabhai', 'dept', '.'],\n",
       " ['space',\n",
       "  ',',\n",
       "  'professor',\n",
       "  'satish',\n",
       "  'dhawan',\n",
       "  ',',\n",
       "  'succeeded',\n",
       "  'dr.',\n",
       "  'brahm',\n",
       "  'prakash',\n",
       "  ',',\n",
       "  'father',\n",
       "  'nuclear',\n",
       "  'material',\n",
       "  '.'],\n",
       " ['lucky',\n",
       "  'worked',\n",
       "  'three',\n",
       "  'closely',\n",
       "  'consider',\n",
       "  'great',\n",
       "  'opportunity',\n",
       "  'life',\n",
       "  '.'],\n",
       " ['see', 'four', 'milestones', 'career']]"
      ]
     },
     "execution_count": 6,
     "metadata": {},
     "output_type": "execute_result"
    }
   ],
   "source": [
    "sentences"
   ]
  },
  {
   "cell_type": "code",
   "execution_count": 7,
   "metadata": {},
   "outputs": [],
   "source": [
    "# Training the Word2Vec model\n",
    "\n",
    "model = Word2Vec(sentences, min_count=1)"
   ]
  },
  {
   "cell_type": "code",
   "execution_count": 8,
   "metadata": {
    "scrolled": true
   },
   "outputs": [
    {
     "data": {
      "text/plain": [
       "<gensim.models.word2vec.Word2Vec at 0x23148bf21f0>"
      ]
     },
     "execution_count": 8,
     "metadata": {},
     "output_type": "execute_result"
    }
   ],
   "source": [
    "model"
   ]
  },
  {
   "cell_type": "code",
   "execution_count": 9,
   "metadata": {},
   "outputs": [],
   "source": [
    "# To find the vocublary in the Word2Vec model and storing it in words object.\n",
    "\n",
    "words = model.wv.vocab"
   ]
  },
  {
   "cell_type": "code",
   "execution_count": 10,
   "metadata": {
    "scrolled": false
   },
   "outputs": [
    {
     "data": {
      "text/plain": [
       "{'three': <gensim.models.keyedvectors.Vocab at 0x23148bf2bb0>,\n",
       " 'visions': <gensim.models.keyedvectors.Vocab at 0x23148bf22e0>,\n",
       " 'india': <gensim.models.keyedvectors.Vocab at 0x23148bf2af0>,\n",
       " '.': <gensim.models.keyedvectors.Vocab at 0x23148bf2400>,\n",
       " 'years': <gensim.models.keyedvectors.Vocab at 0x23148bf2e20>,\n",
       " 'history': <gensim.models.keyedvectors.Vocab at 0x23148bf2fd0>,\n",
       " ',': <gensim.models.keyedvectors.Vocab at 0x23148bf2d60>,\n",
       " 'people': <gensim.models.keyedvectors.Vocab at 0x23148bf2760>,\n",
       " 'world': <gensim.models.keyedvectors.Vocab at 0x23148bf2cd0>,\n",
       " 'come': <gensim.models.keyedvectors.Vocab at 0x23148bf2b20>,\n",
       " 'invaded': <gensim.models.keyedvectors.Vocab at 0x23148bf2e80>,\n",
       " 'us': <gensim.models.keyedvectors.Vocab at 0x23148bf2b80>,\n",
       " 'captured': <gensim.models.keyedvectors.Vocab at 0x23148bcde50>,\n",
       " 'lands': <gensim.models.keyedvectors.Vocab at 0x23148bcdee0>,\n",
       " 'conquered': <gensim.models.keyedvectors.Vocab at 0x23149d1d070>,\n",
       " 'minds': <gensim.models.keyedvectors.Vocab at 0x23149d1d0d0>,\n",
       " 'alexander': <gensim.models.keyedvectors.Vocab at 0x23149d1d130>,\n",
       " 'onwards': <gensim.models.keyedvectors.Vocab at 0x23149d1d190>,\n",
       " 'greeks': <gensim.models.keyedvectors.Vocab at 0x23149d1d1f0>,\n",
       " 'turks': <gensim.models.keyedvectors.Vocab at 0x23149d1d250>,\n",
       " 'moguls': <gensim.models.keyedvectors.Vocab at 0x23149d1d2b0>,\n",
       " 'portuguese': <gensim.models.keyedvectors.Vocab at 0x23149d1d310>,\n",
       " 'british': <gensim.models.keyedvectors.Vocab at 0x23149d1d370>,\n",
       " 'french': <gensim.models.keyedvectors.Vocab at 0x23149d1d3d0>,\n",
       " 'dutch': <gensim.models.keyedvectors.Vocab at 0x23149d1d430>,\n",
       " 'came': <gensim.models.keyedvectors.Vocab at 0x23149d1d490>,\n",
       " 'looted': <gensim.models.keyedvectors.Vocab at 0x23149d1d4f0>,\n",
       " 'took': <gensim.models.keyedvectors.Vocab at 0x23149d1d550>,\n",
       " 'yet': <gensim.models.keyedvectors.Vocab at 0x23149d1d5b0>,\n",
       " 'done': <gensim.models.keyedvectors.Vocab at 0x23149d1d610>,\n",
       " 'nation': <gensim.models.keyedvectors.Vocab at 0x23149d1d670>,\n",
       " 'anyone': <gensim.models.keyedvectors.Vocab at 0x23149d1d6d0>,\n",
       " 'grabbed': <gensim.models.keyedvectors.Vocab at 0x23149d1d730>,\n",
       " 'land': <gensim.models.keyedvectors.Vocab at 0x23149d1d790>,\n",
       " 'culture': <gensim.models.keyedvectors.Vocab at 0x23149d1d7f0>,\n",
       " 'tried': <gensim.models.keyedvectors.Vocab at 0x23149d1d850>,\n",
       " 'enforce': <gensim.models.keyedvectors.Vocab at 0x23149d1d8b0>,\n",
       " 'way': <gensim.models.keyedvectors.Vocab at 0x23149d1d910>,\n",
       " 'life': <gensim.models.keyedvectors.Vocab at 0x23149d1d970>,\n",
       " '?': <gensim.models.keyedvectors.Vocab at 0x23149d1d9d0>,\n",
       " 'respect': <gensim.models.keyedvectors.Vocab at 0x23149d1da30>,\n",
       " 'freedom': <gensim.models.keyedvectors.Vocab at 0x23149d1da90>,\n",
       " 'others.that': <gensim.models.keyedvectors.Vocab at 0x23149d1daf0>,\n",
       " 'first': <gensim.models.keyedvectors.Vocab at 0x23149d1db50>,\n",
       " 'vision': <gensim.models.keyedvectors.Vocab at 0x23149d1dbb0>,\n",
       " 'believe': <gensim.models.keyedvectors.Vocab at 0x23149d1dc10>,\n",
       " 'got': <gensim.models.keyedvectors.Vocab at 0x23149d1dc70>,\n",
       " 'started': <gensim.models.keyedvectors.Vocab at 0x23149d1dcd0>,\n",
       " 'war': <gensim.models.keyedvectors.Vocab at 0x23149d1dd30>,\n",
       " 'independence': <gensim.models.keyedvectors.Vocab at 0x23149d1dd90>,\n",
       " 'must': <gensim.models.keyedvectors.Vocab at 0x23149d1ddf0>,\n",
       " 'protect': <gensim.models.keyedvectors.Vocab at 0x23149d1de50>,\n",
       " 'nurture': <gensim.models.keyedvectors.Vocab at 0x23149d1deb0>,\n",
       " 'build': <gensim.models.keyedvectors.Vocab at 0x23149d1df10>,\n",
       " 'free': <gensim.models.keyedvectors.Vocab at 0x23149d1df70>,\n",
       " 'one': <gensim.models.keyedvectors.Vocab at 0x23149d1dfd0>,\n",
       " 'second': <gensim.models.keyedvectors.Vocab at 0x23149d1f0d0>,\n",
       " '’': <gensim.models.keyedvectors.Vocab at 0x23149d1f190>,\n",
       " 'development': <gensim.models.keyedvectors.Vocab at 0x23149d1f1f0>,\n",
       " 'fifty': <gensim.models.keyedvectors.Vocab at 0x23149d1f130>,\n",
       " 'developing': <gensim.models.keyedvectors.Vocab at 0x23149d1f070>,\n",
       " 'time': <gensim.models.keyedvectors.Vocab at 0x23149d1f250>,\n",
       " 'see': <gensim.models.keyedvectors.Vocab at 0x23149d1f2b0>,\n",
       " 'developed': <gensim.models.keyedvectors.Vocab at 0x23149d1f310>,\n",
       " 'among': <gensim.models.keyedvectors.Vocab at 0x23149d1f370>,\n",
       " 'top': <gensim.models.keyedvectors.Vocab at 0x23149d1f3d0>,\n",
       " 'nations': <gensim.models.keyedvectors.Vocab at 0x23149d1f430>,\n",
       " 'terms': <gensim.models.keyedvectors.Vocab at 0x23149d1f490>,\n",
       " 'gdp': <gensim.models.keyedvectors.Vocab at 0x23149d1f4f0>,\n",
       " 'percent': <gensim.models.keyedvectors.Vocab at 0x23149d1f550>,\n",
       " 'growth': <gensim.models.keyedvectors.Vocab at 0x23149d1f5b0>,\n",
       " 'rate': <gensim.models.keyedvectors.Vocab at 0x23149d1f610>,\n",
       " 'areas': <gensim.models.keyedvectors.Vocab at 0x23149d1f670>,\n",
       " 'poverty': <gensim.models.keyedvectors.Vocab at 0x23149d1f6d0>,\n",
       " 'levels': <gensim.models.keyedvectors.Vocab at 0x23149d1f730>,\n",
       " 'falling': <gensim.models.keyedvectors.Vocab at 0x23149d1f790>,\n",
       " 'achievements': <gensim.models.keyedvectors.Vocab at 0x23149d1f7f0>,\n",
       " 'globally': <gensim.models.keyedvectors.Vocab at 0x23149d1f850>,\n",
       " 'recognised': <gensim.models.keyedvectors.Vocab at 0x23149d1f8b0>,\n",
       " 'today': <gensim.models.keyedvectors.Vocab at 0x23149d1f910>,\n",
       " 'lack': <gensim.models.keyedvectors.Vocab at 0x23149d1f970>,\n",
       " 'self-confidence': <gensim.models.keyedvectors.Vocab at 0x23149d1f9d0>,\n",
       " 'self-reliant': <gensim.models.keyedvectors.Vocab at 0x23149d1fa30>,\n",
       " 'self-assured': <gensim.models.keyedvectors.Vocab at 0x23149d1fa90>,\n",
       " 'incorrect': <gensim.models.keyedvectors.Vocab at 0x23149d1faf0>,\n",
       " 'third': <gensim.models.keyedvectors.Vocab at 0x23149d1fb50>,\n",
       " 'stand': <gensim.models.keyedvectors.Vocab at 0x23149d1fbb0>,\n",
       " 'unless': <gensim.models.keyedvectors.Vocab at 0x23149d1fc10>,\n",
       " 'stands': <gensim.models.keyedvectors.Vocab at 0x23149d1fc70>,\n",
       " 'strength': <gensim.models.keyedvectors.Vocab at 0x23149d1fcd0>,\n",
       " 'respects': <gensim.models.keyedvectors.Vocab at 0x23149d1fd30>,\n",
       " 'strong': <gensim.models.keyedvectors.Vocab at 0x23149d1fd90>,\n",
       " 'military': <gensim.models.keyedvectors.Vocab at 0x23149d1fdf0>,\n",
       " 'power': <gensim.models.keyedvectors.Vocab at 0x23149d1fe50>,\n",
       " 'also': <gensim.models.keyedvectors.Vocab at 0x23149d1feb0>,\n",
       " 'economic': <gensim.models.keyedvectors.Vocab at 0x23149d1ff10>,\n",
       " 'go': <gensim.models.keyedvectors.Vocab at 0x23149d1ff70>,\n",
       " 'hand-in-hand': <gensim.models.keyedvectors.Vocab at 0x23149d1ffd0>,\n",
       " 'good': <gensim.models.keyedvectors.Vocab at 0x23149d20070>,\n",
       " 'fortune': <gensim.models.keyedvectors.Vocab at 0x23149d200d0>,\n",
       " 'worked': <gensim.models.keyedvectors.Vocab at 0x23149d20130>,\n",
       " 'great': <gensim.models.keyedvectors.Vocab at 0x23149d20190>,\n",
       " 'dr.': <gensim.models.keyedvectors.Vocab at 0x23149d201f0>,\n",
       " 'vikram': <gensim.models.keyedvectors.Vocab at 0x23149d20250>,\n",
       " 'sarabhai': <gensim.models.keyedvectors.Vocab at 0x23149d202b0>,\n",
       " 'dept': <gensim.models.keyedvectors.Vocab at 0x23149d20310>,\n",
       " 'space': <gensim.models.keyedvectors.Vocab at 0x23149d20370>,\n",
       " 'professor': <gensim.models.keyedvectors.Vocab at 0x23149d203d0>,\n",
       " 'satish': <gensim.models.keyedvectors.Vocab at 0x23149d20430>,\n",
       " 'dhawan': <gensim.models.keyedvectors.Vocab at 0x23149d20490>,\n",
       " 'succeeded': <gensim.models.keyedvectors.Vocab at 0x23149d204f0>,\n",
       " 'brahm': <gensim.models.keyedvectors.Vocab at 0x23149d20550>,\n",
       " 'prakash': <gensim.models.keyedvectors.Vocab at 0x23149d205b0>,\n",
       " 'father': <gensim.models.keyedvectors.Vocab at 0x23149d20610>,\n",
       " 'nuclear': <gensim.models.keyedvectors.Vocab at 0x23149d20670>,\n",
       " 'material': <gensim.models.keyedvectors.Vocab at 0x23149d206d0>,\n",
       " 'lucky': <gensim.models.keyedvectors.Vocab at 0x23149d20730>,\n",
       " 'closely': <gensim.models.keyedvectors.Vocab at 0x23149d20790>,\n",
       " 'consider': <gensim.models.keyedvectors.Vocab at 0x23149d207f0>,\n",
       " 'opportunity': <gensim.models.keyedvectors.Vocab at 0x23149d20850>,\n",
       " 'four': <gensim.models.keyedvectors.Vocab at 0x23149d208b0>,\n",
       " 'milestones': <gensim.models.keyedvectors.Vocab at 0x23149d20910>,\n",
       " 'career': <gensim.models.keyedvectors.Vocab at 0x23149d20970>}"
      ]
     },
     "execution_count": 10,
     "metadata": {},
     "output_type": "execute_result"
    }
   ],
   "source": [
    "words"
   ]
  },
  {
   "cell_type": "code",
   "execution_count": 11,
   "metadata": {},
   "outputs": [],
   "source": [
    "# Finding the Word Vectors which is having 100 dimensions\n",
    "\n",
    "vector = model.wv['war']"
   ]
  },
  {
   "cell_type": "code",
   "execution_count": 12,
   "metadata": {
    "scrolled": false
   },
   "outputs": [
    {
     "data": {
      "text/plain": [
       "array([ 4.4022263e-03, -3.8684490e-03,  1.6553074e-03, -1.8287807e-03,\n",
       "       -2.8443511e-04,  2.9032589e-03, -4.5074304e-03, -2.6232575e-03,\n",
       "        1.7816043e-03,  3.9236206e-03,  2.3343458e-03, -4.0241508e-03,\n",
       "       -4.5686723e-03,  4.2237589e-04, -2.5570171e-03, -3.0923530e-03,\n",
       "       -1.2126168e-03,  2.1854229e-03,  6.9187587e-04, -9.8811346e-04,\n",
       "       -4.9386863e-03,  2.4478252e-03,  2.7997827e-03, -4.6450472e-03,\n",
       "        2.5901883e-03, -4.5569534e-03, -4.5244335e-03,  2.1328661e-03,\n",
       "       -3.6939844e-03, -4.7978885e-03,  4.7694892e-03, -3.6405944e-03,\n",
       "        4.9797548e-03,  2.0866306e-03,  1.8768971e-03,  1.8696494e-03,\n",
       "       -4.1966438e-03,  4.8899655e-03, -2.6634722e-03,  4.3998654e-03,\n",
       "       -3.3602340e-03,  4.4900272e-03, -3.7113968e-03, -4.5080157e-03,\n",
       "       -1.0136376e-03, -4.2730337e-03, -1.0188768e-03, -4.3028668e-03,\n",
       "       -2.7205467e-03,  7.9278619e-04, -1.2844447e-03, -2.2944794e-03,\n",
       "       -1.0524625e-03, -3.9124712e-03,  3.1614250e-03,  2.2547094e-03,\n",
       "        3.9311205e-03, -1.8756148e-04,  3.7578836e-03,  1.2185221e-03,\n",
       "       -1.8686517e-03, -3.9321738e-03,  3.8163227e-03, -4.0793251e-03,\n",
       "       -1.1312439e-03, -9.9037285e-04, -2.7688679e-03, -2.2129603e-03,\n",
       "        1.0479498e-03, -3.5659499e-03, -7.8259746e-04, -4.0161965e-05,\n",
       "        2.9487628e-03,  1.3436590e-03, -1.4678633e-03,  9.0884714e-04,\n",
       "       -2.5810227e-03,  3.5320367e-03, -3.3189007e-03, -1.4438519e-03,\n",
       "        8.7128329e-04,  4.4362708e-03, -1.1713015e-03, -1.1483635e-05,\n",
       "       -1.2151058e-03,  2.7405410e-03,  1.9454143e-03,  3.2400101e-04,\n",
       "       -4.1871225e-03, -3.4165916e-03,  3.7613062e-03, -2.0318814e-03,\n",
       "        4.9624867e-03,  3.0430770e-03,  3.7904009e-03,  2.5831205e-03,\n",
       "        1.7638066e-03, -1.9262438e-03,  3.1009859e-03,  4.1314457e-03],\n",
       "      dtype=float32)"
      ]
     },
     "execution_count": 12,
     "metadata": {},
     "output_type": "execute_result"
    }
   ],
   "source": [
    "vector"
   ]
  },
  {
   "cell_type": "code",
   "execution_count": 13,
   "metadata": {},
   "outputs": [],
   "source": [
    "# Most similar words\n",
    "\n",
    "similar = model.wv.most_similar('war')"
   ]
  },
  {
   "cell_type": "code",
   "execution_count": 14,
   "metadata": {},
   "outputs": [
    {
     "data": {
      "text/plain": [
       "[('economic', 0.25299233198165894),\n",
       " ('go', 0.2264486700296402),\n",
       " ('first', 0.20656314492225647),\n",
       " ('opportunity', 0.19672563672065735),\n",
       " ('lack', 0.19351471960544586),\n",
       " ('material', 0.18700876832008362),\n",
       " ('french', 0.18496647477149963),\n",
       " ('fortune', 0.18455931544303894),\n",
       " ('invaded', 0.1734938770532608),\n",
       " ('falling', 0.171772763133049)]"
      ]
     },
     "execution_count": 14,
     "metadata": {},
     "output_type": "execute_result"
    }
   ],
   "source": [
    "similar"
   ]
  }
 ],
 "metadata": {
  "kernelspec": {
   "display_name": "Python 3",
   "language": "python",
   "name": "python3"
  },
  "language_info": {
   "codemirror_mode": {
    "name": "ipython",
    "version": 3
   },
   "file_extension": ".py",
   "mimetype": "text/x-python",
   "name": "python",
   "nbconvert_exporter": "python",
   "pygments_lexer": "ipython3",
   "version": "3.8.0"
  }
 },
 "nbformat": 4,
 "nbformat_minor": 4
}
